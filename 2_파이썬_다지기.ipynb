{
  "nbformat": 4,
  "nbformat_minor": 0,
  "metadata": {
    "colab": {
      "name": "2.파이썬 다지기.ipynb",
      "provenance": [],
      "collapsed_sections": [
        "YoJ7-6B7omSu",
        "h-SasBjx59qz"
      ],
      "mount_file_id": "1NDXI0h-AFRb9TtiOkt99uwYkKrDVHwug",
      "authorship_tag": "ABX9TyOOlR8cwCEyX0NsUBrqNJZc",
      "include_colab_link": true
    },
    "kernelspec": {
      "name": "python3",
      "display_name": "Python 3"
    },
    "language_info": {
      "name": "python"
    }
  },
  "cells": [
    {
      "cell_type": "markdown",
      "metadata": {
        "id": "view-in-github",
        "colab_type": "text"
      },
      "source": [
        "<a href=\"https://colab.research.google.com/github/falling90/AI_Pre-course/blob/main/2_%ED%8C%8C%EC%9D%B4%EC%8D%AC_%EB%8B%A4%EC%A7%80%EA%B8%B0.ipynb\" target=\"_parent\"><img src=\"https://colab.research.google.com/assets/colab-badge.svg\" alt=\"Open In Colab\"/></a>"
      ]
    },
    {
      "cell_type": "markdown",
      "metadata": {
        "id": "YoJ7-6B7omSu"
      },
      "source": [
        "##4) 파이썬 기초 문법 Ⅲ\n",
        "### 　A. Python Object Oriented Programming"
      ]
    },
    {
      "cell_type": "markdown",
      "metadata": {
        "id": "Po91yX71txJl"
      },
      "source": [
        "> '\\_\\_'는 특수한 예약 함수나 변수 그리고 함수명 변경(맨글링)으로 사용  \n",
        "　-. ex) \\_\\_main\\_\\_, \\_\\_add\\_\\_, \\_\\_str\\_\\_, \\_\\_eq\\_\\_ (매직 매소드)"
      ]
    },
    {
      "cell_type": "code",
      "metadata": {
        "colab": {
          "base_uri": "https://localhost:8080/"
        },
        "id": "n0k6gW6romal",
        "outputId": "7e763cbc-7c97-473d-ffed-f27075aad372"
      },
      "source": [
        "class SoccerPlayer(object):\n",
        "  def __init__(self, name, position, back_number):\n",
        "    self.name = name\n",
        "    self.position = position\n",
        "    self.back_number = back_number\n",
        "\n",
        "  def change_back_number(self, new_number):\n",
        "    print(\"선수의 등번호를 변경합니다 : From %d to %d\" % (self.back_number, new_number))\n",
        "    self.back_number = new_number\n",
        "\n",
        "  def __str__(self):\n",
        "    return \"Hello, My name is %s. I play in %s in center \" % (self.name, self.position)\n",
        "\n",
        "  def __add__(self, other):\n",
        "    return self.name + \" \" + other.name\n",
        "\n",
        "K = SoccerPlayer(\"Kim\", \"FW\", 10)\n",
        "JY = SoccerPlayer(\"JoonYoung\", \"WF\", 10)\n",
        "\n",
        "print(K)\n",
        "print(JY)\n",
        "\n",
        "print(K+JY)"
      ],
      "execution_count": null,
      "outputs": [
        {
          "output_type": "stream",
          "text": [
            "Hello, My name is Kim. I play in FW in center \n",
            "Hello, My name is JoonYoung. I play in WF in center \n",
            "Kim JoonYoung\n"
          ],
          "name": "stdout"
        }
      ]
    },
    {
      "cell_type": "code",
      "metadata": {
        "id": "5KwoaBtZomdH"
      },
      "source": [
        ""
      ],
      "execution_count": null,
      "outputs": []
    },
    {
      "cell_type": "markdown",
      "metadata": {
        "id": "1gxrnO-Xwrjy"
      },
      "source": [
        "> Inheritance (상속)"
      ]
    },
    {
      "cell_type": "code",
      "metadata": {
        "colab": {
          "base_uri": "https://localhost:8080/"
        },
        "id": "gxtrgFEQwrua",
        "outputId": "bbbc01e2-c45d-4be5-9f7f-e8dd387d1eee"
      },
      "source": [
        "class Person(object):\n",
        "  def __init__(self, name, age):\n",
        "      self.name = name\n",
        "      self.age = age\n",
        "\n",
        "class Korean(Person):\n",
        "  pass\n",
        "\n",
        "first_korean = Korean(\"Sungchul\", 35)\n",
        "print(first_korean.name)"
      ],
      "execution_count": null,
      "outputs": [
        {
          "output_type": "stream",
          "text": [
            "Sungchul\n"
          ],
          "name": "stdout"
        }
      ]
    },
    {
      "cell_type": "code",
      "metadata": {
        "id": "Ch8ImcHdxfz_"
      },
      "source": [
        "class Person(object): # 부모 클래스 Person 선언\n",
        "  def __init__(self, name, age, gender):\n",
        "    self.name = name\n",
        "    self.age = age\n",
        "    self.gender = gender\n",
        "\n",
        "  def about_me(self): # Method 선언\n",
        "    print(\"저의 이름은 \", self.name, \"이구요, 제 나이는 \", str(self.age), \"살 입니다.\")"
      ],
      "execution_count": null,
      "outputs": []
    },
    {
      "cell_type": "code",
      "metadata": {
        "id": "toPg2UDcwrw-"
      },
      "source": [
        "class Employee(Person): # 부모 클래스 Person으로 부터 상속\n",
        "  def __init__(self, name, age, gender, salary, hire_date):\n",
        "    super().__init__(name, age, gender) # 부모객체 사용\n",
        "    self.salary = salary\n",
        "    self.hire_date = hire_date # 속성값 추가\n",
        "  \n",
        "  def do_work(self): # 새로운 메서드 추가\n",
        "    print(\"열심히 일을 합니다.\")\n",
        "    \n",
        "  def about_me(self): # 부모 클래스 함수 재정의\n",
        "    super().about_me() # 부모 클래스 함수 사용\n",
        "    print(\"제 급여는 \", self.salary, \"원 이구요, 제 입사일은 \", self.hire_date, \" 입니다.\")"
      ],
      "execution_count": null,
      "outputs": []
    },
    {
      "cell_type": "code",
      "metadata": {
        "id": "1UPpNOSjwrzD"
      },
      "source": [
        ""
      ],
      "execution_count": null,
      "outputs": []
    },
    {
      "cell_type": "markdown",
      "metadata": {
        "id": "kojYLXGIxoiU"
      },
      "source": [
        "> Polymorphism (다형성)"
      ]
    },
    {
      "cell_type": "code",
      "metadata": {
        "colab": {
          "base_uri": "https://localhost:8080/"
        },
        "id": "gb2H_b41wr1S",
        "outputId": "f462a852-24b2-4f23-facf-2b20fec91660"
      },
      "source": [
        "class Animal:\n",
        "  def __init__(self, name): # Constructor of the class\n",
        "    self.name = name\n",
        "  def talk(self): # Abstract method, defined by convention only\n",
        "    raise NotImplementedError(\"Subclass must implement abstract method\")\n",
        "\n",
        "class Cat(Animal):\n",
        "  def talk(self):\n",
        "    return 'Meow!'\n",
        "\n",
        "class Dog(Animal):\n",
        "  def talk(self):\n",
        "    return 'Woof! Woof!'\n",
        "\n",
        "animals = [Cat('Missy'),\n",
        "Cat('Mr. Mistoffelees'),\n",
        "Dog('Lassie')]\n",
        "\n",
        "for animal in animals:\n",
        "  print(animal.name + ': ' + animal.talk())"
      ],
      "execution_count": null,
      "outputs": [
        {
          "output_type": "stream",
          "text": [
            "Missy: Meow!\n",
            "Mr. Mistoffelees: Meow!\n",
            "Lassie: Woof! Woof!\n"
          ],
          "name": "stdout"
        }
      ]
    },
    {
      "cell_type": "code",
      "metadata": {
        "id": "OXAh3GQiomfw"
      },
      "source": [
        ""
      ],
      "execution_count": null,
      "outputs": []
    },
    {
      "cell_type": "markdown",
      "metadata": {
        "id": "EqL2_FhizOfz"
      },
      "source": [
        "> Visibility (가시성) : 객체의 정보를 볼 수 있는 레벨을 조절하는 것  \n",
        "\n",
        "> Encapsulation : 캡슐화 or 정보 은닉 (Information Hiding)  \n",
        "　-. 인터페이스만 알아서 써야함"
      ]
    },
    {
      "cell_type": "code",
      "metadata": {
        "id": "kzWLFWO3zOmp"
      },
      "source": [
        "class Product(object):\n",
        "  pass\n",
        "\n",
        "class Inventory(object):\n",
        "  def __init__(self):\n",
        "    self.__items = []     # __ 를 붙이면 Private 변수로 선언 타객체가 접근 못함\n",
        "\n",
        "  @property   # property decorator : 숨겨진 변수를 반환하게 해줌.\n",
        "  def items(self):\n",
        "    return self.__items\n",
        "\n",
        "  def add_new_item(self, product):\n",
        "    if type(product) == Product:\n",
        "      self.__items.append(product)\n",
        "      print(\"new item added\")\n",
        "    else:\n",
        "      raise ValueError(\"Invalid Item\")\n",
        "\n",
        "  def get_number_of_items(self):\n",
        "    return len(self.__items)"
      ],
      "execution_count": null,
      "outputs": []
    },
    {
      "cell_type": "code",
      "metadata": {
        "colab": {
          "base_uri": "https://localhost:8080/"
        },
        "id": "q14UuqEfzOpP",
        "outputId": "f23f1a05-271d-42fd-bfad-64e7b23cb832"
      },
      "source": [
        "my_inventory = Inventory()\n",
        "my_inventory.add_new_item(Product())\n",
        "my_inventory.add_new_item(Product())\n",
        "print(my_inventory.get_number_of_items())\n",
        "# print(my_inventory.__items)   # 접근이 안되게 막아놓음 (Private 변수 - 외부 접근 방지)\n",
        "# my_inventory.add_new_item(object)\n",
        "\n",
        "print(my_inventory.items)       # property decorator 를 이용해 변수접근\n",
        "\n",
        "my_inventory.items.append(\"KJY\")\n",
        "print(my_inventory.items)"
      ],
      "execution_count": null,
      "outputs": [
        {
          "output_type": "stream",
          "text": [
            "new item added\n",
            "new item added\n",
            "2\n",
            "[<__main__.Product object at 0x7f09eb9abed0>, <__main__.Product object at 0x7f09e5aff810>]\n",
            "[<__main__.Product object at 0x7f09eb9abed0>, <__main__.Product object at 0x7f09e5aff810>, 'KJY']\n"
          ],
          "name": "stdout"
        }
      ]
    },
    {
      "cell_type": "code",
      "metadata": {
        "id": "eIdtwPsQzOr4"
      },
      "source": [
        ""
      ],
      "execution_count": null,
      "outputs": []
    },
    {
      "cell_type": "markdown",
      "metadata": {
        "id": "p323DvyJ2XXH"
      },
      "source": [
        "> Decorator : 일등함수 or 일급 객체\n"
      ]
    },
    {
      "cell_type": "markdown",
      "metadata": {
        "id": "smGxojpq3M0Z"
      },
      "source": [
        "　-. First-Class Objects : 함수를 파라메터로 사용"
      ]
    },
    {
      "cell_type": "code",
      "metadata": {
        "colab": {
          "base_uri": "https://localhost:8080/"
        },
        "id": "4a0eNclq2XgX",
        "outputId": "9de97c1a-79df-4d4b-ad2a-ba8272bce7bf"
      },
      "source": [
        "def square(x):\n",
        "  return x * x\n",
        "f = square\n",
        "print(f(5))\n",
        "\n",
        "def formula(method, argument_list):\n",
        "  return [method(value) for value in argument_list]"
      ],
      "execution_count": null,
      "outputs": [
        {
          "output_type": "stream",
          "text": [
            "25\n"
          ],
          "name": "stdout"
        }
      ]
    },
    {
      "cell_type": "code",
      "metadata": {
        "id": "n8xqCphp2Xi0"
      },
      "source": [
        ""
      ],
      "execution_count": null,
      "outputs": []
    },
    {
      "cell_type": "markdown",
      "metadata": {
        "id": "AN3uQ5nR3U1I"
      },
      "source": [
        "　-. Inner Function : 함수 내에 또 다른 함수 존재"
      ]
    },
    {
      "cell_type": "code",
      "metadata": {
        "colab": {
          "base_uri": "https://localhost:8080/"
        },
        "id": "rFtardmi3U9y",
        "outputId": "bc6a98df-16fc-4105-c67a-8f20f188a8bf"
      },
      "source": [
        "def print_msg(msg):\n",
        "  def printer():\n",
        "    print(msg)\n",
        "  printer()           # Inner Function 호출\n",
        "\n",
        "print_msg(\"Hello, Python\")"
      ],
      "execution_count": null,
      "outputs": [
        {
          "output_type": "stream",
          "text": [
            "Hello, Python\n"
          ],
          "name": "stdout"
        }
      ]
    },
    {
      "cell_type": "code",
      "metadata": {
        "id": "U_mfYYu23VAL"
      },
      "source": [
        ""
      ],
      "execution_count": null,
      "outputs": []
    },
    {
      "cell_type": "markdown",
      "metadata": {
        "id": "q8tOY-sK4X4m"
      },
      "source": [
        "> closures : inner function을 return값으로 반환"
      ]
    },
    {
      "cell_type": "code",
      "metadata": {
        "id": "eXBE8doY4fYu",
        "colab": {
          "base_uri": "https://localhost:8080/"
        },
        "outputId": "1fdb31a5-da78-4b27-f95a-b15b630289e8"
      },
      "source": [
        "def print_msg(msg):\n",
        "  def printer():\n",
        "    print(msg)\n",
        "  return printer      # 함수를 리턴한다.\n",
        "\n",
        "another = print_msg(\"Hello, Python\")\n",
        "another()"
      ],
      "execution_count": null,
      "outputs": [
        {
          "output_type": "stream",
          "text": [
            "Hello, Python\n"
          ],
          "name": "stdout"
        }
      ]
    },
    {
      "cell_type": "code",
      "metadata": {
        "colab": {
          "base_uri": "https://localhost:8080/"
        },
        "id": "kD6X3hN13VC5",
        "outputId": "2d0cd467-819e-4a2b-dcd6-515756265cb3"
      },
      "source": [
        "def star(func):\n",
        "  def inner(*args, **kwargs):\n",
        "    print(\"*\" * 30)\n",
        "    func(*args, **kwargs)\n",
        "    print(\"*\" * 30)\n",
        "  return inner\n",
        "\n",
        "@star\n",
        "def printer(msg):\n",
        "  print(msg)\n",
        "printer(\"Hello\")"
      ],
      "execution_count": null,
      "outputs": [
        {
          "output_type": "stream",
          "text": [
            "******************************\n",
            "Hello\n",
            "******************************\n"
          ],
          "name": "stdout"
        }
      ]
    },
    {
      "cell_type": "code",
      "metadata": {
        "colab": {
          "base_uri": "https://localhost:8080/"
        },
        "id": "oStJfith3VFA",
        "outputId": "bdccb2ab-bc81-4257-eeb6-39be13d937b7"
      },
      "source": [
        "def star(func):\n",
        "  def inner(*args, **kwargs):\n",
        "    print(\"*\" * 30)\n",
        "    func(*args, **kwargs)\n",
        "    print(\"*\" * 30)\n",
        "  return inner\n",
        "\n",
        "def percent(func):\n",
        "  def inner(*args, **kwargs):\n",
        "    print(\"%\" * 30)\n",
        "    func(*args, **kwargs)\n",
        "    print(\"%\" * 30)\n",
        "  return inner\n",
        "\n",
        "@star\n",
        "@percent\n",
        "def printer(msg):\n",
        "  print(msg)\n",
        "printer(\"Hello\")"
      ],
      "execution_count": null,
      "outputs": [
        {
          "output_type": "stream",
          "text": [
            "******************************\n",
            "%%%%%%%%%%%%%%%%%%%%%%%%%%%%%%\n",
            "Hello\n",
            "%%%%%%%%%%%%%%%%%%%%%%%%%%%%%%\n",
            "******************************\n"
          ],
          "name": "stdout"
        }
      ]
    },
    {
      "cell_type": "code",
      "metadata": {
        "colab": {
          "base_uri": "https://localhost:8080/"
        },
        "id": "qvJxWYIDzOt1",
        "outputId": "74bfe20a-9eb2-4a04-e544-e1f5bef5610d"
      },
      "source": [
        "def generate_power(exponent):\n",
        "  def wrapper(f):\n",
        "    def inner(*args):\n",
        "      result = f(*args)\n",
        "      print(\"exponent : \", exponent)\n",
        "      print(\"result : \", result)\n",
        "      return exponent**result\n",
        "    return inner\n",
        "  return wrapper\n",
        "\n",
        "@generate_power(2)\n",
        "def raise_two(n):\n",
        "  return n**2\n",
        "\n",
        "print(raise_two(7))"
      ],
      "execution_count": null,
      "outputs": [
        {
          "output_type": "stream",
          "text": [
            "exponent :  2\n",
            "result :  49\n",
            "562949953421312\n"
          ],
          "name": "stdout"
        }
      ]
    },
    {
      "cell_type": "code",
      "metadata": {
        "id": "Bcopq6TM5FVG"
      },
      "source": [
        ""
      ],
      "execution_count": null,
      "outputs": []
    },
    {
      "cell_type": "markdown",
      "metadata": {
        "id": "h-SasBjx59qz"
      },
      "source": [
        "##4) 파이썬 기초 문법 Ⅲ\n",
        "### 　B. Module and Project"
      ]
    },
    {
      "cell_type": "code",
      "metadata": {
        "id": "Cjh6XhXm59yK"
      },
      "source": [
        "f = open(\"fah_converter.py\",'w')\n",
        "f.write(r\"def convert_c_to_f(celcius_value):\")\n",
        "f.write('\\n')\n",
        "f.write(\"\\treturn celcius_value * 9.0 / 5 + 32\")\n",
        "f.close()"
      ],
      "execution_count": null,
      "outputs": []
    },
    {
      "cell_type": "code",
      "metadata": {
        "id": "zP79TIN5591R",
        "colab": {
          "base_uri": "https://localhost:8080/"
        },
        "outputId": "43a6e2e7-8237-416b-d67d-b36d4d6e62cf"
      },
      "source": [
        "f = open(\"fah_converter.py\")\n",
        "lines = f.readlines()\n",
        "f.close()\n",
        "\n",
        "print(lines)"
      ],
      "execution_count": null,
      "outputs": [
        {
          "output_type": "stream",
          "text": [
            "['def convert_c_to_f(celcius_value):\\n', '\\treturn celcius_value * 9.0 / 5 + 32']\n"
          ],
          "name": "stdout"
        }
      ]
    },
    {
      "cell_type": "code",
      "metadata": {
        "colab": {
          "base_uri": "https://localhost:8080/"
        },
        "id": "nUeF9PLhsFUQ",
        "outputId": "b923675b-4e47-4ef4-e819-35dc932655cc"
      },
      "source": [
        "import fah_converter\n",
        "celsius = 42.6\n",
        "fahrenheit = fah_converter.convert_c_to_f(celsius)\n",
        "print(f\"{celsius} Celsius is {fahrenheit} Fahrenheit\")"
      ],
      "execution_count": null,
      "outputs": [
        {
          "output_type": "stream",
          "text": [
            "42.6 Celsius is 108.68 Fahrenheit\n"
          ],
          "name": "stdout"
        }
      ]
    },
    {
      "cell_type": "code",
      "metadata": {
        "id": "dke7c88UumUu"
      },
      "source": [
        ""
      ],
      "execution_count": null,
      "outputs": []
    },
    {
      "cell_type": "code",
      "metadata": {
        "id": "XaEUbfkysFXA",
        "colab": {
          "base_uri": "https://localhost:8080/"
        },
        "outputId": "b80a2e8d-8889-45ee-b4e0-951cd2b54252"
      },
      "source": [
        "import random\n",
        "\n",
        "print(random.randint(1, 1000))"
      ],
      "execution_count": null,
      "outputs": [
        {
          "output_type": "stream",
          "text": [
            "253\n"
          ],
          "name": "stdout"
        }
      ]
    },
    {
      "cell_type": "code",
      "metadata": {
        "colab": {
          "base_uri": "https://localhost:8080/"
        },
        "id": "AMARJBWduaGR",
        "outputId": "8c6fd619-6504-4831-bd17-98c3e0247a67"
      },
      "source": [
        "import time\n",
        "time.localtime()"
      ],
      "execution_count": null,
      "outputs": [
        {
          "output_type": "execute_result",
          "data": {
            "text/plain": [
              "time.struct_time(tm_year=2021, tm_mon=7, tm_mday=19, tm_hour=2, tm_min=46, tm_sec=33, tm_wday=0, tm_yday=200, tm_isdst=0)"
            ]
          },
          "metadata": {
            "tags": []
          },
          "execution_count": 18
        }
      ]
    },
    {
      "cell_type": "code",
      "metadata": {
        "id": "07UfDTQgvlFK"
      },
      "source": [
        "# pip install urllib3"
      ],
      "execution_count": null,
      "outputs": []
    },
    {
      "cell_type": "code",
      "metadata": {
        "id": "wRwb1siAuaJB"
      },
      "source": [
        "# import urllib3\n",
        "# date = urllib3.urlopen('http://www.google.com').headers['Date']\n",
        "# print(date)"
      ],
      "execution_count": null,
      "outputs": []
    },
    {
      "cell_type": "code",
      "metadata": {
        "id": "twKZHLYWuaLb"
      },
      "source": [
        ""
      ],
      "execution_count": null,
      "outputs": []
    },
    {
      "cell_type": "markdown",
      "metadata": {
        "id": "2mBTjE8Awu3M"
      },
      "source": [
        "> ■ 모듈 (Module) : 작은 프로그램 조각들  \n",
        "　1. 파이썬의 Module == .py 파일을 의미  \n",
        "　2. 같은 폴더에 Module 에 해당하는 .py 파일과 사용하는 .py 을 저장한 후  \n",
        "　　import 문을 사용해서 module 호출"
      ]
    },
    {
      "cell_type": "markdown",
      "metadata": {
        "id": "HOWVSELGw2jY"
      },
      "source": [
        "> ■ 패키지 (Package) : 모듈을 모아놓은 단위, 하나의 프로그램  \n",
        "　1. 하나의 대형 프로젝트를 만드는 코드의 묶음  \n",
        "　2. 다양한 모듈들의 합, 폴더로 연결됨  \n",
        "　3. \\_\\_init\\_\\_, \\_\\_main\\_\\_ 등 키워드 파일명이 사용됨  \n",
        "　4. 다양한 오픈 소스들이 모두 패키지로 관리됨"
      ]
    },
    {
      "cell_type": "code",
      "metadata": {
        "colab": {
          "base_uri": "https://localhost:8080/"
        },
        "id": "CgvkqqZiuaNc",
        "outputId": "71b343bc-bef2-414c-88d6-2c8dfabb960a"
      },
      "source": [
        "from tqdm import tqdm\n",
        "import time\n",
        "\n",
        "for i in tqdm(range(100000)):\n",
        "  if i % 1000 == 0:\n",
        "    time.sleep(1)"
      ],
      "execution_count": null,
      "outputs": [
        {
          "output_type": "stream",
          "text": [
            "100%|██████████| 100000/100000 [01:40<00:00, 996.15it/s]\n"
          ],
          "name": "stderr"
        }
      ]
    },
    {
      "cell_type": "code",
      "metadata": {
        "id": "-3st2iSQuaQ1"
      },
      "source": [
        ""
      ],
      "execution_count": null,
      "outputs": []
    },
    {
      "cell_type": "markdown",
      "metadata": {
        "id": "CUNk9RbS4ZBm"
      },
      "source": [
        "> ■ 가상환경 (Virtual Environment) : 프로젝트 진행 시 필요한 패키지만 설치하는 환경  \n",
        "　1. Virtualenv : Virtualenv + pip  → 가장 대표적인 가상환경 관리 도구 (레퍼런스+패키지 개수)  \n",
        "　2. conda : 상용 가상환경도구  →  설치에 용이성, Windows 에서 장점  \n",
        "※ python 은 C로 만들어졌고 Compile 을 사용해야 하는데 pip 에서는 일부 Compile 이 미포함되어 있음  \n",
        "※ 그래서 최근 Conda 가 더 잘 쓰임"
      ]
    },
    {
      "cell_type": "code",
      "metadata": {
        "id": "oZFS-7NquaSl"
      },
      "source": [
        ""
      ],
      "execution_count": null,
      "outputs": []
    },
    {
      "cell_type": "markdown",
      "metadata": {
        "id": "0CqwMoHhmJBv"
      },
      "source": [
        "##5) 파이썬으로 데이터 다루기\n",
        "### 　A. File / Exception / Log Handling"
      ]
    },
    {
      "cell_type": "code",
      "metadata": {
        "id": "FttrlQcw595J",
        "colab": {
          "base_uri": "https://localhost:8080/"
        },
        "outputId": "fbf5d2c8-9f7b-4c0f-ce3e-298ff7b60741"
      },
      "source": [
        "a = [1, 2, 3, 4, 5]\n",
        "\n",
        "for i in range(10):\n",
        "  try:\n",
        "    print(i, 10 // i)\n",
        "    print(a[i])\n",
        "    print(vvvvvvv)\n",
        "  except ZeroDivisionError as e:\n",
        "    print(\"++++++++++++++++++++\")\n",
        "    print(e)\n",
        "    print(\"Not divided by 0\")\n",
        "    print(\"++++++++++++++++++++\")\n",
        "  except IndexError as e:\n",
        "    print(\"--------------------\")\n",
        "    print(e)\n",
        "    print(\"Index Error\")\n",
        "    print(\"--------------------\")\n",
        "  except Exception as e:\n",
        "    print(\"====================\")\n",
        "    print(e)\n",
        "    print(\"Other Exception\")\n",
        "    print(\"====================\")"
      ],
      "execution_count": null,
      "outputs": [
        {
          "output_type": "stream",
          "text": [
            "++++++++++++++++++++\n",
            "integer division or modulo by zero\n",
            "Not divided by 0\n",
            "++++++++++++++++++++\n",
            "1 10\n",
            "2\n",
            "====================\n",
            "name 'vvvvvvv' is not defined\n",
            "Other Exception\n",
            "====================\n",
            "2 5\n",
            "3\n",
            "====================\n",
            "name 'vvvvvvv' is not defined\n",
            "Other Exception\n",
            "====================\n",
            "3 3\n",
            "4\n",
            "====================\n",
            "name 'vvvvvvv' is not defined\n",
            "Other Exception\n",
            "====================\n",
            "4 2\n",
            "5\n",
            "====================\n",
            "name 'vvvvvvv' is not defined\n",
            "Other Exception\n",
            "====================\n",
            "5 2\n",
            "--------------------\n",
            "list index out of range\n",
            "Index Error\n",
            "--------------------\n",
            "6 1\n",
            "--------------------\n",
            "list index out of range\n",
            "Index Error\n",
            "--------------------\n",
            "7 1\n",
            "--------------------\n",
            "list index out of range\n",
            "Index Error\n",
            "--------------------\n",
            "8 1\n",
            "--------------------\n",
            "list index out of range\n",
            "Index Error\n",
            "--------------------\n",
            "9 1\n",
            "--------------------\n",
            "list index out of range\n",
            "Index Error\n",
            "--------------------\n"
          ],
          "name": "stdout"
        }
      ]
    },
    {
      "cell_type": "code",
      "metadata": {
        "id": "l5K8gHJm596_"
      },
      "source": [
        ""
      ],
      "execution_count": null,
      "outputs": []
    },
    {
      "cell_type": "markdown",
      "metadata": {
        "id": "jvYIvrpZcQPN"
      },
      "source": [
        "> raise : 필요에 따라 강제로 Exception 을 발생"
      ]
    },
    {
      "cell_type": "code",
      "metadata": {
        "colab": {
          "base_uri": "https://localhost:8080/",
          "height": 280
        },
        "id": "P9ou_ly1cQUV",
        "outputId": "252e632d-5854-4f68-f560-94a40076f193"
      },
      "source": [
        "while True:\n",
        "  value = input(\"변환할 정수 값을 입력해주세요 : \")\n",
        "  for digit in value:\n",
        "    if digit not in \"0123456789\":\n",
        "      raise ValueError(\"숫자 값을 입력하지 않으셨습니다\")\n",
        "  print(\"정수값으로 변환된 숫자 - \", int(value))"
      ],
      "execution_count": null,
      "outputs": [
        {
          "output_type": "stream",
          "text": [
            "변환할 정수 값을 입력해주세요 : 1\n",
            "정수값으로 변환된 숫자 -  1\n",
            "변환할 정수 값을 입력해주세요 : a\n"
          ],
          "name": "stdout"
        },
        {
          "output_type": "error",
          "ename": "ValueError",
          "evalue": "ignored",
          "traceback": [
            "\u001b[0;31m---------------------------------------------------------------------------\u001b[0m",
            "\u001b[0;31mValueError\u001b[0m                                Traceback (most recent call last)",
            "\u001b[0;32m<ipython-input-23-51fd28e34574>\u001b[0m in \u001b[0;36m<module>\u001b[0;34m()\u001b[0m\n\u001b[1;32m      3\u001b[0m   \u001b[0;32mfor\u001b[0m \u001b[0mdigit\u001b[0m \u001b[0;32min\u001b[0m \u001b[0mvalue\u001b[0m\u001b[0;34m:\u001b[0m\u001b[0;34m\u001b[0m\u001b[0;34m\u001b[0m\u001b[0m\n\u001b[1;32m      4\u001b[0m     \u001b[0;32mif\u001b[0m \u001b[0mdigit\u001b[0m \u001b[0;32mnot\u001b[0m \u001b[0;32min\u001b[0m \u001b[0;34m\"0123456789\"\u001b[0m\u001b[0;34m:\u001b[0m\u001b[0;34m\u001b[0m\u001b[0;34m\u001b[0m\u001b[0m\n\u001b[0;32m----> 5\u001b[0;31m       \u001b[0;32mraise\u001b[0m \u001b[0mValueError\u001b[0m\u001b[0;34m(\u001b[0m\u001b[0;34m\"숫자 값을 입력하지 않으셨습니다\"\u001b[0m\u001b[0;34m)\u001b[0m\u001b[0;34m\u001b[0m\u001b[0;34m\u001b[0m\u001b[0m\n\u001b[0m\u001b[1;32m      6\u001b[0m   \u001b[0mprint\u001b[0m\u001b[0;34m(\u001b[0m\u001b[0;34m\"정수값으로 변환된 숫자 - \"\u001b[0m\u001b[0;34m,\u001b[0m \u001b[0mint\u001b[0m\u001b[0;34m(\u001b[0m\u001b[0mvalue\u001b[0m\u001b[0;34m)\u001b[0m\u001b[0;34m)\u001b[0m\u001b[0;34m\u001b[0m\u001b[0;34m\u001b[0m\u001b[0m\n",
            "\u001b[0;31mValueError\u001b[0m: 숫자 값을 입력하지 않으셨습니다"
          ]
        }
      ]
    },
    {
      "cell_type": "code",
      "metadata": {
        "id": "TG-XO9UUcQYI"
      },
      "source": [
        ""
      ],
      "execution_count": null,
      "outputs": []
    },
    {
      "cell_type": "markdown",
      "metadata": {
        "id": "p_HBGzv8c4Rs"
      },
      "source": [
        "> assert : 특정 조건에 만족하지 않을 경우 예외 발생"
      ]
    },
    {
      "cell_type": "code",
      "metadata": {
        "colab": {
          "base_uri": "https://localhost:8080/"
        },
        "id": "TDpvC4PTc4aX",
        "outputId": "80c5e2b3-bbe2-443c-b1c2-c11a1b325987"
      },
      "source": [
        "def get_binary_nmubmer(decimal_number : int):\n",
        "  assert isinstance(decimal_number, int)\n",
        "  return bin(decimal_number)\n",
        "print(get_binary_nmubmer(10))"
      ],
      "execution_count": null,
      "outputs": [
        {
          "output_type": "stream",
          "text": [
            "0b1010\n"
          ],
          "name": "stdout"
        }
      ]
    },
    {
      "cell_type": "code",
      "metadata": {
        "id": "8wuSqE1Ya9WU"
      },
      "source": [
        ""
      ],
      "execution_count": null,
      "outputs": []
    },
    {
      "cell_type": "markdown",
      "metadata": {
        "id": "o_-1LWeqa-IO"
      },
      "source": [
        "> File handling : OS 에서 파일을 저장하는 트리구조 저장 체계"
      ]
    },
    {
      "cell_type": "code",
      "metadata": {
        "id": "cpWJTqWFdwtc"
      },
      "source": [
        "FileName = \"test.txt\"\n",
        "f = open(FileName, 'w', encoding=\"utf8\")\n",
        "for i in range(2):\n",
        "  data = \"{0}번째 줄(생성) - Test - Hello World!\".format(i+1)\n",
        "  f.write(data + \"\\n\")\n",
        "f.close()"
      ],
      "execution_count": null,
      "outputs": []
    },
    {
      "cell_type": "code",
      "metadata": {
        "id": "ae1HcyOOfRaM"
      },
      "source": [
        "with open(FileName, 'a', encoding=\"utf8\") as f:\n",
        "  for i in range(2, 5):\n",
        "    data = \"{0}번째 줄(추가) - Test - Hello World!\".format(i+1)\n",
        "    f.write(data + \"\\n\")"
      ],
      "execution_count": null,
      "outputs": []
    },
    {
      "cell_type": "code",
      "metadata": {
        "colab": {
          "base_uri": "https://localhost:8080/"
        },
        "id": "brinH3CPa9ZF",
        "outputId": "4fecd6c2-4fb4-40cb-d051-58f8bec421ee"
      },
      "source": [
        "f = open(FileName, \"r\" )\n",
        "contents = f.read()\n",
        "print(contents)\n",
        "f.close()\n",
        "print()\n",
        "\n",
        "with open(FileName, \"r\") as my_file:\n",
        "  contents = my_file.read()\n",
        "  print(type(contents))\n",
        "  print(contents)\n",
        "print()\n",
        "\n",
        "with open(FileName, \"r\") as my_file:\n",
        "  content_list = my_file.readlines() #파일 전체를 list로 반환\n",
        "  print(type(content_list)) #Type 확인\n",
        "  print(content_list) #리스트 값 출력\n",
        "print()\n",
        "\n",
        "with open(FileName, \"r\") as my_file:\n",
        "  i = 0\n",
        "  while True:\n",
        "    line = my_file.readline() \n",
        "    if not line: \n",
        "      break\n",
        "    print(str(i) + \" == \" + line.replace(\"\\n\", \"\")) #한줄씩 값 출력\n",
        "    i = i + 1"
      ],
      "execution_count": null,
      "outputs": [
        {
          "output_type": "stream",
          "text": [
            "1번째 줄(생성) - Test - Hello World!\n",
            "2번째 줄(생성) - Test - Hello World!\n",
            "3번째 줄(추가) - Test - Hello World!\n",
            "4번째 줄(추가) - Test - Hello World!\n",
            "5번째 줄(추가) - Test - Hello World!\n",
            "\n",
            "\n",
            "<class 'str'>\n",
            "1번째 줄(생성) - Test - Hello World!\n",
            "2번째 줄(생성) - Test - Hello World!\n",
            "3번째 줄(추가) - Test - Hello World!\n",
            "4번째 줄(추가) - Test - Hello World!\n",
            "5번째 줄(추가) - Test - Hello World!\n",
            "\n",
            "\n",
            "<class 'list'>\n",
            "['1번째 줄(생성) - Test - Hello World!\\n', '2번째 줄(생성) - Test - Hello World!\\n', '3번째 줄(추가) - Test - Hello World!\\n', '4번째 줄(추가) - Test - Hello World!\\n', '5번째 줄(추가) - Test - Hello World!\\n']\n",
            "\n",
            "0 == 1번째 줄(생성) - Test - Hello World!\n",
            "1 == 2번째 줄(생성) - Test - Hello World!\n",
            "2 == 3번째 줄(추가) - Test - Hello World!\n",
            "3 == 4번째 줄(추가) - Test - Hello World!\n",
            "4 == 5번째 줄(추가) - Test - Hello World!\n"
          ],
          "name": "stdout"
        }
      ]
    },
    {
      "cell_type": "code",
      "metadata": {
        "id": "CPZBz2ica9bx"
      },
      "source": [
        ""
      ],
      "execution_count": null,
      "outputs": []
    },
    {
      "cell_type": "code",
      "metadata": {
        "colab": {
          "base_uri": "https://localhost:8080/"
        },
        "id": "uQwv1ITga9eV",
        "outputId": "3ae39fd5-1e43-48ef-920f-abc3609c41e7"
      },
      "source": [
        "import os\n",
        "\n",
        "try:\n",
        "  os.mkdir(\"log\")\n",
        "  print(\"log - Directory Create\")\n",
        "except FileExistsError as e:\n",
        "  print(\"Already created\")\n",
        "\n",
        "if not os.path.isdir(\"log\"):\n",
        "  os.mkdir(\"log\")"
      ],
      "execution_count": null,
      "outputs": [
        {
          "output_type": "stream",
          "text": [
            "Already created\n"
          ],
          "name": "stdout"
        }
      ]
    },
    {
      "cell_type": "code",
      "metadata": {
        "colab": {
          "base_uri": "https://localhost:8080/",
          "height": 35
        },
        "id": "L2EFZjPDa9jc",
        "outputId": "13a4aa7c-b4b4-4352-feab-0504d5dacd6b"
      },
      "source": [
        "import shutil     # 최근에는 shutil 보다는 pathlib를 더 잘쓰고 있다.\n",
        "source = FileName\n",
        "dest = os.path.join(\"log\", \"Copied_\"+source)\n",
        "\n",
        "shutil.copy(source, dest)"
      ],
      "execution_count": null,
      "outputs": [
        {
          "output_type": "execute_result",
          "data": {
            "application/vnd.google.colaboratory.intrinsic+json": {
              "type": "string"
            },
            "text/plain": [
              "'log/Copied_test.txt'"
            ]
          },
          "metadata": {
            "tags": []
          },
          "execution_count": 29
        }
      ]
    },
    {
      "cell_type": "code",
      "metadata": {
        "colab": {
          "base_uri": "https://localhost:8080/"
        },
        "id": "y2YMRfc7a9mf",
        "outputId": "3508f7dd-b59a-4ca9-aa1a-809e053eb5f1"
      },
      "source": [
        "import pathlib\n",
        "cwd = pathlib.Path.cwd()\n",
        "print(cwd)\n",
        "print(cwd.parent)\n",
        "print(list(cwd.parents))\n",
        "print(list(cwd.glob(\"*\")))"
      ],
      "execution_count": null,
      "outputs": [
        {
          "output_type": "stream",
          "text": [
            "/content\n",
            "/\n",
            "[PosixPath('/')]\n",
            "[PosixPath('/content/.config'), PosixPath('/content/test.txt'), PosixPath('/content/__pycache__'), PosixPath('/content/list.pickle'), PosixPath('/content/fah_converter.py'), PosixPath('/content/drive'), PosixPath('/content/multiply_object.pickle'), PosixPath('/content/log'), PosixPath('/content/sample_data')]\n"
          ],
          "name": "stdout"
        }
      ]
    },
    {
      "cell_type": "code",
      "metadata": {
        "id": "lxgpj9a0mVLp"
      },
      "source": [
        "import random, datetime\n",
        "import os\n",
        "\n",
        "if not os.path.isdir(\"log\"):\n",
        "  os.mkdir(\"log\")\n",
        "\n",
        "if not os.path.exists(\"log/count_log.txt\"):\n",
        "  f = open(\"log/count_log.txt\", 'w', encoding=\"utf8\")\n",
        "  f.write(\"기록이 시작됩니다\\n\")\n",
        "  f.close()\n",
        "\n",
        "with open(\"log/count_log.txt\", 'a', encoding=\"utf8\") as f:\n",
        "  for i in range(0, 5):\n",
        "    stamp = str(datetime.datetime.now())\n",
        "    value = random.randint(1, 1000000)\n",
        "    log_line = stamp + \"\\t\" + str(value) +\"값이 생성되었습니다\" + \"\\n\"\n",
        "    f.write(log_line)"
      ],
      "execution_count": null,
      "outputs": []
    },
    {
      "cell_type": "code",
      "metadata": {
        "id": "05K2bqWWkSdQ"
      },
      "source": [
        ""
      ],
      "execution_count": null,
      "outputs": []
    },
    {
      "cell_type": "markdown",
      "metadata": {
        "id": "UF7qXS2flTWt"
      },
      "source": [
        "> Pickle : 객체를 영속화(persistence)하는 Built-in 객체  \n",
        "　-. 메모리에 올라와있는 Data를 백업하고 불러올 수 있음"
      ]
    },
    {
      "cell_type": "code",
      "metadata": {
        "colab": {
          "base_uri": "https://localhost:8080/"
        },
        "id": "El9-CMVtkSfp",
        "outputId": "0616075d-e780-44f2-9d18-d234660c0252"
      },
      "source": [
        "import pickle\n",
        "f = open(\"list.pickle\", \"wb\")\n",
        "test = [1, 2, 3, 4, 5]\n",
        "pickle.dump(test, f)\n",
        "f.close()\n",
        "\n",
        "del test\n",
        "\n",
        "try:\n",
        "  print(test)\n",
        "except Exception as e:\n",
        "  print(e)"
      ],
      "execution_count": null,
      "outputs": [
        {
          "output_type": "stream",
          "text": [
            "name 'test' is not defined\n"
          ],
          "name": "stdout"
        }
      ]
    },
    {
      "cell_type": "code",
      "metadata": {
        "colab": {
          "base_uri": "https://localhost:8080/"
        },
        "id": "SK1bqQzikSkq",
        "outputId": "82975b0d-698d-483c-98ff-466d00cc00fa"
      },
      "source": [
        "f = open(\"list.pickle\", \"rb\")\n",
        "test_pickle = pickle.load(f)\n",
        "print(test_pickle)\n",
        "f.close()"
      ],
      "execution_count": null,
      "outputs": [
        {
          "output_type": "stream",
          "text": [
            "[1, 2, 3, 4, 5]\n"
          ],
          "name": "stdout"
        }
      ]
    },
    {
      "cell_type": "code",
      "metadata": {
        "id": "e68kFFbHl5lb"
      },
      "source": [
        ""
      ],
      "execution_count": null,
      "outputs": []
    },
    {
      "cell_type": "code",
      "metadata": {
        "colab": {
          "base_uri": "https://localhost:8080/"
        },
        "id": "Bjf4H7RzmstZ",
        "outputId": "ceb595c2-1a9f-4784-988d-6c72fffef777"
      },
      "source": [
        "import pickle\n",
        "class Mutltiply(object):\n",
        "  def __init__(self, multiplier):\n",
        "    self.multiplier = multiplier\n",
        "  def multiply(self, number):\n",
        "    return number * self.multiplier\n",
        "\n",
        "muliply = Mutltiply(5)\n",
        "muliply.multiply(10)\n",
        "f = open(\"multiply_object.pickle\", \"wb\")\n",
        "pickle.dump(muliply, f)\n",
        "f.close()\n",
        "\n",
        "del muliply\n",
        "\n",
        "try:\n",
        "  print(muliply.multiply(10))\n",
        "except Exception as e:\n",
        "  print(e)"
      ],
      "execution_count": null,
      "outputs": [
        {
          "output_type": "stream",
          "text": [
            "name 'muliply' is not defined\n"
          ],
          "name": "stdout"
        }
      ]
    },
    {
      "cell_type": "code",
      "metadata": {
        "colab": {
          "base_uri": "https://localhost:8080/"
        },
        "id": "fUPt7yAKmsvz",
        "outputId": "3fb9e481-cf30-4c5d-b93a-00cf8724c9ee"
      },
      "source": [
        "f = open(\"multiply_object.pickle\", \"rb\")\n",
        "multiply_pickle = pickle.load(f)\n",
        "multiply_pickle.multiply(10)"
      ],
      "execution_count": null,
      "outputs": [
        {
          "output_type": "execute_result",
          "data": {
            "text/plain": [
              "50"
            ]
          },
          "metadata": {
            "tags": []
          },
          "execution_count": 35
        }
      ]
    },
    {
      "cell_type": "code",
      "metadata": {
        "id": "28YbkrOmmsyW"
      },
      "source": [
        ""
      ],
      "execution_count": null,
      "outputs": []
    },
    {
      "cell_type": "markdown",
      "metadata": {
        "id": "EQq18QpHm6C_"
      },
      "source": [
        "> Logging Handling\n",
        "　-. Logging (로그 남기기) : 프로그램이 실행되는 동안 일어나는 정보를 기록에 남김"
      ]
    },
    {
      "cell_type": "code",
      "metadata": {
        "colab": {
          "base_uri": "https://localhost:8080/"
        },
        "id": "49r9fOWgm6H3",
        "outputId": "802bc864-5735-4148-a31b-29cac7deaa7b"
      },
      "source": [
        "import logging\n",
        "\n",
        "if __name__ == '__main__':\n",
        "  logger = logging.getLogger(\"main\")\n",
        "  \n",
        "  # 파이썬 기본 Logging Level이 Warning 부터 나오게 되어있다.\n",
        "  logger.debug(\"틀렸잖아!\")\n",
        "  logger.info(\"확인해\")\n",
        "  logger.warning(\"조심해!\")\n",
        "  logger.error(\"에러났어!!!\")\n",
        "  logger.critical(\"망했다...\")\n",
        "  print(\"--------------\")"
      ],
      "execution_count": null,
      "outputs": [
        {
          "output_type": "stream",
          "text": [
            "조심해!\n",
            "에러났어!!!\n",
            "망했다...\n"
          ],
          "name": "stderr"
        },
        {
          "output_type": "stream",
          "text": [
            "--------------\n"
          ],
          "name": "stdout"
        }
      ]
    },
    {
      "cell_type": "code",
      "metadata": {
        "colab": {
          "base_uri": "https://localhost:8080/"
        },
        "id": "QquiCDtAm6Kb",
        "outputId": "fb53cf0f-5f68-4794-b682-ac5ee6f7d488"
      },
      "source": [
        "import logging\n",
        "\n",
        "if __name__ == '__main__':\n",
        "  logger = logging.getLogger(\"main\")\n",
        "  logging.basicConfig(level = logging.DEBUG)\n",
        "  logger.setLevel(logging.INFO)\n",
        "  \n",
        "  logger.debug(\"틀렸잖아!\")\n",
        "  logger.info(\"확인해\")\n",
        "  logger.warning(\"조심해!\")\n",
        "  logger.error(\"에러났어!!!\")\n",
        "  logger.critical(\"망했다...\")\n",
        "  print(\"--------------\")"
      ],
      "execution_count": null,
      "outputs": [
        {
          "output_type": "stream",
          "text": [
            "INFO:main:확인해\n",
            "WARNING:main:조심해!\n",
            "ERROR:main:에러났어!!!\n",
            "CRITICAL:main:망했다...\n"
          ],
          "name": "stderr"
        },
        {
          "output_type": "stream",
          "text": [
            "--------------\n"
          ],
          "name": "stdout"
        }
      ]
    },
    {
      "cell_type": "code",
      "metadata": {
        "colab": {
          "base_uri": "https://localhost:8080/"
        },
        "id": "H61vORUioJNF",
        "outputId": "cbe5f7a5-5cc7-4955-87f2-b0d0b6d0bb2c"
      },
      "source": [
        "import logging\n",
        "\n",
        "if __name__ == '__main__':\n",
        "  logger = logging.getLogger(\"main\")\n",
        "  stream_hander = logging.FileHandler(\"my.log\", mode=\"a\", encoding=\"utf8\")\n",
        "  logger.addHandler(stream_hander)\n",
        "  logger.setLevel(logging.DEBUG)\n",
        "  logger.debug(\"틀렸잖아!\")\n",
        "  logger.info(\"확인해\")\n",
        "  logger.warning(\"조심해!\")\n",
        "  logger.error(\"에러났어!!!\")\n",
        "  logger.critical(\"망했다...\")"
      ],
      "execution_count": null,
      "outputs": [
        {
          "output_type": "stream",
          "text": [
            "DEBUG:main:틀렸잖아!\n",
            "INFO:main:확인해\n",
            "WARNING:main:조심해!\n",
            "ERROR:main:에러났어!!!\n",
            "CRITICAL:main:망했다...\n"
          ],
          "name": "stderr"
        }
      ]
    },
    {
      "cell_type": "markdown",
      "metadata": {
        "id": "jy_ixscYrXQG"
      },
      "source": [
        "> Logging 을 하기위해 설정해야 할 것들이 많다.  \n",
        "　-. 설정 방법  \n",
        "　　1. Configparser : 프로그램 실행 설정을 File에 저장함  \n",
        "　　2. Argparser - Console 창에서 프로그램 실행 시 Setting 정보를 저장"
      ]
    },
    {
      "cell_type": "code",
      "metadata": {
        "id": "1ystcE-joJPe"
      },
      "source": [
        ""
      ],
      "execution_count": null,
      "outputs": []
    },
    {
      "cell_type": "markdown",
      "metadata": {
        "id": "zCuwPdU_tVB3"
      },
      "source": [
        "> Logging Formmatter : Log 결과 값의 Format을 지정해줄 수 있음"
      ]
    },
    {
      "cell_type": "code",
      "metadata": {
        "id": "GG4KsJKfoJSB"
      },
      "source": [
        "formatter = logging.Formatter('%(asctime)s %(levelname)s %(process)d %(message)s')"
      ],
      "execution_count": null,
      "outputs": []
    },
    {
      "cell_type": "code",
      "metadata": {
        "id": "pXkBRgO1l5no"
      },
      "source": [
        ""
      ],
      "execution_count": null,
      "outputs": []
    },
    {
      "cell_type": "markdown",
      "metadata": {
        "id": "m7_VDjSN8IlJ"
      },
      "source": [
        ""
      ]
    },
    {
      "cell_type": "markdown",
      "metadata": {
        "id": "wO6vH-9umVVG"
      },
      "source": [
        "##5) 파이썬으로 데이터 다루기\n",
        "### 　B. Python data handling"
      ]
    },
    {
      "cell_type": "markdown",
      "metadata": {
        "id": "10vYfHs69sb6"
      },
      "source": [
        "> csv(Comma Seperated Value) Handling"
      ]
    },
    {
      "cell_type": "markdown",
      "metadata": {
        "id": "ranIAAUPPeBl"
      },
      "source": [
        "> csv 파일 Download & Save"
      ]
    },
    {
      "cell_type": "code",
      "metadata": {
        "id": "qpXDTs31_LSe"
      },
      "source": [
        "import httplib2\n",
        "\n",
        "def downloadFile(URL=None):\n",
        "  h = httplib2.Http(\".cache\")\n",
        "  resp, content = h.request(URL, \"GET\")\n",
        "  return content\n",
        "\n",
        "URL_from_file = \"https://bit.ly/3psoUZb\"\n",
        "\n",
        "Byte_Data = downloadFile(URL_from_file)\n",
        "FileName = \"customers.csv\"\n",
        "f = open(FileName, 'wb')\n",
        "f.write(Byte_Data)\n",
        "f.close()"
      ],
      "execution_count": 21,
      "outputs": []
    },
    {
      "cell_type": "markdown",
      "metadata": {
        "id": "0-z6c1UfPhYj"
      },
      "source": [
        "> csv 파일 읽기"
      ]
    },
    {
      "cell_type": "code",
      "metadata": {
        "id": "PnGO4Ct9mViP",
        "colab": {
          "base_uri": "https://localhost:8080/"
        },
        "outputId": "a16e5e52-13ff-4a02-d312-50d401e743dd"
      },
      "source": [
        "line_counter = 0 #파일의 총 줄수를 세는 변수\n",
        "data_header = [] #data의 필드값을 저장하는 list\n",
        "customer_list = [] #cutomer 개별 List를 저장하는 List\n",
        "\n",
        "with open (\"customers.csv\") as customer_data: #customer.csv 파일을 customer_data 객체에 저장\n",
        "  while True:\n",
        "    data = customer_data.readline() #customer.csv에 한줄씩 data 변수에 저장\n",
        "    if not data:  #데이터가 없을 때, Loop 종료\n",
        "      break\n",
        "    if line_counter== 0: #첫번째 데이터는 데이터의 필드\n",
        "      data_header = data.split(\",\") #데이터의 필드는 data_header List에 저장, 데이터 저장시 “,”로 분리\n",
        "    else:\n",
        "      customer_list.append(data.split(\",\")) #일반 데이터는 customer_list 객체에 저장, 데이터 저장시 “,”로 분리\n",
        "    line_counter += 1\n",
        "\n",
        "print(\"Header :\\t\", data_header) #데이터 필드 값 출력\n",
        "for i in range(0, 10): #데이터 출력 (샘플 10개만)\n",
        "  print(\"Data\",i,\":\\t\\t\",customer_list[i])\n",
        "print(len(customer_list)) #전체 데이터 크기 출력"
      ],
      "execution_count": 26,
      "outputs": [
        {
          "output_type": "stream",
          "text": [
            "Header :\t ['customerNumber', 'customerName', 'contactLastName', 'contactFirstName', 'phone', 'addressLine1', 'addressLine2', 'city', 'state', 'postalCode', 'country', 'salesRepEmployeeNumber', 'creditLimit\\n']\n",
            "Data 0 :\t\t ['103', '\"Atelier graphique\"', 'Schmitt', '\"Carine \"', '40.32.2555', '\"54', ' rue Royale\"', 'NULL', 'Nantes', 'NULL', '44000', 'France', '1370', '21000\\n']\n",
            "Data 1 :\t\t ['112', '\"Signal Gift Stores\"', 'King', 'Jean', '7025551838', '\"8489 Strong St.\"', 'NULL', '\"Las Vegas\"', 'NV', '83030', 'USA', '1166', '71800\\n']\n",
            "Data 2 :\t\t ['114', '\"Australian Collectors', ' Co.\"', 'Ferguson', 'Peter', '\"03 9520 4555\"', '\"636 St Kilda Road\"', '\"Level 3\"', 'Melbourne', 'Victoria', '3004', 'Australia', '1611', '117300\\n']\n",
            "Data 3 :\t\t ['119', '\"La Rochelle Gifts\"', 'Labrune', '\"Janine \"', '40.67.8555', '\"67', ' rue des Cinquante Otages\"', 'NULL', 'Nantes', 'NULL', '44000', 'France', '1370', '118200\\n']\n",
            "Data 4 :\t\t ['121', '\"Baane Mini Imports\"', 'Bergulfsen', '\"Jonas \"', '\"07-98 9555\"', '\"Erling Skakkes gate 78\"', 'NULL', 'Stavern', 'NULL', '4110', 'Norway', '1504', '81700\\n']\n",
            "Data 5 :\t\t ['124', '\"Mini Gifts Distributors Ltd.\"', 'Nelson', 'Susan', '4155551450', '\"5677 Strong St.\"', 'NULL', '\"San Rafael\"', 'CA', '97562', 'USA', '1165', '210500\\n']\n",
            "Data 6 :\t\t ['125', '\"Havel & Zbyszek Co\"', 'Piestrzeniewicz', '\"Zbyszek \"', '\"(26) 642-7555\"', '\"ul. Filtrowa 68\"', 'NULL', 'Warszawa', 'NULL', '01-012', 'Poland', 'NULL', '0\\n']\n",
            "Data 7 :\t\t ['128', '\"Blauer See Auto', ' Co.\"', 'Keitel', 'Roland', '\"+49 69 66 90 2555\"', '\"Lyonerstr. 34\"', 'NULL', 'Frankfurt', 'NULL', '60528', 'Germany', '1504', '59700\\n']\n",
            "Data 8 :\t\t ['129', '\"Mini Wheels Co.\"', 'Murphy', 'Julie', '6505555787', '\"5557 North Pendale Street\"', 'NULL', '\"San Francisco\"', 'CA', '94217', 'USA', '1165', '64600\\n']\n",
            "Data 9 :\t\t ['131', '\"Land of Toys Inc.\"', 'Lee', 'Kwai', '2125557818', '\"897 Long Airport Avenue\"', 'NULL', 'NYC', 'NY', '10022', 'USA', '1323', '114900\\n']\n",
            "122\n"
          ],
          "name": "stdout"
        }
      ]
    },
    {
      "cell_type": "markdown",
      "metadata": {
        "id": "IqJS5askPwzL"
      },
      "source": [
        "> csv 파일 쓰기"
      ]
    },
    {
      "cell_type": "code",
      "metadata": {
        "id": "LZ_S78IvmVkt",
        "colab": {
          "base_uri": "https://localhost:8080/"
        },
        "outputId": "3e3307e1-da67-4ce3-bb31-eca4fb6fcc8a"
      },
      "source": [
        "line_counter = 0\n",
        "data_header = []\n",
        "employee = []\n",
        "customer_USA_only_list = []\n",
        "customer = None\n",
        "\n",
        "with open (\"customers.csv\", \"r\") as customer_data:\n",
        "  while 1:\n",
        "    data = customer_data.readline()\n",
        "    if not data:\n",
        "      break\n",
        "    if line_counter==0:\n",
        "      data_header = data.split(\",\")\n",
        "    else:\n",
        "      customer = data.split(\",\")\n",
        "      if customer[10].upper() == \"USA\": #customer 데이터의 offset 10번째 값\n",
        "        customer_USA_only_list.append(customer) #즉 country 필드가 “USA” 것만\n",
        "    line_counter+=1 #sutomer_USA_only_list에 저장\n",
        "\n",
        "print (\"Header :\\t\", data_header)\n",
        "for i in range(0,10):\n",
        "  print (\"Data :\\t\\t\",customer_USA_only_list[i])\n",
        "print (len(customer_USA_only_list))\n",
        "\n",
        "with open (\"customers_USA_only.csv\", \"w\") as customer_USA_only_csv:\n",
        "  for customer in customer_USA_only_list:\n",
        "    customer_USA_only_csv.write(\",\".join(customer).strip('\\n')+\"\\n\")"
      ],
      "execution_count": 27,
      "outputs": [
        {
          "output_type": "stream",
          "text": [
            "Header :\t ['customerNumber', 'customerName', 'contactLastName', 'contactFirstName', 'phone', 'addressLine1', 'addressLine2', 'city', 'state', 'postalCode', 'country', 'salesRepEmployeeNumber', 'creditLimit\\n']\n",
            "Data :\t\t ['112', '\"Signal Gift Stores\"', 'King', 'Jean', '7025551838', '\"8489 Strong St.\"', 'NULL', '\"Las Vegas\"', 'NV', '83030', 'USA', '1166', '71800\\n']\n",
            "Data :\t\t ['124', '\"Mini Gifts Distributors Ltd.\"', 'Nelson', 'Susan', '4155551450', '\"5677 Strong St.\"', 'NULL', '\"San Rafael\"', 'CA', '97562', 'USA', '1165', '210500\\n']\n",
            "Data :\t\t ['129', '\"Mini Wheels Co.\"', 'Murphy', 'Julie', '6505555787', '\"5557 North Pendale Street\"', 'NULL', '\"San Francisco\"', 'CA', '94217', 'USA', '1165', '64600\\n']\n",
            "Data :\t\t ['131', '\"Land of Toys Inc.\"', 'Lee', 'Kwai', '2125557818', '\"897 Long Airport Avenue\"', 'NULL', 'NYC', 'NY', '10022', 'USA', '1323', '114900\\n']\n",
            "Data :\t\t ['151', '\"Muscle Machine Inc\"', 'Young', 'Jeff', '2125557413', '\"4092 Furth Circle\"', '\"Suite 400\"', 'NYC', 'NY', '10022', 'USA', '1286', '138500\\n']\n",
            "Data :\t\t ['157', '\"Diecast Classics Inc.\"', 'Leong', 'Kelvin', '2155551555', '\"7586 Pompton St.\"', 'NULL', 'Allentown', 'PA', '70267', 'USA', '1216', '100600\\n']\n",
            "Data :\t\t ['161', '\"Technics Stores Inc.\"', 'Hashimoto', 'Juri', '6505556809', '\"9408 Furth Circle\"', 'NULL', 'Burlingame', 'CA', '94217', 'USA', '1165', '84600\\n']\n",
            "Data :\t\t ['168', '\"American Souvenirs Inc\"', 'Franco', 'Keith', '2035557845', '\"149 Spinnaker Dr.\"', '\"Suite 101\"', '\"New Haven\"', 'CT', '97823', 'USA', '1286', '0\\n']\n",
            "Data :\t\t ['173', '\"Cambridge Collectables Co.\"', 'Tseng', 'Jerry', '6175555555', '\"4658 Baden Av.\"', 'NULL', 'Cambridge', 'MA', '51247', 'USA', '1188', '43400\\n']\n",
            "Data :\t\t ['175', '\"Gift Depot Inc.\"', 'King', 'Julie', '2035552570', '\"25593 South Bay Ln.\"', 'NULL', 'Bridgewater', 'CT', '97562', 'USA', '1323', '84300\\n']\n",
            "34\n"
          ],
          "name": "stdout"
        }
      ]
    },
    {
      "cell_type": "code",
      "metadata": {
        "id": "oZYdQh7LmVnK"
      },
      "source": [
        ""
      ],
      "execution_count": null,
      "outputs": []
    },
    {
      "cell_type": "markdown",
      "metadata": {
        "id": "R59AGahPQLIO"
      },
      "source": [
        "> csv 객체로 csv 처리"
      ]
    },
    {
      "cell_type": "code",
      "metadata": {
        "id": "Gzn9aQaQ59-j"
      },
      "source": [
        "import csv\n",
        "reader = csv.reader(f, delimiter=',', quotechar='\"', quoting=csv.QUOTE_ALL)\n",
        "\n",
        "# delimiter : 글자를 나누는 기준\n",
        "# lineterminator : 줄 바꿈 기준\n",
        "# quotechar : 문자열을 둘러싸는 신호 문자\n",
        "# quoting : 데이터 나누는 기준이 quotechar에 의해 둘러싸인 레벨"
      ],
      "execution_count": null,
      "outputs": []
    },
    {
      "cell_type": "code",
      "metadata": {
        "id": "bMGnpDNAQPPP"
      },
      "source": [
        ""
      ],
      "execution_count": null,
      "outputs": []
    },
    {
      "cell_type": "code",
      "metadata": {
        "id": "PRZp9haEQPRZ"
      },
      "source": [
        "import csv\n",
        "seoung_nam_data = []\n",
        "header = []\n",
        "rownum = 0\n",
        "\n",
        "with open(\"korea_floating_population_data.csv\",\"r\", encoding=\"cp949\") as p_file:\n",
        "  csv_data = csv.reader(p_file) #csv 객체를 이용해서 csv_data 읽기\n",
        "  for row in csv_data: #읽어온 데이터를 한 줄씩 처리\n",
        "    if rownum == 0:\n",
        "      header = row #첫 번째 줄은 데이터 필드로 따로 저장\n",
        "    location = row[7]\n",
        "    #“행정구역”필드 데이터 추출, 한글 처리로 유니코드 데이터를 cp949로 변환\n",
        "    if location.find(u\"성남시\") != -1:    # u는 UTF를 뜻함\n",
        "      seoung_nam_data.append(row)\n",
        "    #”행정구역” 데이터에 성남시가 들어가 있으면 seoung_nam_data List에 추가\n",
        "    rownum +=1\n",
        "\n",
        "with open(\"seoung_nam_floating_population_data.csv\",\"w\", encoding=\"utf8\") as s_p_file:\n",
        "  writer = csv.writer(s_p_file, delimiter='\\t', quotechar=\"'\", quoting=csv.QUOTE_ALL)\n",
        "  # csv.writer를 사용해서 csv 파일 만들기 delimiter 필드 구분자\n",
        "  # quotechar는 필드 각 데이터는 묶는 문자, quoting는 묶는 범위\n",
        "  writer.writerow(header) #제목 필드 파일에 쓰기\n",
        "  for row in seoung_nam_data:\n",
        "    writer.writerow(row) #seoung_nam_data에 있는 정보 list에 쓰기"
      ],
      "execution_count": null,
      "outputs": []
    },
    {
      "cell_type": "code",
      "metadata": {
        "id": "dvwhoTW5QPTK"
      },
      "source": [
        ""
      ],
      "execution_count": null,
      "outputs": []
    },
    {
      "cell_type": "markdown",
      "metadata": {
        "id": "FTdYBbNaf_KC"
      },
      "source": [
        "> 정규식(Regular Expression)"
      ]
    },
    {
      "cell_type": "code",
      "metadata": {
        "colab": {
          "base_uri": "https://localhost:8080/",
          "height": 448
        },
        "id": "mKc9NfFMQPVh",
        "outputId": "de12e95a-735e-4be0-de11-15a32d7d7552"
      },
      "source": [
        "import re\n",
        "import urllib.request\n",
        "url = \"https://bit.ly/3rxQFS4\"\n",
        "html = urllib.request.urlopen(url)\n",
        "html_contents = str(html.read())\n",
        "id_results = re.findall(r\"([A-Za-z0-9]+\\*\\*\\*)\", html_contents)\n",
        "\n",
        "#findall 전체 찾기, 패턴대로 데이터 찾기\n",
        "for result in id_results:\n",
        "  print (result)"
      ],
      "execution_count": 28,
      "outputs": [
        {
          "output_type": "error",
          "ename": "URLError",
          "evalue": "ignored",
          "traceback": [
            "\u001b[0;31m---------------------------------------------------------------------------\u001b[0m",
            "\u001b[0;31mTimeoutError\u001b[0m                              Traceback (most recent call last)",
            "\u001b[0;32m/usr/lib/python3.7/urllib/request.py\u001b[0m in \u001b[0;36mdo_open\u001b[0;34m(self, http_class, req, **http_conn_args)\u001b[0m\n\u001b[1;32m   1349\u001b[0m                 h.request(req.get_method(), req.selector, req.data, headers,\n\u001b[0;32m-> 1350\u001b[0;31m                           encode_chunked=req.has_header('Transfer-encoding'))\n\u001b[0m\u001b[1;32m   1351\u001b[0m             \u001b[0;32mexcept\u001b[0m \u001b[0mOSError\u001b[0m \u001b[0;32mas\u001b[0m \u001b[0merr\u001b[0m\u001b[0;34m:\u001b[0m \u001b[0;31m# timeout error\u001b[0m\u001b[0;34m\u001b[0m\u001b[0;34m\u001b[0m\u001b[0m\n",
            "\u001b[0;32m/usr/lib/python3.7/http/client.py\u001b[0m in \u001b[0;36mrequest\u001b[0;34m(self, method, url, body, headers, encode_chunked)\u001b[0m\n\u001b[1;32m   1280\u001b[0m         \u001b[0;34m\"\"\"Send a complete request to the server.\"\"\"\u001b[0m\u001b[0;34m\u001b[0m\u001b[0;34m\u001b[0m\u001b[0m\n\u001b[0;32m-> 1281\u001b[0;31m         \u001b[0mself\u001b[0m\u001b[0;34m.\u001b[0m\u001b[0m_send_request\u001b[0m\u001b[0;34m(\u001b[0m\u001b[0mmethod\u001b[0m\u001b[0;34m,\u001b[0m \u001b[0murl\u001b[0m\u001b[0;34m,\u001b[0m \u001b[0mbody\u001b[0m\u001b[0;34m,\u001b[0m \u001b[0mheaders\u001b[0m\u001b[0;34m,\u001b[0m \u001b[0mencode_chunked\u001b[0m\u001b[0;34m)\u001b[0m\u001b[0;34m\u001b[0m\u001b[0;34m\u001b[0m\u001b[0m\n\u001b[0m\u001b[1;32m   1282\u001b[0m \u001b[0;34m\u001b[0m\u001b[0m\n",
            "\u001b[0;32m/usr/lib/python3.7/http/client.py\u001b[0m in \u001b[0;36m_send_request\u001b[0;34m(self, method, url, body, headers, encode_chunked)\u001b[0m\n\u001b[1;32m   1326\u001b[0m             \u001b[0mbody\u001b[0m \u001b[0;34m=\u001b[0m \u001b[0m_encode\u001b[0m\u001b[0;34m(\u001b[0m\u001b[0mbody\u001b[0m\u001b[0;34m,\u001b[0m \u001b[0;34m'body'\u001b[0m\u001b[0;34m)\u001b[0m\u001b[0;34m\u001b[0m\u001b[0;34m\u001b[0m\u001b[0m\n\u001b[0;32m-> 1327\u001b[0;31m         \u001b[0mself\u001b[0m\u001b[0;34m.\u001b[0m\u001b[0mendheaders\u001b[0m\u001b[0;34m(\u001b[0m\u001b[0mbody\u001b[0m\u001b[0;34m,\u001b[0m \u001b[0mencode_chunked\u001b[0m\u001b[0;34m=\u001b[0m\u001b[0mencode_chunked\u001b[0m\u001b[0;34m)\u001b[0m\u001b[0;34m\u001b[0m\u001b[0;34m\u001b[0m\u001b[0m\n\u001b[0m\u001b[1;32m   1328\u001b[0m \u001b[0;34m\u001b[0m\u001b[0m\n",
            "\u001b[0;32m/usr/lib/python3.7/http/client.py\u001b[0m in \u001b[0;36mendheaders\u001b[0;34m(self, message_body, encode_chunked)\u001b[0m\n\u001b[1;32m   1275\u001b[0m             \u001b[0;32mraise\u001b[0m \u001b[0mCannotSendHeader\u001b[0m\u001b[0;34m(\u001b[0m\u001b[0;34m)\u001b[0m\u001b[0;34m\u001b[0m\u001b[0;34m\u001b[0m\u001b[0m\n\u001b[0;32m-> 1276\u001b[0;31m         \u001b[0mself\u001b[0m\u001b[0;34m.\u001b[0m\u001b[0m_send_output\u001b[0m\u001b[0;34m(\u001b[0m\u001b[0mmessage_body\u001b[0m\u001b[0;34m,\u001b[0m \u001b[0mencode_chunked\u001b[0m\u001b[0;34m=\u001b[0m\u001b[0mencode_chunked\u001b[0m\u001b[0;34m)\u001b[0m\u001b[0;34m\u001b[0m\u001b[0;34m\u001b[0m\u001b[0m\n\u001b[0m\u001b[1;32m   1277\u001b[0m \u001b[0;34m\u001b[0m\u001b[0m\n",
            "\u001b[0;32m/usr/lib/python3.7/http/client.py\u001b[0m in \u001b[0;36m_send_output\u001b[0;34m(self, message_body, encode_chunked)\u001b[0m\n\u001b[1;32m   1035\u001b[0m         \u001b[0;32mdel\u001b[0m \u001b[0mself\u001b[0m\u001b[0;34m.\u001b[0m\u001b[0m_buffer\u001b[0m\u001b[0;34m[\u001b[0m\u001b[0;34m:\u001b[0m\u001b[0;34m]\u001b[0m\u001b[0;34m\u001b[0m\u001b[0;34m\u001b[0m\u001b[0m\n\u001b[0;32m-> 1036\u001b[0;31m         \u001b[0mself\u001b[0m\u001b[0;34m.\u001b[0m\u001b[0msend\u001b[0m\u001b[0;34m(\u001b[0m\u001b[0mmsg\u001b[0m\u001b[0;34m)\u001b[0m\u001b[0;34m\u001b[0m\u001b[0;34m\u001b[0m\u001b[0m\n\u001b[0m\u001b[1;32m   1037\u001b[0m \u001b[0;34m\u001b[0m\u001b[0m\n",
            "\u001b[0;32m/usr/lib/python3.7/http/client.py\u001b[0m in \u001b[0;36msend\u001b[0;34m(self, data)\u001b[0m\n\u001b[1;32m    975\u001b[0m             \u001b[0;32mif\u001b[0m \u001b[0mself\u001b[0m\u001b[0;34m.\u001b[0m\u001b[0mauto_open\u001b[0m\u001b[0;34m:\u001b[0m\u001b[0;34m\u001b[0m\u001b[0;34m\u001b[0m\u001b[0m\n\u001b[0;32m--> 976\u001b[0;31m                 \u001b[0mself\u001b[0m\u001b[0;34m.\u001b[0m\u001b[0mconnect\u001b[0m\u001b[0;34m(\u001b[0m\u001b[0;34m)\u001b[0m\u001b[0;34m\u001b[0m\u001b[0;34m\u001b[0m\u001b[0m\n\u001b[0m\u001b[1;32m    977\u001b[0m             \u001b[0;32melse\u001b[0m\u001b[0;34m:\u001b[0m\u001b[0;34m\u001b[0m\u001b[0;34m\u001b[0m\u001b[0m\n",
            "\u001b[0;32m/usr/lib/python3.7/http/client.py\u001b[0m in \u001b[0;36mconnect\u001b[0;34m(self)\u001b[0m\n\u001b[1;32m    947\u001b[0m         self.sock = self._create_connection(\n\u001b[0;32m--> 948\u001b[0;31m             (self.host,self.port), self.timeout, self.source_address)\n\u001b[0m\u001b[1;32m    949\u001b[0m         \u001b[0mself\u001b[0m\u001b[0;34m.\u001b[0m\u001b[0msock\u001b[0m\u001b[0;34m.\u001b[0m\u001b[0msetsockopt\u001b[0m\u001b[0;34m(\u001b[0m\u001b[0msocket\u001b[0m\u001b[0;34m.\u001b[0m\u001b[0mIPPROTO_TCP\u001b[0m\u001b[0;34m,\u001b[0m \u001b[0msocket\u001b[0m\u001b[0;34m.\u001b[0m\u001b[0mTCP_NODELAY\u001b[0m\u001b[0;34m,\u001b[0m \u001b[0;36m1\u001b[0m\u001b[0;34m)\u001b[0m\u001b[0;34m\u001b[0m\u001b[0;34m\u001b[0m\u001b[0m\n",
            "\u001b[0;32m/usr/lib/python3.7/socket.py\u001b[0m in \u001b[0;36mcreate_connection\u001b[0;34m(address, timeout, source_address)\u001b[0m\n\u001b[1;32m    727\u001b[0m         \u001b[0;32mtry\u001b[0m\u001b[0;34m:\u001b[0m\u001b[0;34m\u001b[0m\u001b[0;34m\u001b[0m\u001b[0m\n\u001b[0;32m--> 728\u001b[0;31m             \u001b[0;32mraise\u001b[0m \u001b[0merr\u001b[0m\u001b[0;34m\u001b[0m\u001b[0;34m\u001b[0m\u001b[0m\n\u001b[0m\u001b[1;32m    729\u001b[0m         \u001b[0;32mfinally\u001b[0m\u001b[0;34m:\u001b[0m\u001b[0;34m\u001b[0m\u001b[0;34m\u001b[0m\u001b[0m\n",
            "\u001b[0;32m/usr/lib/python3.7/socket.py\u001b[0m in \u001b[0;36mcreate_connection\u001b[0;34m(address, timeout, source_address)\u001b[0m\n\u001b[1;32m    715\u001b[0m                 \u001b[0msock\u001b[0m\u001b[0;34m.\u001b[0m\u001b[0mbind\u001b[0m\u001b[0;34m(\u001b[0m\u001b[0msource_address\u001b[0m\u001b[0;34m)\u001b[0m\u001b[0;34m\u001b[0m\u001b[0;34m\u001b[0m\u001b[0m\n\u001b[0;32m--> 716\u001b[0;31m             \u001b[0msock\u001b[0m\u001b[0;34m.\u001b[0m\u001b[0mconnect\u001b[0m\u001b[0;34m(\u001b[0m\u001b[0msa\u001b[0m\u001b[0;34m)\u001b[0m\u001b[0;34m\u001b[0m\u001b[0;34m\u001b[0m\u001b[0m\n\u001b[0m\u001b[1;32m    717\u001b[0m             \u001b[0;31m# Break explicitly a reference cycle\u001b[0m\u001b[0;34m\u001b[0m\u001b[0;34m\u001b[0m\u001b[0;34m\u001b[0m\u001b[0m\n",
            "\u001b[0;31mTimeoutError\u001b[0m: [Errno 110] Connection timed out",
            "\nDuring handling of the above exception, another exception occurred:\n",
            "\u001b[0;31mURLError\u001b[0m                                  Traceback (most recent call last)",
            "\u001b[0;32m<ipython-input-28-db81745847cf>\u001b[0m in \u001b[0;36m<module>\u001b[0;34m()\u001b[0m\n\u001b[1;32m      2\u001b[0m \u001b[0;32mimport\u001b[0m \u001b[0murllib\u001b[0m\u001b[0;34m.\u001b[0m\u001b[0mrequest\u001b[0m\u001b[0;34m\u001b[0m\u001b[0;34m\u001b[0m\u001b[0m\n\u001b[1;32m      3\u001b[0m \u001b[0murl\u001b[0m \u001b[0;34m=\u001b[0m \u001b[0;34m\"https://bit.ly/3rxQFS4\"\u001b[0m\u001b[0;34m\u001b[0m\u001b[0;34m\u001b[0m\u001b[0m\n\u001b[0;32m----> 4\u001b[0;31m \u001b[0mhtml\u001b[0m \u001b[0;34m=\u001b[0m \u001b[0murllib\u001b[0m\u001b[0;34m.\u001b[0m\u001b[0mrequest\u001b[0m\u001b[0;34m.\u001b[0m\u001b[0murlopen\u001b[0m\u001b[0;34m(\u001b[0m\u001b[0murl\u001b[0m\u001b[0;34m)\u001b[0m\u001b[0;34m\u001b[0m\u001b[0;34m\u001b[0m\u001b[0m\n\u001b[0m\u001b[1;32m      5\u001b[0m \u001b[0mhtml_contents\u001b[0m \u001b[0;34m=\u001b[0m \u001b[0mstr\u001b[0m\u001b[0;34m(\u001b[0m\u001b[0mhtml\u001b[0m\u001b[0;34m.\u001b[0m\u001b[0mread\u001b[0m\u001b[0;34m(\u001b[0m\u001b[0;34m)\u001b[0m\u001b[0;34m)\u001b[0m\u001b[0;34m\u001b[0m\u001b[0;34m\u001b[0m\u001b[0m\n\u001b[1;32m      6\u001b[0m \u001b[0mid_results\u001b[0m \u001b[0;34m=\u001b[0m \u001b[0mre\u001b[0m\u001b[0;34m.\u001b[0m\u001b[0mfindall\u001b[0m\u001b[0;34m(\u001b[0m\u001b[0;34mr\"([A-Za-z0-9]+\\*\\*\\*)\"\u001b[0m\u001b[0;34m,\u001b[0m \u001b[0mhtml_contents\u001b[0m\u001b[0;34m)\u001b[0m\u001b[0;34m\u001b[0m\u001b[0;34m\u001b[0m\u001b[0m\n",
            "\u001b[0;32m/usr/lib/python3.7/urllib/request.py\u001b[0m in \u001b[0;36murlopen\u001b[0;34m(url, data, timeout, cafile, capath, cadefault, context)\u001b[0m\n\u001b[1;32m    220\u001b[0m     \u001b[0;32melse\u001b[0m\u001b[0;34m:\u001b[0m\u001b[0;34m\u001b[0m\u001b[0;34m\u001b[0m\u001b[0m\n\u001b[1;32m    221\u001b[0m         \u001b[0mopener\u001b[0m \u001b[0;34m=\u001b[0m \u001b[0m_opener\u001b[0m\u001b[0;34m\u001b[0m\u001b[0;34m\u001b[0m\u001b[0m\n\u001b[0;32m--> 222\u001b[0;31m     \u001b[0;32mreturn\u001b[0m \u001b[0mopener\u001b[0m\u001b[0;34m.\u001b[0m\u001b[0mopen\u001b[0m\u001b[0;34m(\u001b[0m\u001b[0murl\u001b[0m\u001b[0;34m,\u001b[0m \u001b[0mdata\u001b[0m\u001b[0;34m,\u001b[0m \u001b[0mtimeout\u001b[0m\u001b[0;34m)\u001b[0m\u001b[0;34m\u001b[0m\u001b[0;34m\u001b[0m\u001b[0m\n\u001b[0m\u001b[1;32m    223\u001b[0m \u001b[0;34m\u001b[0m\u001b[0m\n\u001b[1;32m    224\u001b[0m \u001b[0;32mdef\u001b[0m \u001b[0minstall_opener\u001b[0m\u001b[0;34m(\u001b[0m\u001b[0mopener\u001b[0m\u001b[0;34m)\u001b[0m\u001b[0;34m:\u001b[0m\u001b[0;34m\u001b[0m\u001b[0;34m\u001b[0m\u001b[0m\n",
            "\u001b[0;32m/usr/lib/python3.7/urllib/request.py\u001b[0m in \u001b[0;36mopen\u001b[0;34m(self, fullurl, data, timeout)\u001b[0m\n\u001b[1;32m    529\u001b[0m         \u001b[0;32mfor\u001b[0m \u001b[0mprocessor\u001b[0m \u001b[0;32min\u001b[0m \u001b[0mself\u001b[0m\u001b[0;34m.\u001b[0m\u001b[0mprocess_response\u001b[0m\u001b[0;34m.\u001b[0m\u001b[0mget\u001b[0m\u001b[0;34m(\u001b[0m\u001b[0mprotocol\u001b[0m\u001b[0;34m,\u001b[0m \u001b[0;34m[\u001b[0m\u001b[0;34m]\u001b[0m\u001b[0;34m)\u001b[0m\u001b[0;34m:\u001b[0m\u001b[0;34m\u001b[0m\u001b[0;34m\u001b[0m\u001b[0m\n\u001b[1;32m    530\u001b[0m             \u001b[0mmeth\u001b[0m \u001b[0;34m=\u001b[0m \u001b[0mgetattr\u001b[0m\u001b[0;34m(\u001b[0m\u001b[0mprocessor\u001b[0m\u001b[0;34m,\u001b[0m \u001b[0mmeth_name\u001b[0m\u001b[0;34m)\u001b[0m\u001b[0;34m\u001b[0m\u001b[0;34m\u001b[0m\u001b[0m\n\u001b[0;32m--> 531\u001b[0;31m             \u001b[0mresponse\u001b[0m \u001b[0;34m=\u001b[0m \u001b[0mmeth\u001b[0m\u001b[0;34m(\u001b[0m\u001b[0mreq\u001b[0m\u001b[0;34m,\u001b[0m \u001b[0mresponse\u001b[0m\u001b[0;34m)\u001b[0m\u001b[0;34m\u001b[0m\u001b[0;34m\u001b[0m\u001b[0m\n\u001b[0m\u001b[1;32m    532\u001b[0m \u001b[0;34m\u001b[0m\u001b[0m\n\u001b[1;32m    533\u001b[0m         \u001b[0;32mreturn\u001b[0m \u001b[0mresponse\u001b[0m\u001b[0;34m\u001b[0m\u001b[0;34m\u001b[0m\u001b[0m\n",
            "\u001b[0;32m/usr/lib/python3.7/urllib/request.py\u001b[0m in \u001b[0;36mhttp_response\u001b[0;34m(self, request, response)\u001b[0m\n\u001b[1;32m    639\u001b[0m         \u001b[0;32mif\u001b[0m \u001b[0;32mnot\u001b[0m \u001b[0;34m(\u001b[0m\u001b[0;36m200\u001b[0m \u001b[0;34m<=\u001b[0m \u001b[0mcode\u001b[0m \u001b[0;34m<\u001b[0m \u001b[0;36m300\u001b[0m\u001b[0;34m)\u001b[0m\u001b[0;34m:\u001b[0m\u001b[0;34m\u001b[0m\u001b[0;34m\u001b[0m\u001b[0m\n\u001b[1;32m    640\u001b[0m             response = self.parent.error(\n\u001b[0;32m--> 641\u001b[0;31m                 'http', request, response, code, msg, hdrs)\n\u001b[0m\u001b[1;32m    642\u001b[0m \u001b[0;34m\u001b[0m\u001b[0m\n\u001b[1;32m    643\u001b[0m         \u001b[0;32mreturn\u001b[0m \u001b[0mresponse\u001b[0m\u001b[0;34m\u001b[0m\u001b[0;34m\u001b[0m\u001b[0m\n",
            "\u001b[0;32m/usr/lib/python3.7/urllib/request.py\u001b[0m in \u001b[0;36merror\u001b[0;34m(self, proto, *args)\u001b[0m\n\u001b[1;32m    561\u001b[0m             \u001b[0mhttp_err\u001b[0m \u001b[0;34m=\u001b[0m \u001b[0;36m0\u001b[0m\u001b[0;34m\u001b[0m\u001b[0;34m\u001b[0m\u001b[0m\n\u001b[1;32m    562\u001b[0m         \u001b[0margs\u001b[0m \u001b[0;34m=\u001b[0m \u001b[0;34m(\u001b[0m\u001b[0mdict\u001b[0m\u001b[0;34m,\u001b[0m \u001b[0mproto\u001b[0m\u001b[0;34m,\u001b[0m \u001b[0mmeth_name\u001b[0m\u001b[0;34m)\u001b[0m \u001b[0;34m+\u001b[0m \u001b[0margs\u001b[0m\u001b[0;34m\u001b[0m\u001b[0;34m\u001b[0m\u001b[0m\n\u001b[0;32m--> 563\u001b[0;31m         \u001b[0mresult\u001b[0m \u001b[0;34m=\u001b[0m \u001b[0mself\u001b[0m\u001b[0;34m.\u001b[0m\u001b[0m_call_chain\u001b[0m\u001b[0;34m(\u001b[0m\u001b[0;34m*\u001b[0m\u001b[0margs\u001b[0m\u001b[0;34m)\u001b[0m\u001b[0;34m\u001b[0m\u001b[0;34m\u001b[0m\u001b[0m\n\u001b[0m\u001b[1;32m    564\u001b[0m         \u001b[0;32mif\u001b[0m \u001b[0mresult\u001b[0m\u001b[0;34m:\u001b[0m\u001b[0;34m\u001b[0m\u001b[0;34m\u001b[0m\u001b[0m\n\u001b[1;32m    565\u001b[0m             \u001b[0;32mreturn\u001b[0m \u001b[0mresult\u001b[0m\u001b[0;34m\u001b[0m\u001b[0;34m\u001b[0m\u001b[0m\n",
            "\u001b[0;32m/usr/lib/python3.7/urllib/request.py\u001b[0m in \u001b[0;36m_call_chain\u001b[0;34m(self, chain, kind, meth_name, *args)\u001b[0m\n\u001b[1;32m    501\u001b[0m         \u001b[0;32mfor\u001b[0m \u001b[0mhandler\u001b[0m \u001b[0;32min\u001b[0m \u001b[0mhandlers\u001b[0m\u001b[0;34m:\u001b[0m\u001b[0;34m\u001b[0m\u001b[0;34m\u001b[0m\u001b[0m\n\u001b[1;32m    502\u001b[0m             \u001b[0mfunc\u001b[0m \u001b[0;34m=\u001b[0m \u001b[0mgetattr\u001b[0m\u001b[0;34m(\u001b[0m\u001b[0mhandler\u001b[0m\u001b[0;34m,\u001b[0m \u001b[0mmeth_name\u001b[0m\u001b[0;34m)\u001b[0m\u001b[0;34m\u001b[0m\u001b[0;34m\u001b[0m\u001b[0m\n\u001b[0;32m--> 503\u001b[0;31m             \u001b[0mresult\u001b[0m \u001b[0;34m=\u001b[0m \u001b[0mfunc\u001b[0m\u001b[0;34m(\u001b[0m\u001b[0;34m*\u001b[0m\u001b[0margs\u001b[0m\u001b[0;34m)\u001b[0m\u001b[0;34m\u001b[0m\u001b[0;34m\u001b[0m\u001b[0m\n\u001b[0m\u001b[1;32m    504\u001b[0m             \u001b[0;32mif\u001b[0m \u001b[0mresult\u001b[0m \u001b[0;32mis\u001b[0m \u001b[0;32mnot\u001b[0m \u001b[0;32mNone\u001b[0m\u001b[0;34m:\u001b[0m\u001b[0;34m\u001b[0m\u001b[0;34m\u001b[0m\u001b[0m\n\u001b[1;32m    505\u001b[0m                 \u001b[0;32mreturn\u001b[0m \u001b[0mresult\u001b[0m\u001b[0;34m\u001b[0m\u001b[0;34m\u001b[0m\u001b[0m\n",
            "\u001b[0;32m/usr/lib/python3.7/urllib/request.py\u001b[0m in \u001b[0;36mhttp_error_302\u001b[0;34m(self, req, fp, code, msg, headers)\u001b[0m\n\u001b[1;32m    753\u001b[0m         \u001b[0mfp\u001b[0m\u001b[0;34m.\u001b[0m\u001b[0mclose\u001b[0m\u001b[0;34m(\u001b[0m\u001b[0;34m)\u001b[0m\u001b[0;34m\u001b[0m\u001b[0;34m\u001b[0m\u001b[0m\n\u001b[1;32m    754\u001b[0m \u001b[0;34m\u001b[0m\u001b[0m\n\u001b[0;32m--> 755\u001b[0;31m         \u001b[0;32mreturn\u001b[0m \u001b[0mself\u001b[0m\u001b[0;34m.\u001b[0m\u001b[0mparent\u001b[0m\u001b[0;34m.\u001b[0m\u001b[0mopen\u001b[0m\u001b[0;34m(\u001b[0m\u001b[0mnew\u001b[0m\u001b[0;34m,\u001b[0m \u001b[0mtimeout\u001b[0m\u001b[0;34m=\u001b[0m\u001b[0mreq\u001b[0m\u001b[0;34m.\u001b[0m\u001b[0mtimeout\u001b[0m\u001b[0;34m)\u001b[0m\u001b[0;34m\u001b[0m\u001b[0;34m\u001b[0m\u001b[0m\n\u001b[0m\u001b[1;32m    756\u001b[0m \u001b[0;34m\u001b[0m\u001b[0m\n\u001b[1;32m    757\u001b[0m     \u001b[0mhttp_error_301\u001b[0m \u001b[0;34m=\u001b[0m \u001b[0mhttp_error_303\u001b[0m \u001b[0;34m=\u001b[0m \u001b[0mhttp_error_307\u001b[0m \u001b[0;34m=\u001b[0m \u001b[0mhttp_error_302\u001b[0m\u001b[0;34m\u001b[0m\u001b[0;34m\u001b[0m\u001b[0m\n",
            "\u001b[0;32m/usr/lib/python3.7/urllib/request.py\u001b[0m in \u001b[0;36mopen\u001b[0;34m(self, fullurl, data, timeout)\u001b[0m\n\u001b[1;32m    523\u001b[0m             \u001b[0mreq\u001b[0m \u001b[0;34m=\u001b[0m \u001b[0mmeth\u001b[0m\u001b[0;34m(\u001b[0m\u001b[0mreq\u001b[0m\u001b[0;34m)\u001b[0m\u001b[0;34m\u001b[0m\u001b[0;34m\u001b[0m\u001b[0m\n\u001b[1;32m    524\u001b[0m \u001b[0;34m\u001b[0m\u001b[0m\n\u001b[0;32m--> 525\u001b[0;31m         \u001b[0mresponse\u001b[0m \u001b[0;34m=\u001b[0m \u001b[0mself\u001b[0m\u001b[0;34m.\u001b[0m\u001b[0m_open\u001b[0m\u001b[0;34m(\u001b[0m\u001b[0mreq\u001b[0m\u001b[0;34m,\u001b[0m \u001b[0mdata\u001b[0m\u001b[0;34m)\u001b[0m\u001b[0;34m\u001b[0m\u001b[0;34m\u001b[0m\u001b[0m\n\u001b[0m\u001b[1;32m    526\u001b[0m \u001b[0;34m\u001b[0m\u001b[0m\n\u001b[1;32m    527\u001b[0m         \u001b[0;31m# post-process response\u001b[0m\u001b[0;34m\u001b[0m\u001b[0;34m\u001b[0m\u001b[0;34m\u001b[0m\u001b[0m\n",
            "\u001b[0;32m/usr/lib/python3.7/urllib/request.py\u001b[0m in \u001b[0;36m_open\u001b[0;34m(self, req, data)\u001b[0m\n\u001b[1;32m    541\u001b[0m         \u001b[0mprotocol\u001b[0m \u001b[0;34m=\u001b[0m \u001b[0mreq\u001b[0m\u001b[0;34m.\u001b[0m\u001b[0mtype\u001b[0m\u001b[0;34m\u001b[0m\u001b[0;34m\u001b[0m\u001b[0m\n\u001b[1;32m    542\u001b[0m         result = self._call_chain(self.handle_open, protocol, protocol +\n\u001b[0;32m--> 543\u001b[0;31m                                   '_open', req)\n\u001b[0m\u001b[1;32m    544\u001b[0m         \u001b[0;32mif\u001b[0m \u001b[0mresult\u001b[0m\u001b[0;34m:\u001b[0m\u001b[0;34m\u001b[0m\u001b[0;34m\u001b[0m\u001b[0m\n\u001b[1;32m    545\u001b[0m             \u001b[0;32mreturn\u001b[0m \u001b[0mresult\u001b[0m\u001b[0;34m\u001b[0m\u001b[0;34m\u001b[0m\u001b[0m\n",
            "\u001b[0;32m/usr/lib/python3.7/urllib/request.py\u001b[0m in \u001b[0;36m_call_chain\u001b[0;34m(self, chain, kind, meth_name, *args)\u001b[0m\n\u001b[1;32m    501\u001b[0m         \u001b[0;32mfor\u001b[0m \u001b[0mhandler\u001b[0m \u001b[0;32min\u001b[0m \u001b[0mhandlers\u001b[0m\u001b[0;34m:\u001b[0m\u001b[0;34m\u001b[0m\u001b[0;34m\u001b[0m\u001b[0m\n\u001b[1;32m    502\u001b[0m             \u001b[0mfunc\u001b[0m \u001b[0;34m=\u001b[0m \u001b[0mgetattr\u001b[0m\u001b[0;34m(\u001b[0m\u001b[0mhandler\u001b[0m\u001b[0;34m,\u001b[0m \u001b[0mmeth_name\u001b[0m\u001b[0;34m)\u001b[0m\u001b[0;34m\u001b[0m\u001b[0;34m\u001b[0m\u001b[0m\n\u001b[0;32m--> 503\u001b[0;31m             \u001b[0mresult\u001b[0m \u001b[0;34m=\u001b[0m \u001b[0mfunc\u001b[0m\u001b[0;34m(\u001b[0m\u001b[0;34m*\u001b[0m\u001b[0margs\u001b[0m\u001b[0;34m)\u001b[0m\u001b[0;34m\u001b[0m\u001b[0;34m\u001b[0m\u001b[0m\n\u001b[0m\u001b[1;32m    504\u001b[0m             \u001b[0;32mif\u001b[0m \u001b[0mresult\u001b[0m \u001b[0;32mis\u001b[0m \u001b[0;32mnot\u001b[0m \u001b[0;32mNone\u001b[0m\u001b[0;34m:\u001b[0m\u001b[0;34m\u001b[0m\u001b[0;34m\u001b[0m\u001b[0m\n\u001b[1;32m    505\u001b[0m                 \u001b[0;32mreturn\u001b[0m \u001b[0mresult\u001b[0m\u001b[0;34m\u001b[0m\u001b[0;34m\u001b[0m\u001b[0m\n",
            "\u001b[0;32m/usr/lib/python3.7/urllib/request.py\u001b[0m in \u001b[0;36mhttp_open\u001b[0;34m(self, req)\u001b[0m\n\u001b[1;32m   1376\u001b[0m \u001b[0;34m\u001b[0m\u001b[0m\n\u001b[1;32m   1377\u001b[0m     \u001b[0;32mdef\u001b[0m \u001b[0mhttp_open\u001b[0m\u001b[0;34m(\u001b[0m\u001b[0mself\u001b[0m\u001b[0;34m,\u001b[0m \u001b[0mreq\u001b[0m\u001b[0;34m)\u001b[0m\u001b[0;34m:\u001b[0m\u001b[0;34m\u001b[0m\u001b[0;34m\u001b[0m\u001b[0m\n\u001b[0;32m-> 1378\u001b[0;31m         \u001b[0;32mreturn\u001b[0m \u001b[0mself\u001b[0m\u001b[0;34m.\u001b[0m\u001b[0mdo_open\u001b[0m\u001b[0;34m(\u001b[0m\u001b[0mhttp\u001b[0m\u001b[0;34m.\u001b[0m\u001b[0mclient\u001b[0m\u001b[0;34m.\u001b[0m\u001b[0mHTTPConnection\u001b[0m\u001b[0;34m,\u001b[0m \u001b[0mreq\u001b[0m\u001b[0;34m)\u001b[0m\u001b[0;34m\u001b[0m\u001b[0;34m\u001b[0m\u001b[0m\n\u001b[0m\u001b[1;32m   1379\u001b[0m \u001b[0;34m\u001b[0m\u001b[0m\n\u001b[1;32m   1380\u001b[0m     \u001b[0mhttp_request\u001b[0m \u001b[0;34m=\u001b[0m \u001b[0mAbstractHTTPHandler\u001b[0m\u001b[0;34m.\u001b[0m\u001b[0mdo_request_\u001b[0m\u001b[0;34m\u001b[0m\u001b[0;34m\u001b[0m\u001b[0m\n",
            "\u001b[0;32m/usr/lib/python3.7/urllib/request.py\u001b[0m in \u001b[0;36mdo_open\u001b[0;34m(self, http_class, req, **http_conn_args)\u001b[0m\n\u001b[1;32m   1350\u001b[0m                           encode_chunked=req.has_header('Transfer-encoding'))\n\u001b[1;32m   1351\u001b[0m             \u001b[0;32mexcept\u001b[0m \u001b[0mOSError\u001b[0m \u001b[0;32mas\u001b[0m \u001b[0merr\u001b[0m\u001b[0;34m:\u001b[0m \u001b[0;31m# timeout error\u001b[0m\u001b[0;34m\u001b[0m\u001b[0;34m\u001b[0m\u001b[0m\n\u001b[0;32m-> 1352\u001b[0;31m                 \u001b[0;32mraise\u001b[0m \u001b[0mURLError\u001b[0m\u001b[0;34m(\u001b[0m\u001b[0merr\u001b[0m\u001b[0;34m)\u001b[0m\u001b[0;34m\u001b[0m\u001b[0;34m\u001b[0m\u001b[0m\n\u001b[0m\u001b[1;32m   1353\u001b[0m             \u001b[0mr\u001b[0m \u001b[0;34m=\u001b[0m \u001b[0mh\u001b[0m\u001b[0;34m.\u001b[0m\u001b[0mgetresponse\u001b[0m\u001b[0;34m(\u001b[0m\u001b[0;34m)\u001b[0m\u001b[0;34m\u001b[0m\u001b[0;34m\u001b[0m\u001b[0m\n\u001b[1;32m   1354\u001b[0m         \u001b[0;32mexcept\u001b[0m\u001b[0;34m:\u001b[0m\u001b[0;34m\u001b[0m\u001b[0;34m\u001b[0m\u001b[0m\n",
            "\u001b[0;31mURLError\u001b[0m: <urlopen error [Errno 110] Connection timed out>"
          ]
        }
      ]
    },
    {
      "cell_type": "code",
      "metadata": {
        "id": "-8Vr_DEqQPYK"
      },
      "source": [
        "import urllib.request # urllib 모듈 호출\n",
        "import re\n",
        "url = \"http://www.google.com/googlebooks/uspto-patents-grants-text.html\" \n",
        "#url 값 입력\n",
        "html = urllib.request.urlopen(url) # url 열기\n",
        "html_contents = str(html.read().decode(\"utf8\")) \n",
        "\n",
        "# html 파일 읽고, 문자열로 변환\n",
        "url_list = re.findall(r\"(http)(.+)(zip)\", html_contents)\n",
        "for url in url_list:\n",
        "  print(\"\".join(url)) # 출력된 Tuple 형태 데이터 str으로 join"
      ],
      "execution_count": null,
      "outputs": []
    },
    {
      "cell_type": "code",
      "metadata": {
        "id": "2uIoLBnA-k2L"
      },
      "source": [
        ""
      ],
      "execution_count": null,
      "outputs": []
    },
    {
      "cell_type": "code",
      "metadata": {
        "colab": {
          "base_uri": "https://localhost:8080/"
        },
        "id": "BbhPVSMa-k4h",
        "outputId": "ab0e1118-74ff-4dfd-efb3-6e721428c8de"
      },
      "source": [
        "import urllib.request\n",
        "import re\n",
        "url = \"http://finance.naver.com/item/main.nhn?code=005930\"\n",
        "html = urllib.request.urlopen(url)\n",
        "html_contents = str(html.read().decode(\"ms949\"))\n",
        "stock_results = re.findall(\"(\\<dl class=\\\"blind\\\"\\>)([\\s\\S]+?)(\\<\\/dl\\>)\", html_contents)\n",
        "samsung_stock = stock_results[0] # 두 개 tuple 값중 첫번째 패턴\n",
        "samsung_index = samsung_stock[1] # 세 개의 tuple 값중 두 번째 값\n",
        "# 하나의 괄호가 tuple index가 됨\n",
        "index_list= re.findall(\"(\\<dd\\>)([\\s\\S]+?)(\\<\\/dd\\>)\", samsung_index)\n",
        "for index in index_list:\n",
        "  print (index[1]) # 세 개의 tuple 값중 두 번째 값"
      ],
      "execution_count": 2,
      "outputs": [
        {
          "output_type": "stream",
          "text": [
            "2021년 07월 19일 16시 11분 기준 장마감\n",
            "종목명 삼성전자\n",
            "종목코드 005930 코스피\n",
            "현재가 79,000 전일대비 하락 800 마이너스 1.00 퍼센트\n",
            "전일가 79,800\n",
            "시가 79,100\n",
            "고가 79,200\n",
            "상한가 103,500\n",
            "저가 78,800\n",
            "하한가 55,900\n",
            "거래량 13,080,285\n",
            "거래대금 1,033,086백만\n"
          ],
          "name": "stdout"
        }
      ]
    },
    {
      "cell_type": "code",
      "metadata": {
        "id": "psWgF9Ha-k7S"
      },
      "source": [
        ""
      ],
      "execution_count": null,
      "outputs": []
    }
  ]
}