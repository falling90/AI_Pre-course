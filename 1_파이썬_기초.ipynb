{
  "nbformat": 4,
  "nbformat_minor": 0,
  "metadata": {
    "colab": {
      "name": "1. 파이썬 기초.ipynb",
      "provenance": [],
      "collapsed_sections": [],
      "authorship_tag": "ABX9TyOd66FITy5YNqByWTAQ9sqL",
      "include_colab_link": true
    },
    "kernelspec": {
      "name": "python3",
      "display_name": "Python 3"
    },
    "language_info": {
      "name": "python"
    }
  },
  "cells": [
    {
      "cell_type": "markdown",
      "metadata": {
        "id": "view-in-github",
        "colab_type": "text"
      },
      "source": [
        "<a href=\"https://colab.research.google.com/github/falling90/AI_Pre-course/blob/main/1_%ED%8C%8C%EC%9D%B4%EC%8D%AC_%EA%B8%B0%EC%B4%88.ipynb\" target=\"_parent\"><img src=\"https://colab.research.google.com/assets/colab-badge.svg\" alt=\"Open In Colab\"/></a>"
      ]
    },
    {
      "cell_type": "markdown",
      "metadata": {
        "id": "uuZkV9lo9sfm"
      },
      "source": [
        "##1) 파이썬/AI 개발환경 [정리 完]\n",
        "### 　A. 파이썬 코딩환경(Windows)"
      ]
    },
    {
      "cell_type": "markdown",
      "metadata": {
        "id": "EJV9SUBK_8GH"
      },
      "source": [
        "■ Windows Editor 추천\n",
        "  1. cmder : cmd와 유사 (UI화면 및 조작 편리)\n",
        "  2. Visual Studio Code (Python Linting 도구가 있어 작업 편리성 향상)\n",
        "    → 프로그램 설치 후 cmd 에서 \"code .\" 입력"
      ]
    },
    {
      "cell_type": "code",
      "metadata": {
        "id": "nuTAjq9dAN4R"
      },
      "source": [
        ""
      ],
      "execution_count": null,
      "outputs": []
    },
    {
      "cell_type": "markdown",
      "metadata": {
        "id": "LCK0EvjfAOUm"
      },
      "source": [
        "##2) 파이썬 기초 문법 [정리 完]\n",
        "### 　A. Variables"
      ]
    },
    {
      "cell_type": "markdown",
      "metadata": {
        "id": "C0JK9Gd5jbFd"
      },
      "source": [
        "> 변수의 Type 확인 : type(변수명)  \n",
        "> Dynamic Typing : 자료형을 지정해주지 않아도 코드 실행 시점에 데이터의 Type을 결정 (Python의 장점)"
      ]
    },
    {
      "cell_type": "code",
      "metadata": {
        "id": "GyF7zOyZ9rW4",
        "colab": {
          "base_uri": "https://localhost:8080/"
        },
        "outputId": "0e4bed9f-f053-4756-d9a9-2d4fe8989048"
      },
      "source": [
        "a = 1\n",
        "print(f\"a = {a} → {type(a)}\")\n",
        "\n",
        "a = 1.5\n",
        "print(f\"a = {a} → {type(a)}\")\n",
        "\n",
        "a = \"Hello\"\n",
        "print(f\"a = {a} → {type(a)}\")"
      ],
      "execution_count": 1,
      "outputs": [
        {
          "output_type": "stream",
          "text": [
            "a = 1 → <class 'int'>\n",
            "a = 1.5 → <class 'float'>\n",
            "a = Hello → <class 'str'>\n"
          ],
          "name": "stdout"
        }
      ]
    },
    {
      "cell_type": "markdown",
      "metadata": {
        "id": "dlukJXoZn2Pl"
      },
      "source": [
        "####■ List (Array)"
      ]
    },
    {
      "cell_type": "markdown",
      "metadata": {
        "id": "GGFKiME3oSbl"
      },
      "source": [
        "> List 內 element 수 확인 : len(변수명)"
      ]
    },
    {
      "cell_type": "code",
      "metadata": {
        "id": "L1Abab079rZb",
        "colab": {
          "base_uri": "https://localhost:8080/"
        },
        "outputId": "01b41aac-43a2-4845-db8e-68cc22278f72"
      },
      "source": [
        "colors = [\"Red\", \"Blue\", \"Green\"]\n",
        "\n",
        "print(colors[0])\n",
        "print(colors[2])\n",
        "print(f\"\\nColors element 수 : {len(colors)}\")"
      ],
      "execution_count": 2,
      "outputs": [
        {
          "output_type": "stream",
          "text": [
            "Red\n",
            "Green\n",
            "\n",
            "Colors element 수 : 3\n"
          ],
          "name": "stdout"
        }
      ]
    },
    {
      "cell_type": "code",
      "metadata": {
        "id": "5IpsENzvsKXj"
      },
      "source": [
        ""
      ],
      "execution_count": 2,
      "outputs": []
    },
    {
      "cell_type": "markdown",
      "metadata": {
        "id": "FWhNSFoKosSW"
      },
      "source": [
        "> Slicing : list의 값들을 잘라서 사용"
      ]
    },
    {
      "cell_type": "code",
      "metadata": {
        "id": "tVVbzd3D9rcB",
        "colab": {
          "base_uri": "https://localhost:8080/"
        },
        "outputId": "75e90edc-f4ca-4a6a-e946-a62503cb94b7"
      },
      "source": [
        "#           -8      -7      -6      -5      -4      -3      -2      -1\n",
        "#            0       1       2       3       4       5       6       7\n",
        "cities = [\"서울\", \"부산\", \"인천\", \"대구\", \"대전\", \"광주\", \"울산\", \"수원\"]\n",
        "\n",
        "print(f\"0:6 = {cities[0:6]}\")\n",
        "print(f\":6 = {cities[:6]}\")\n",
        "print(f\"5:10 = {cities[5:10]}\")\n",
        "print(f\"5: = {cities[5:]}\")\n",
        "\n",
        "print(f\"-9:-3 = {cities[-9:-3]}\")\n",
        "print(f\": = {cities[:]}\")\n",
        "print(f\"-50:50 = {cities[-50:50]}\")\n",
        "\n",
        "print(f\"::2 = {cities[::2]}\")\n",
        "print(f\"3::2 = {cities[3::2]}\")\n",
        "print(f\":5:2 = {cities[:5:2]}\")\n",
        "\n",
        "print(f\"::-1 = {cities[::-1]}\")\n",
        "print(f\"4::-1 = {cities[4::-1]}\")\n",
        "print(f\":5:-1 = {cities[:5:-1]}\")"
      ],
      "execution_count": 3,
      "outputs": [
        {
          "output_type": "stream",
          "text": [
            "0:6 = ['서울', '부산', '인천', '대구', '대전', '광주']\n",
            ":6 = ['서울', '부산', '인천', '대구', '대전', '광주']\n",
            "5:10 = ['광주', '울산', '수원']\n",
            "5: = ['광주', '울산', '수원']\n",
            "-9:-3 = ['서울', '부산', '인천', '대구', '대전']\n",
            ": = ['서울', '부산', '인천', '대구', '대전', '광주', '울산', '수원']\n",
            "-50:50 = ['서울', '부산', '인천', '대구', '대전', '광주', '울산', '수원']\n",
            "::2 = ['서울', '인천', '대전', '울산']\n",
            "3::2 = ['대구', '광주', '수원']\n",
            ":5:2 = ['서울', '인천', '대전']\n",
            "::-1 = ['수원', '울산', '광주', '대전', '대구', '인천', '부산', '서울']\n",
            "4::-1 = ['대전', '대구', '인천', '부산', '서울']\n",
            ":5:-1 = ['수원', '울산']\n"
          ],
          "name": "stdout"
        }
      ]
    },
    {
      "cell_type": "code",
      "metadata": {
        "id": "VpewmRHOsLRW"
      },
      "source": [
        ""
      ],
      "execution_count": 3,
      "outputs": []
    },
    {
      "cell_type": "markdown",
      "metadata": {
        "id": "v3azKYIHrGUo"
      },
      "source": [
        "> Concatenation (list 연산)"
      ]
    },
    {
      "cell_type": "code",
      "metadata": {
        "id": "WlYbOPCf9reW",
        "colab": {
          "base_uri": "https://localhost:8080/"
        },
        "outputId": "fb097a60-da7b-4688-d00e-6cf14c6cf9ea"
      },
      "source": [
        "color1 = [\"Red\", \"Blue\", \"Green\"]\n",
        "color2 = [\"Orange\", \"Black\", \"White\"]\n",
        "\n",
        "print(f\"color1 + color2 = {color1 + color2}\")\n",
        "print(f\"color1 * 2 = {color1 * 2}\")"
      ],
      "execution_count": 4,
      "outputs": [
        {
          "output_type": "stream",
          "text": [
            "color1 + color2 = ['Red', 'Blue', 'Green', 'Orange', 'Black', 'White']\n",
            "color1 * 2 = ['Red', 'Blue', 'Green', 'Red', 'Blue', 'Green']\n"
          ],
          "name": "stdout"
        }
      ]
    },
    {
      "cell_type": "code",
      "metadata": {
        "id": "Tv_o9o72sMH9"
      },
      "source": [
        ""
      ],
      "execution_count": 4,
      "outputs": []
    },
    {
      "cell_type": "markdown",
      "metadata": {
        "id": "GFnKWDiBrzmV"
      },
      "source": [
        "> List 추가/삭제 : append, extend, insert, remove, del"
      ]
    },
    {
      "cell_type": "code",
      "metadata": {
        "id": "DjFMln1D9rg1",
        "colab": {
          "base_uri": "https://localhost:8080/"
        },
        "outputId": "bde5815e-defe-4b52-ca4f-c17c1250cf4f"
      },
      "source": [
        "color = [\"Red\", \"Blue\", \"Green\"]\n",
        "print(color)\n",
        "color.append(\"White\")\n",
        "print(color)\n",
        "color.extend([\"Black\",\"Purple\"])\n",
        "print(color)\n",
        "color.insert(1, \"Yellow\")\n",
        "print(color)\n",
        "print()\n",
        "\n",
        "color.remove(\"White\")\n",
        "print(color)\n",
        "del color[1]\n",
        "print(color)"
      ],
      "execution_count": 5,
      "outputs": [
        {
          "output_type": "stream",
          "text": [
            "['Red', 'Blue', 'Green']\n",
            "['Red', 'Blue', 'Green', 'White']\n",
            "['Red', 'Blue', 'Green', 'White', 'Black', 'Purple']\n",
            "['Red', 'Yellow', 'Blue', 'Green', 'White', 'Black', 'Purple']\n",
            "\n",
            "['Red', 'Yellow', 'Blue', 'Green', 'Black', 'Purple']\n",
            "['Red', 'Blue', 'Green', 'Black', 'Purple']\n"
          ],
          "name": "stdout"
        }
      ]
    },
    {
      "cell_type": "code",
      "metadata": {
        "id": "v_5BIQnL9rjL"
      },
      "source": [
        ""
      ],
      "execution_count": 5,
      "outputs": []
    },
    {
      "cell_type": "markdown",
      "metadata": {
        "id": "wILVig_Qtjye"
      },
      "source": [
        "> Python List의 특징 : 다양한 Data Type이 하나의 List에 들어갈 수 있음"
      ]
    },
    {
      "cell_type": "code",
      "metadata": {
        "id": "Dir6Hg4W9rlv",
        "colab": {
          "base_uri": "https://localhost:8080/"
        },
        "outputId": "234db65f-9e51-4853-c5fc-6fd20fc5ee46"
      },
      "source": [
        "a = [\"color\", 1, 0.2]\n",
        "print(a)\n",
        "\n",
        "a = [[\"Red\", \"Blue\", \"Green\"], 1, 0.2]\n",
        "print(a)\n",
        "\n",
        "color = [\"Red\", \"Blue\"]\n",
        "a = [color, 1, 0.2]\n",
        "print(a)"
      ],
      "execution_count": 6,
      "outputs": [
        {
          "output_type": "stream",
          "text": [
            "['color', 1, 0.2]\n",
            "[['Red', 'Blue', 'Green'], 1, 0.2]\n",
            "[['Red', 'Blue'], 1, 0.2]\n"
          ],
          "name": "stdout"
        }
      ]
    },
    {
      "cell_type": "code",
      "metadata": {
        "id": "zm9Odq2F9roY"
      },
      "source": [
        ""
      ],
      "execution_count": 6,
      "outputs": []
    },
    {
      "cell_type": "markdown",
      "metadata": {
        "id": "k2Bgy-n1uJfV"
      },
      "source": [
        "> Sort (정렬)"
      ]
    },
    {
      "cell_type": "code",
      "metadata": {
        "id": "3on2XPfM9rrA",
        "colab": {
          "base_uri": "https://localhost:8080/"
        },
        "outputId": "652763a6-5d08-4693-96fc-0e792bb228bd"
      },
      "source": [
        "a = [2, 4, 1, 5, 3]\n",
        "print(a)\n",
        "\n",
        "sorted(a)\n",
        "print(sorted(a))\n",
        "print(a)\n",
        "\n",
        "a.sort()\n",
        "print(a)"
      ],
      "execution_count": 7,
      "outputs": [
        {
          "output_type": "stream",
          "text": [
            "[2, 4, 1, 5, 3]\n",
            "[1, 2, 3, 4, 5]\n",
            "[2, 4, 1, 5, 3]\n",
            "[1, 2, 3, 4, 5]\n"
          ],
          "name": "stdout"
        }
      ]
    },
    {
      "cell_type": "code",
      "metadata": {
        "id": "DaFJGLum9rtg"
      },
      "source": [
        ""
      ],
      "execution_count": 7,
      "outputs": []
    },
    {
      "cell_type": "markdown",
      "metadata": {
        "id": "6AP5FG0cunWi"
      },
      "source": [
        "> 메모리 주소 복사(할당)  ↔  데이터 복사의 차이 (+ Deep Copy)"
      ]
    },
    {
      "cell_type": "code",
      "metadata": {
        "id": "V0QwqXQN9rwM",
        "colab": {
          "base_uri": "https://localhost:8080/"
        },
        "outputId": "2bedcd00-865c-4c3d-d34f-c818439cfccb"
      },
      "source": [
        "a = [1, 2, 3, 4, 5]\n",
        "b = [5, 4, 3, 2, 1]\n",
        "\n",
        "a = b       # 메모리 주소 복사 (할당)\n",
        "print(a)\n",
        "print(b)\n",
        "\n",
        "a.sort()\n",
        "print(a)\n",
        "print(b)"
      ],
      "execution_count": 8,
      "outputs": [
        {
          "output_type": "stream",
          "text": [
            "[5, 4, 3, 2, 1]\n",
            "[5, 4, 3, 2, 1]\n",
            "[1, 2, 3, 4, 5]\n",
            "[1, 2, 3, 4, 5]\n"
          ],
          "name": "stdout"
        }
      ]
    },
    {
      "cell_type": "code",
      "metadata": {
        "id": "FNI54gWR9rzD",
        "colab": {
          "base_uri": "https://localhost:8080/"
        },
        "outputId": "b0a704e7-62e7-4ef4-caa9-2f24d1b406fa"
      },
      "source": [
        "a = [1, 2, 3, 4, 5]\n",
        "b = [5, 4, 3, 2, 1]\n",
        "\n",
        "a = b[:]    # 데이터 복사\n",
        "print(a)\n",
        "print(b)\n",
        "\n",
        "a.sort()\n",
        "print(a)\n",
        "print(b)"
      ],
      "execution_count": 9,
      "outputs": [
        {
          "output_type": "stream",
          "text": [
            "[5, 4, 3, 2, 1]\n",
            "[5, 4, 3, 2, 1]\n",
            "[1, 2, 3, 4, 5]\n",
            "[5, 4, 3, 2, 1]\n"
          ],
          "name": "stdout"
        }
      ]
    },
    {
      "cell_type": "code",
      "metadata": {
        "colab": {
          "base_uri": "https://localhost:8080/"
        },
        "id": "mdygq78NwYAY",
        "outputId": "6e4af3eb-877e-43ea-afc6-6bf1e09ee65a"
      },
      "source": [
        "a = [1, 2, 3, 4, 5]\n",
        "b = [5, 4, 3, 2, 1]\n",
        "c = [2, 4, 1, 5, 3]\n",
        "\n",
        "All = [a, b, c]\n",
        "print(All)\n",
        "print(All[0][3])\n",
        "\n",
        "Temp = All[:]    # 데이터 복사(?)\n",
        "print(All)\n",
        "print(Temp)\n",
        "print()\n",
        "\n",
        "All[0][3] = 5\n",
        "print(All)\n",
        "print(Temp)      # ※ 데이터 복사가 안되고 메모리 주소가 복사된 것으로 확인!"
      ],
      "execution_count": 10,
      "outputs": [
        {
          "output_type": "stream",
          "text": [
            "[[1, 2, 3, 4, 5], [5, 4, 3, 2, 1], [2, 4, 1, 5, 3]]\n",
            "4\n",
            "[[1, 2, 3, 4, 5], [5, 4, 3, 2, 1], [2, 4, 1, 5, 3]]\n",
            "[[1, 2, 3, 4, 5], [5, 4, 3, 2, 1], [2, 4, 1, 5, 3]]\n",
            "\n",
            "[[1, 2, 3, 5, 5], [5, 4, 3, 2, 1], [2, 4, 1, 5, 3]]\n",
            "[[1, 2, 3, 5, 5], [5, 4, 3, 2, 1], [2, 4, 1, 5, 3]]\n"
          ],
          "name": "stdout"
        }
      ]
    },
    {
      "cell_type": "code",
      "metadata": {
        "colab": {
          "base_uri": "https://localhost:8080/"
        },
        "id": "re8WHBdVxVSG",
        "outputId": "f7bfbd50-0f5e-406b-c4dc-8285039feefa"
      },
      "source": [
        "# 해결책 : copy.deepcopy 사용\n",
        "import copy\n",
        "\n",
        "a = [1, 2, 3, 4, 5]\n",
        "b = [5, 4, 3, 2, 1]\n",
        "c = [2, 4, 1, 5, 3]\n",
        "\n",
        "All = [a, b, c]\n",
        "print(All)\n",
        "print(All[0][3])\n",
        "\n",
        "Temp = copy.deepcopy(All)    # 데이터 복사 (Deep Copy)\n",
        "print(All)\n",
        "print(Temp)\n",
        "print()\n",
        "\n",
        "All[0][3] = 5\n",
        "print(All)\n",
        "print(Temp)      # 데이터 복사 정상 확인"
      ],
      "execution_count": 11,
      "outputs": [
        {
          "output_type": "stream",
          "text": [
            "[[1, 2, 3, 4, 5], [5, 4, 3, 2, 1], [2, 4, 1, 5, 3]]\n",
            "4\n",
            "[[1, 2, 3, 4, 5], [5, 4, 3, 2, 1], [2, 4, 1, 5, 3]]\n",
            "[[1, 2, 3, 4, 5], [5, 4, 3, 2, 1], [2, 4, 1, 5, 3]]\n",
            "\n",
            "[[1, 2, 3, 5, 5], [5, 4, 3, 2, 1], [2, 4, 1, 5, 3]]\n",
            "[[1, 2, 3, 4, 5], [5, 4, 3, 2, 1], [2, 4, 1, 5, 3]]\n"
          ],
          "name": "stdout"
        }
      ]
    },
    {
      "cell_type": "code",
      "metadata": {
        "id": "d5ry0Ba_9r1b"
      },
      "source": [
        ""
      ],
      "execution_count": 11,
      "outputs": []
    },
    {
      "cell_type": "markdown",
      "metadata": {
        "id": "f6V4YUsWvK1d"
      },
      "source": [
        "> Packing : 한 변수에 여러 개의 데이터를 넣는 것  \n",
        "> Unpacking : 한 변수의 데이터를 각각의 변수로 반환"
      ]
    },
    {
      "cell_type": "code",
      "metadata": {
        "id": "NkMU4Foy9r4D",
        "colab": {
          "base_uri": "https://localhost:8080/"
        },
        "outputId": "551357f7-822d-46c2-c1db-ad9c0f0c7002"
      },
      "source": [
        "t = [1, 2, 3]       # 1, 2, 3을 변수 t 에 패킹\n",
        "a, b, c = t         # t에 있는 값 1, 2, 3 을 변수 a, b, c 에 언패킹\n",
        "print(t)\n",
        "print(a)\n",
        "print(b)\n",
        "print(c)"
      ],
      "execution_count": 12,
      "outputs": [
        {
          "output_type": "stream",
          "text": [
            "[1, 2, 3]\n",
            "1\n",
            "2\n",
            "3\n"
          ],
          "name": "stdout"
        }
      ]
    },
    {
      "cell_type": "code",
      "metadata": {
        "id": "Q4ozZ2F99r6I"
      },
      "source": [
        ""
      ],
      "execution_count": 12,
      "outputs": []
    },
    {
      "cell_type": "markdown",
      "metadata": {
        "id": "opFLbu-5yZTU"
      },
      "source": [
        "##2) 파이썬 기초 문법 [정리 完]\n",
        "### 　B. Function and Console I/O"
      ]
    },
    {
      "cell_type": "code",
      "metadata": {
        "colab": {
          "base_uri": "https://localhost:8080/"
        },
        "id": "cdGV9oYoyZql",
        "outputId": "6532dba8-aae4-44f9-a878-7ded8d3c19f0"
      },
      "source": [
        "print(\"Hello\", \"World\", 100)\n",
        "print(\"Hello\", \"World\"+str(100))\n",
        "\n",
        "temperature = float(input(\"온도를 입력하세요 : \"))\n",
        "print(temperature)"
      ],
      "execution_count": 13,
      "outputs": [
        {
          "output_type": "stream",
          "text": [
            "Hello World 100\n",
            "Hello World100\n",
            "온도를 입력하세요 : 33\n",
            "33.0\n"
          ],
          "name": "stdout"
        }
      ]
    },
    {
      "cell_type": "code",
      "metadata": {
        "colab": {
          "base_uri": "https://localhost:8080/"
        },
        "id": "HBlFnhgKyZs0",
        "outputId": "a6b2e804-f67f-4f0f-fd5e-a9882a6c6058"
      },
      "source": [
        "print(1, 2, 3)\n",
        "print(\"a\" + \" \" + \"b\" + \" \" + \"c\")\n",
        "print(\"%d %f\" % (4, 5))\n",
        "print(\"Data : %10.3f\" % 425.2424)\n",
        "print(\"%s %s %s\" % (\"Hi\", \"Hello\", \"Bye\"))\n",
        "\n",
        "number = 5\n",
        "day = \"three\"\n",
        "print(\"I ate %d apples. I was sick for %s days.\" % (number, day))\n",
        "print(\"I ate %(applenum)d apples. I was sick for %(appleday)s days.\" % {\"applenum\":919, \"appleday\":\"ten\"})\n",
        "print(\"{} {} {}\".format(\"d\", \"e\", \"f\"))\n",
        "\n",
        "name = \"KJY\"\n",
        "age = 32.5415493\n",
        "print(\"My name is {0} and {1} years old.\".format(name, age))\n",
        "print(\"My name is {1} and {0} years old.\".format(age, name))\n",
        "print(\"My name is {0:>10s} and {1:>10.2f} years old.\".format(name, age))\n",
        "print(\"My name is {0:<10s} and {1:<10.2f} years old.\".format(name, age))\n",
        "\n",
        "\n",
        "value = 123\n",
        "print(f\"value is {value}\")\n",
        "print(f\"value is {value:*<10}\")\n",
        "print(f\"value is {value:*>10}\")\n",
        "print(f\"value is {value:*^10}\")"
      ],
      "execution_count": 14,
      "outputs": [
        {
          "output_type": "stream",
          "text": [
            "1 2 3\n",
            "a b c\n",
            "4 5.000000\n",
            "Data :    425.242\n",
            "Hi Hello Bye\n",
            "I ate 5 apples. I was sick for three days.\n",
            "I ate 919 apples. I was sick for ten days.\n",
            "d e f\n",
            "My name is KJY and 32.5415493 years old.\n",
            "My name is KJY and 32.5415493 years old.\n",
            "My name is        KJY and      32.54 years old.\n",
            "My name is KJY        and 32.54      years old.\n",
            "value is 123\n",
            "value is 123*******\n",
            "value is *******123\n",
            "value is ***123****\n"
          ],
          "name": "stdout"
        }
      ]
    },
    {
      "cell_type": "code",
      "metadata": {
        "id": "m9q-2H0dyZvc"
      },
      "source": [
        ""
      ],
      "execution_count": 14,
      "outputs": []
    },
    {
      "cell_type": "markdown",
      "metadata": {
        "id": "xQZPLr0gU6Bk"
      },
      "source": [
        "##2) 파이썬 기초 문법 [정리 完]\n",
        "### 　C. Conditionals and Loops"
      ]
    },
    {
      "cell_type": "code",
      "metadata": {
        "colab": {
          "base_uri": "https://localhost:8080/"
        },
        "id": "YoviDxWRyZyC",
        "outputId": "b7816ec7-b1ac-4d90-b38e-51b49c48070f"
      },
      "source": [
        "a = [1, 2, 3, 4, 5]\n",
        "b = [1, 2, 3, 4, 5]\n",
        "print(a == b)\n",
        "print(a is b)   # is 는 메모리 주소를 비교하는 연산자이다!\n",
        "print()\n",
        "\n",
        "a = b\n",
        "print(a == b)\n",
        "print(a is b)\n",
        "print()\n",
        "\n",
        "a = -5\n",
        "b = -5\n",
        "print(a == b)\n",
        "print(a is b)\n",
        "print()\n",
        "\n",
        "a = -6\n",
        "b = -6\n",
        "print(a == b)\n",
        "print(a is b)\n",
        "print()\n",
        "\n",
        "a = 256\n",
        "b = 256\n",
        "print(a == b)\n",
        "print(a is b)\n",
        "print()\n",
        "\n",
        "a = 257\n",
        "b = 257\n",
        "print(a == b)\n",
        "print(a is b)\n",
        "print()\n",
        "\n",
        "# 숫자 -5 ~ 256 까지는 메모리 주소로 참조하기 때문에 is 로 true 가 반환되고, 그 외 숫자는 새로 할당이 되기 때문에 false 가 반환됨.\n",
        "\n",
        "# 옛날 속도가 그린 문제점을 개선하기 위하여 자주 쓰는 숫자(-5~256)는 메모리 주소로 참조했다고 함"
      ],
      "execution_count": 15,
      "outputs": [
        {
          "output_type": "stream",
          "text": [
            "True\n",
            "False\n",
            "\n",
            "True\n",
            "True\n",
            "\n",
            "True\n",
            "True\n",
            "\n",
            "True\n",
            "False\n",
            "\n",
            "True\n",
            "True\n",
            "\n",
            "True\n",
            "False\n",
            "\n"
          ],
          "name": "stdout"
        }
      ]
    },
    {
      "cell_type": "code",
      "metadata": {
        "colab": {
          "base_uri": "https://localhost:8080/"
        },
        "id": "DmqKkBLjyZ03",
        "outputId": "b1ba76c4-cb3d-454f-e7e8-a29cc3ee0c85"
      },
      "source": [
        "a = True\n",
        "b = False\n",
        "print(a and b)\n",
        "print(a or b)\n",
        "print()\n",
        "\n",
        "boolean_list = [True, False, False, True, False]\n",
        "print(all(boolean_list))\n",
        "print(any(boolean_list))"
      ],
      "execution_count": 16,
      "outputs": [
        {
          "output_type": "stream",
          "text": [
            "False\n",
            "True\n",
            "\n",
            "False\n",
            "True\n"
          ],
          "name": "stdout"
        }
      ]
    },
    {
      "cell_type": "code",
      "metadata": {
        "colab": {
          "base_uri": "https://localhost:8080/"
        },
        "id": "BIpVqHA3yZ2v",
        "outputId": "8b14e8f8-3263-4f84-f086-7a95606e523a"
      },
      "source": [
        "#삼항 연산자(Ternary Operators)\n",
        "values = 10\n",
        "is_even = True if values % 2 == 0 else False\n",
        "print(is_even)\n",
        "\n",
        "values = 11\n",
        "is_even = True if values % 2 == 0 else False\n",
        "print(is_even)"
      ],
      "execution_count": 17,
      "outputs": [
        {
          "output_type": "stream",
          "text": [
            "True\n",
            "False\n"
          ],
          "name": "stdout"
        }
      ]
    },
    {
      "cell_type": "code",
      "metadata": {
        "colab": {
          "base_uri": "https://localhost:8080/"
        },
        "id": "KijOu_ZjyZ5R",
        "outputId": "6e48a4aa-d578-4612-e182-87b421e3aecc"
      },
      "source": [
        "for looper in [0, 1, 2]:\n",
        "  print(looper)\n",
        "print()\n",
        "\n",
        "for looper in range(0,3):\n",
        "  print(looper)\n",
        "print()\n",
        "\n",
        "for looper in range(3):\n",
        "  print(looper)\n",
        "print()\n",
        "\n",
        "print(range(3))\n",
        "print(list(range(3)))"
      ],
      "execution_count": 18,
      "outputs": [
        {
          "output_type": "stream",
          "text": [
            "0\n",
            "1\n",
            "2\n",
            "\n",
            "0\n",
            "1\n",
            "2\n",
            "\n",
            "0\n",
            "1\n",
            "2\n",
            "\n",
            "range(0, 3)\n",
            "[0, 1, 2]\n"
          ],
          "name": "stdout"
        }
      ]
    },
    {
      "cell_type": "code",
      "metadata": {
        "colab": {
          "base_uri": "https://localhost:8080/"
        },
        "id": "9duYKcw9yZ7r",
        "outputId": "eed29e3a-123c-4fa4-cc00-84e7cef81674"
      },
      "source": [
        "for looper in range(0, 5, 2):\n",
        "  print(looper)\n",
        "print()\n",
        "\n",
        "for looper in range(5, 0, -1):\n",
        "  print(looper)\n",
        "print()"
      ],
      "execution_count": 19,
      "outputs": [
        {
          "output_type": "stream",
          "text": [
            "0\n",
            "2\n",
            "4\n",
            "\n",
            "5\n",
            "4\n",
            "3\n",
            "2\n",
            "1\n",
            "\n"
          ],
          "name": "stdout"
        }
      ]
    },
    {
      "cell_type": "code",
      "metadata": {
        "colab": {
          "base_uri": "https://localhost:8080/"
        },
        "id": "yE2Q7ASFyZ-H",
        "outputId": "846747b0-dc69-4a08-c13f-0439defb4cdb"
      },
      "source": [
        "if __name__ == \"__main__\":\n",
        "  print(\"Hi\")"
      ],
      "execution_count": 20,
      "outputs": [
        {
          "output_type": "stream",
          "text": [
            "Hi\n"
          ],
          "name": "stdout"
        }
      ]
    },
    {
      "cell_type": "code",
      "metadata": {
        "id": "teYrtbkPfOyS"
      },
      "source": [
        ""
      ],
      "execution_count": 20,
      "outputs": []
    },
    {
      "cell_type": "markdown",
      "metadata": {
        "id": "5hgfBr9thE2E"
      },
      "source": [
        "##2) 파이썬 기초 문법 [정리 完]\n",
        "### 　D. String and advanced function concept"
      ]
    },
    {
      "cell_type": "code",
      "metadata": {
        "colab": {
          "base_uri": "https://localhost:8080/"
        },
        "id": "XeMNu4gLhFCx",
        "outputId": "296cf5ba-8435-48e7-971a-d027fca35362"
      },
      "source": [
        "import sys\n",
        "\n",
        "print(sys.getsizeof(\"a\"), sys.getsizeof(\"ko\"), sys.getsizeof(\"c\"), sys.getsizeof(\"hello\"))"
      ],
      "execution_count": 21,
      "outputs": [
        {
          "output_type": "stream",
          "text": [
            "50 51 50 54\n"
          ],
          "name": "stdout"
        }
      ]
    },
    {
      "cell_type": "code",
      "metadata": {
        "colab": {
          "base_uri": "https://localhost:8080/"
        },
        "id": "WT9nKIAnhFFZ",
        "outputId": "680ed2f6-aeda-4fc2-9248-b937248c4149"
      },
      "source": [
        "a = \"hElLo HELLO hello\"\n",
        "print(len(a))\n",
        "print(\"upper = \", a.upper())\n",
        "print(\"lower = \", a.lower())\n",
        "print(\"capitalize =\", a.capitalize())\n",
        "print(\"title =\", a.title())\n",
        "print(\"count('E') =\", a.count('E'))\n",
        "print(\"find('L') =\", a.find('L'))\n",
        "print(\"rfind('L') =\", a.rfind('L'))\n",
        "print(\"startswith('he') =\", a.startswith('he'))\n",
        "print(\"endswith('lo') =\", a.endswith('lo'))\n",
        "print()\n",
        "\n",
        "b = \" hElLo HELLO hello   \"\n",
        "print(\"b = \", b, \"*\")\n",
        "print(\"strip = \", b.strip(), \"*\")\n",
        "print(\"rstrip = \", b.rstrip(), \"*\")\n",
        "print(\"lstrip = \", b.lstrip(), \"*\")\n",
        "print(\"split = \", b.split())\n",
        "print(\"split('ELL') = \", b.split(\"ELL\"))"
      ],
      "execution_count": 22,
      "outputs": [
        {
          "output_type": "stream",
          "text": [
            "17\n",
            "upper =  HELLO HELLO HELLO\n",
            "lower =  hello hello hello\n",
            "capitalize = Hello hello hello\n",
            "title = Hello Hello Hello\n",
            "count('E') = 2\n",
            "find('L') = 3\n",
            "rfind('L') = 9\n",
            "startswith('he') = False\n",
            "endswith('lo') = True\n",
            "\n",
            "b =   hElLo HELLO hello    *\n",
            "strip =  hElLo HELLO hello *\n",
            "rstrip =   hElLo HELLO hello *\n",
            "lstrip =  hElLo HELLO hello    *\n",
            "split =  ['hElLo', 'HELLO', 'hello']\n",
            "split('ELL') =  [' hElLo H', 'O hello   ']\n"
          ],
          "name": "stdout"
        }
      ]
    },
    {
      "cell_type": "code",
      "metadata": {
        "colab": {
          "base_uri": "https://localhost:8080/"
        },
        "id": "zP4InHIkhFI7",
        "outputId": "aaf685ca-68b4-4464-a30a-d5a97100002f"
      },
      "source": [
        "a = \"10\"\n",
        "b = \"1A0\"\n",
        "print(\"a.isdigit() = \", a.isdigit())\n",
        "print(\"b.isdigit() = \", b.isdigit())\n",
        "print()\n",
        "\n",
        "a = \"ABC\"\n",
        "b = \"aBc\"     # 대소문자가 섞여있으면 islower 와 isupper 모두 false 로 출력\n",
        "c = \"abc\"\n",
        "\n",
        "print(\"a.islower() = \", a.islower())\n",
        "print(\"b.islower() = \", b.islower())\n",
        "print(\"c.islower() = \", c.islower())\n",
        "print()\n",
        "print(\"a.isupper() = \", a.isupper())\n",
        "print(\"b.isupper() = \", b.isupper())\n",
        "print(\"c.isupper() = \", c.isupper())\n",
        "print()"
      ],
      "execution_count": 23,
      "outputs": [
        {
          "output_type": "stream",
          "text": [
            "a.isdigit() =  True\n",
            "b.isdigit() =  False\n",
            "\n",
            "a.islower() =  False\n",
            "b.islower() =  False\n",
            "c.islower() =  True\n",
            "\n",
            "a.isupper() =  True\n",
            "b.isupper() =  False\n",
            "c.isupper() =  False\n",
            "\n"
          ],
          "name": "stdout"
        }
      ]
    },
    {
      "cell_type": "code",
      "metadata": {
        "colab": {
          "base_uri": "https://localhost:8080/"
        },
        "id": "7pdVg9MbhFK5",
        "outputId": "7b7cd144-010f-4ca7-b0a6-4ad5bc15c10a"
      },
      "source": [
        "print('It\\'s ok.')\n",
        "print(\"It's ok.\")\n",
        "print(\"\")\n",
        "\n",
        "print(\"\"\"hello\n",
        "world\n",
        "!!!\"\"\")\n",
        "print(\"\")\n",
        "\n",
        "print(\"hello\\nworld\\n!!!\")\n",
        "print(\"\")\n",
        "\n",
        "print(r\"hello\\nworld\\n!!!\")\n",
        "print(\"\")"
      ],
      "execution_count": 24,
      "outputs": [
        {
          "output_type": "stream",
          "text": [
            "It's ok.\n",
            "It's ok.\n",
            "\n",
            "hello\n",
            "world\n",
            "!!!\n",
            "\n",
            "hello\n",
            "world\n",
            "!!!\n",
            "\n",
            "hello\\nworld\\n!!!\n",
            "\n"
          ],
          "name": "stdout"
        }
      ]
    },
    {
      "cell_type": "code",
      "metadata": {
        "id": "mWVx1Li8uByu"
      },
      "source": [
        ""
      ],
      "execution_count": 24,
      "outputs": []
    },
    {
      "cell_type": "markdown",
      "metadata": {
        "id": "LijdQ33Gt3me"
      },
      "source": [
        "> 문자 개수 구하기"
      ]
    },
    {
      "cell_type": "code",
      "metadata": {
        "colab": {
          "base_uri": "https://localhost:8080/"
        },
        "id": "BUt18nu6hFQo",
        "outputId": "80d78533-d982-4f08-fba6-edb1b59ae892"
      },
      "source": [
        "!wget https://raw.githubusercontent.com/TeamLab/introduction_to_python_TEAMLAB_MOOC/master/code/6/yesterday.txt"
      ],
      "execution_count": 25,
      "outputs": [
        {
          "output_type": "stream",
          "text": [
            "--2021-07-15 03:54:36--  https://raw.githubusercontent.com/TeamLab/introduction_to_python_TEAMLAB_MOOC/master/code/6/yesterday.txt\n",
            "Resolving raw.githubusercontent.com (raw.githubusercontent.com)... 185.199.110.133, 185.199.109.133, 185.199.111.133, ...\n",
            "Connecting to raw.githubusercontent.com (raw.githubusercontent.com)|185.199.110.133|:443... connected.\n",
            "HTTP request sent, awaiting response... 200 OK\n",
            "Length: 638 [text/plain]\n",
            "Saving to: ‘yesterday.txt.2’\n",
            "\n",
            "\ryesterday.txt.2       0%[                    ]       0  --.-KB/s               \ryesterday.txt.2     100%[===================>]     638  --.-KB/s    in 0s      \n",
            "\n",
            "2021-07-15 03:54:36 (39.3 MB/s) - ‘yesterday.txt.2’ saved [638/638]\n",
            "\n"
          ],
          "name": "stdout"
        }
      ]
    },
    {
      "cell_type": "code",
      "metadata": {
        "colab": {
          "base_uri": "https://localhost:8080/"
        },
        "id": "Ddn_CXvqhFSr",
        "outputId": "5e768417-c4a6-4932-ac27-d0e8e756897c"
      },
      "source": [
        "f = open(\"yesterday.txt\", 'r')\n",
        "\n",
        "print(f.readlines())"
      ],
      "execution_count": 26,
      "outputs": [
        {
          "output_type": "stream",
          "text": [
            "['Yesterday, all my troubles seemed so far away\\n', \"Now it looks as though they're here to stay\\n\", 'oh, I believe in yesterday\\n', '\\n', \"Suddenly, I'm not half the man I used to be\\n\", \"There's a shadow hanging over me\\n\", 'Oh, yesterday came suddenly.\\n', '\\n', 'Why she had to go?\\n', \"I don't know, she wouldn't say\\n\", 'I said something wrong\\n', 'Now I long for yesterday.\\n', '\\n', 'Yesterday love was such an easy game to play\\n', 'Now I need a place to hide away\\n', 'Oh, I believe in yesterday.\\n', '\\n', 'Why she had to go?\\n', \"I don't know, she wouldn't say\\n\", 'I said something wrong\\n', 'Now I long for yesterday.\\n', '\\n', 'Yesterday love was such an easy game to play\\n', 'Now I need a place to hide away\\n', 'Oh, I believe in yesterday...\\n']\n"
          ],
          "name": "stdout"
        }
      ]
    },
    {
      "cell_type": "code",
      "metadata": {
        "colab": {
          "base_uri": "https://localhost:8080/"
        },
        "id": "S-K88cXzhFVG",
        "outputId": "ae6b3a03-6dc0-4de7-d20d-256316724f69"
      },
      "source": [
        "f = open(\"yesterday.txt\", 'r')\n",
        "yesterday_lyric = \"\"\n",
        "\n",
        "while True:\n",
        "  line = f.readline()\n",
        "  print(line, end='')\n",
        "  if not line:\n",
        "    break\n",
        "  yesterday_lyric = yesterday_lyric + line.strip() + \"\\n\"\n",
        "f.close()"
      ],
      "execution_count": 27,
      "outputs": [
        {
          "output_type": "stream",
          "text": [
            "Yesterday, all my troubles seemed so far away\n",
            "Now it looks as though they're here to stay\n",
            "oh, I believe in yesterday\n",
            "\n",
            "Suddenly, I'm not half the man I used to be\n",
            "There's a shadow hanging over me\n",
            "Oh, yesterday came suddenly.\n",
            "\n",
            "Why she had to go?\n",
            "I don't know, she wouldn't say\n",
            "I said something wrong\n",
            "Now I long for yesterday.\n",
            "\n",
            "Yesterday love was such an easy game to play\n",
            "Now I need a place to hide away\n",
            "Oh, I believe in yesterday.\n",
            "\n",
            "Why she had to go?\n",
            "I don't know, she wouldn't say\n",
            "I said something wrong\n",
            "Now I long for yesterday.\n",
            "\n",
            "Yesterday love was such an easy game to play\n",
            "Now I need a place to hide away\n",
            "Oh, I believe in yesterday...\n"
          ],
          "name": "stdout"
        }
      ]
    },
    {
      "cell_type": "code",
      "metadata": {
        "colab": {
          "base_uri": "https://localhost:8080/"
        },
        "id": "X9_yuv7-vOaA",
        "outputId": "18f6fdde-0d06-4ff8-d73c-36b2b45a874a"
      },
      "source": [
        "print(yesterday_lyric)"
      ],
      "execution_count": 28,
      "outputs": [
        {
          "output_type": "stream",
          "text": [
            "Yesterday, all my troubles seemed so far away\n",
            "Now it looks as though they're here to stay\n",
            "oh, I believe in yesterday\n",
            "\n",
            "Suddenly, I'm not half the man I used to be\n",
            "There's a shadow hanging over me\n",
            "Oh, yesterday came suddenly.\n",
            "\n",
            "Why she had to go?\n",
            "I don't know, she wouldn't say\n",
            "I said something wrong\n",
            "Now I long for yesterday.\n",
            "\n",
            "Yesterday love was such an easy game to play\n",
            "Now I need a place to hide away\n",
            "Oh, I believe in yesterday.\n",
            "\n",
            "Why she had to go?\n",
            "I don't know, she wouldn't say\n",
            "I said something wrong\n",
            "Now I long for yesterday.\n",
            "\n",
            "Yesterday love was such an easy game to play\n",
            "Now I need a place to hide away\n",
            "Oh, I believe in yesterday...\n",
            "\n"
          ],
          "name": "stdout"
        }
      ]
    },
    {
      "cell_type": "code",
      "metadata": {
        "colab": {
          "base_uri": "https://localhost:8080/"
        },
        "id": "jOU76Ce4uyzE",
        "outputId": "c2f24413-7b1d-4e77-c257-bfcf1bb21dca"
      },
      "source": [
        "n_of_yesterday = yesterday_lyric.upper().count(\"YESTERDAY\") # 대소문자 구분 제거\n",
        "print (\"Number of a Word 'Yesterday'\" , n_of_yesterday)"
      ],
      "execution_count": 29,
      "outputs": [
        {
          "output_type": "stream",
          "text": [
            "Number of a Word 'Yesterday' 9\n"
          ],
          "name": "stdout"
        }
      ]
    },
    {
      "cell_type": "code",
      "metadata": {
        "id": "QqWBjVr_vn_h"
      },
      "source": [
        ""
      ],
      "execution_count": 29,
      "outputs": []
    },
    {
      "cell_type": "markdown",
      "metadata": {
        "id": "_EUQH1DTwDeL"
      },
      "source": [
        "> ■ 함수 호출 방식  \n",
        "　-. Call by Value (값에 의한 호출) : swap_value()  \n",
        "　-. Call by Reference (참조에 의한 호출) : swap_offset()  \n",
        "　-. Call by Object Reference (객체 참조에 의한 호출) : swap_reference(), New_swap_reference()  "
      ]
    },
    {
      "cell_type": "code",
      "metadata": {
        "colab": {
          "base_uri": "https://localhost:8080/"
        },
        "id": "w88PGLY9wDsI",
        "outputId": "9bad6a76-9f96-4985-e012-004ba643fcce"
      },
      "source": [
        "def swap_value(x, y):\n",
        "  temp = x\n",
        "  x = y\n",
        "  y = temp\n",
        "  \n",
        "def swap_offset(offset_x, offset_y):\n",
        "  temp = ex[offset_x]\n",
        "  ex[offset_x] = ex[offset_y]\n",
        "  ex[offset_y] = temp\n",
        "\n",
        "def swap_reference(list, offset_x, offset_y):\n",
        "  temp = list[offset_x]\n",
        "  list[offset_x] = list[offset_y]\n",
        "  list[offset_y] = temp\n",
        "\n",
        "\n",
        "def New_swap_reference(list, offset_x, offset_y):\n",
        "  list[offset_y], list[offset_x] = list[offset_x], list[offset_y]\n",
        "\n",
        "ex = [1, 2, 3, 4, 5]\n",
        "print(\"ex = \", ex)\n",
        "\n",
        "swap_value(ex[0], ex[1])\n",
        "print(\"swap_value = \", ex)\n",
        "\n",
        "ex = [1, 2, 3, 4, 5]\n",
        "swap_offset(0, 1)\n",
        "print(\"swap_offset = \", ex)\n",
        "\n",
        "ex = [1, 2, 3, 4, 5]\n",
        "swap_reference(ex, 0, 1)\n",
        "print(\"swap_reference = \", ex)\n",
        "\n",
        "ex = [1, 2, 3, 4, 5]\n",
        "New_swap_reference(ex, 0, 1)\n",
        "print(\"New_swap_reference = \", ex)"
      ],
      "execution_count": 30,
      "outputs": [
        {
          "output_type": "stream",
          "text": [
            "ex =  [1, 2, 3, 4, 5]\n",
            "swap_value =  [1, 2, 3, 4, 5]\n",
            "swap_offset =  [2, 1, 3, 4, 5]\n",
            "swap_reference =  [2, 1, 3, 4, 5]\n",
            "New_swap_reference =  [2, 1, 3, 4, 5]\n"
          ],
          "name": "stdout"
        }
      ]
    },
    {
      "cell_type": "code",
      "metadata": {
        "id": "2ZfQs9MHwDu4",
        "colab": {
          "base_uri": "https://localhost:8080/",
          "height": 35
        },
        "outputId": "5e038f14-8a06-4bd3-c708-883e2a67599c"
      },
      "source": [
        "''' # Function Type Hints\n",
        "def do_function(var_name: var_type) -> return_type:\n",
        "  pass\n",
        "'''\n",
        "\n",
        "#def type_hint_example(name: str): -> str:\n",
        "  #return f\"Hello, {name}"
      ],
      "execution_count": 31,
      "outputs": [
        {
          "output_type": "execute_result",
          "data": {
            "application/vnd.google.colaboratory.intrinsic+json": {
              "type": "string"
            },
            "text/plain": [
              "' # Function Type Hints\\ndef do_function(var_name: var_type) -> return_type:\\n  pass\\n'"
            ]
          },
          "metadata": {
            "tags": []
          },
          "execution_count": 31
        }
      ]
    },
    {
      "cell_type": "code",
      "metadata": {
        "id": "3BpF1I_UwDxl"
      },
      "source": [
        ""
      ],
      "execution_count": 31,
      "outputs": []
    },
    {
      "cell_type": "markdown",
      "metadata": {
        "id": "urDGGqtrV1zr"
      },
      "source": [
        ">■ 코딩 컨벤션 : 사람의 이해를 돕기 위한 코딩 규칙  \n",
        "　-. 때로는 팀마다, 프로젝트마다 따로  \n",
        "　-. 중요한 건 일관성!  \n",
        "　-. 읽기 좋은 코드가 좋은 코드  \n",
        "\n",
        ">■ 최근 코딩 컨벤션은 \"PEP8\" 기준 사용  \n",
        "　-. flake8 : \"PEP8\" 기준 - 잘못된 부분 출력  \n",
        "　-. black : \"PEP8\" 기준으로 코드 자동 수정  "
      ]
    },
    {
      "cell_type": "code",
      "metadata": {
        "id": "SAIOi6HHwD0C"
      },
      "source": [
        ""
      ],
      "execution_count": 31,
      "outputs": []
    },
    {
      "cell_type": "markdown",
      "metadata": {
        "id": "3RGopT7fXTXJ"
      },
      "source": [
        "##3) 파이썬 기초 문법 Ⅱ [수정 中]\n",
        "### 　A. Data Structure"
      ]
    },
    {
      "cell_type": "markdown",
      "metadata": {
        "id": "6NVOeFS8rvuJ"
      },
      "source": [
        "> Sort"
      ]
    },
    {
      "cell_type": "code",
      "metadata": {
        "id": "-9YPvltzwD5h",
        "colab": {
          "base_uri": "https://localhost:8080/"
        },
        "outputId": "bbf3d1d5-9f50-490f-a39d-f45f0608f3f1"
      },
      "source": [
        "a = [2, 4, 1, 5, 3]\n",
        "print(\"a = \", a)\n",
        "\n",
        "print(\"sorted(a) = \", sorted(a))\n",
        "print(\"a = \", a)\n",
        "\n",
        "print(\"a.sort() = \", a.sort())\n",
        "print(\"a = \", a)"
      ],
      "execution_count": 32,
      "outputs": [
        {
          "output_type": "stream",
          "text": [
            "a =  [2, 4, 1, 5, 3]\n",
            "sorted(a) =  [1, 2, 3, 4, 5]\n",
            "a =  [2, 4, 1, 5, 3]\n",
            "a.sort() =  None\n",
            "a =  [1, 2, 3, 4, 5]\n"
          ],
          "name": "stdout"
        }
      ]
    },
    {
      "cell_type": "code",
      "metadata": {
        "id": "chVErSbisxD1"
      },
      "source": [
        ""
      ],
      "execution_count": 32,
      "outputs": []
    },
    {
      "cell_type": "markdown",
      "metadata": {
        "id": "2ZcRKVOLsxMv"
      },
      "source": [
        "> Stack & Queue"
      ]
    },
    {
      "cell_type": "code",
      "metadata": {
        "id": "284IuZU6XfLj",
        "colab": {
          "base_uri": "https://localhost:8080/"
        },
        "outputId": "c450e007-d029-4a0c-95e4-424f299e7a02"
      },
      "source": [
        "a = [1, 2, 3, 4, 5]\n",
        "\n",
        "print(a)\n",
        "a.append(6)\n",
        "print(\"append(6) = \", a)\n",
        "\n",
        "a.pop()\n",
        "print(\"pop() = \", a)\n",
        "\n",
        "a.pop(0)\n",
        "print(\"pop(0) = \", a)"
      ],
      "execution_count": 33,
      "outputs": [
        {
          "output_type": "stream",
          "text": [
            "[1, 2, 3, 4, 5]\n",
            "append(6) =  [1, 2, 3, 4, 5, 6]\n",
            "pop() =  [1, 2, 3, 4, 5]\n",
            "pop(0) =  [2, 3, 4, 5]\n"
          ],
          "name": "stdout"
        }
      ]
    },
    {
      "cell_type": "code",
      "metadata": {
        "id": "IHOYsIsyXfN_"
      },
      "source": [
        ""
      ],
      "execution_count": 33,
      "outputs": []
    },
    {
      "cell_type": "markdown",
      "metadata": {
        "id": "zyFV1SSStNSU"
      },
      "source": [
        "> Tuple : 리스트와 거의 유사하나, 값 변경이 불가능!!"
      ]
    },
    {
      "cell_type": "code",
      "metadata": {
        "colab": {
          "base_uri": "https://localhost:8080/"
        },
        "id": "4tut4avFtNig",
        "outputId": "860dcc6b-3e45-4c71-e779-935061419660"
      },
      "source": [
        "a = [1, 2, 3, 4, 5]  # 배열\n",
        "b = (1, 2, 3, 4, 5)  # 튜플\n",
        "\n",
        "print(\"a = \", a)\n",
        "print(\"a[0] = 6\\t\", end='')\n",
        "try:\n",
        "  a[0] = 6    # 오류 발생!(튜플은 값 변경 불가!)\n",
        "  print(\"- 성공\")\n",
        "except Exception as ex:\n",
        "  print(\"- 오류 :\", Exception)\n",
        "print(\"a = \", a)\n",
        "print()\n",
        "\n",
        "print(\"b = \", b)\n",
        "print(\"b[0] = 6\\t\", end='')\n",
        "try:\n",
        "  b[0] = 6    # 오류 발생!(튜플은 값 변경 불가!)\n",
        "  print(\"- 성공\")\n",
        "except Exception as ex:\n",
        "  print(\"- 오류 :\", Exception)\n",
        "print(\"b = \", b)"
      ],
      "execution_count": 34,
      "outputs": [
        {
          "output_type": "stream",
          "text": [
            "a =  [1, 2, 3, 4, 5]\n",
            "a[0] = 6\t- 성공\n",
            "a =  [6, 2, 3, 4, 5]\n",
            "\n",
            "b =  (1, 2, 3, 4, 5)\n",
            "b[0] = 6\t- 오류 : <class 'Exception'>\n",
            "b =  (1, 2, 3, 4, 5)\n"
          ],
          "name": "stdout"
        }
      ]
    },
    {
      "cell_type": "code",
      "metadata": {
        "id": "BacralMjtNk4"
      },
      "source": [
        ""
      ],
      "execution_count": 34,
      "outputs": []
    },
    {
      "cell_type": "markdown",
      "metadata": {
        "id": "OhUVtd--tmaR"
      },
      "source": [
        "> Set (집합) : 값을 순서없이 저장 & 중복 불허"
      ]
    },
    {
      "cell_type": "code",
      "metadata": {
        "colab": {
          "base_uri": "https://localhost:8080/"
        },
        "id": "pdTM4M1MtNnf",
        "outputId": "45cf0783-d438-4fd0-8161-984b4965fcb6"
      },
      "source": [
        "a = set([1, 2, 3, 1, 2, 4])\n",
        "print(a)\n",
        "\n",
        "a.add(2)\n",
        "print(\"add(2) = \", a)\n",
        "\n",
        "a.add(5)\n",
        "print(\"add(5) = \", a)\n",
        "\n",
        "a.update([1,7,9])\n",
        "print(\"update([1,7,9]) = \", a)\n",
        "\n",
        "a.remove(3)\n",
        "print(\"remove(3) = \", a)\n",
        "\n",
        "# a.remove(3)     # remove 는 없는 원소를 삭제하려고 하면 오류가 발생함!\n",
        "# print(\"remove(3) = \", a)\n",
        "\n",
        "a.discard(2)\n",
        "print(\"discard(2) = \", a)\n",
        "\n",
        "a.discard(2)      # discard 는 없는 원소를 삭제하려고 해도 오류가 발생하지 않음!\n",
        "print(\"discard(2) = \", a)\n",
        "\n",
        "a.clear()\n",
        "print(\"clear() = \", a)"
      ],
      "execution_count": 35,
      "outputs": [
        {
          "output_type": "stream",
          "text": [
            "{1, 2, 3, 4}\n",
            "add(2) =  {1, 2, 3, 4}\n",
            "add(5) =  {1, 2, 3, 4, 5}\n",
            "update([1,7,9]) =  {1, 2, 3, 4, 5, 7, 9}\n",
            "remove(3) =  {1, 2, 4, 5, 7, 9}\n",
            "discard(2) =  {1, 4, 5, 7, 9}\n",
            "discard(2) =  {1, 4, 5, 7, 9}\n",
            "clear() =  set()\n"
          ],
          "name": "stdout"
        }
      ]
    },
    {
      "cell_type": "code",
      "metadata": {
        "colab": {
          "base_uri": "https://localhost:8080/"
        },
        "id": "GcHexJNutNpy",
        "outputId": "c248f5e5-018e-4432-b52f-258db174fd90"
      },
      "source": [
        "a = set([1, 2, 3, 4, 5])\n",
        "b = set([3, 4, 5, 6, 7])\n",
        "\n",
        "print(\"a.union(b) = \", a.union(b))                  # 합집합\n",
        "print(\"a | b = \", a | b)                            # 합집합\n",
        "\n",
        "print(\"a.intersection(b) = \", a.intersection(b))    # 교집합\n",
        "print(\"a & b = \", a & b)                            # 교집합\n",
        "\n",
        "print(\"a.difference(b) = \", a.difference(b))        # 차집합\n",
        "print(\"a - b = \", a - b)                            # 차집합"
      ],
      "execution_count": 36,
      "outputs": [
        {
          "output_type": "stream",
          "text": [
            "a.union(b) =  {1, 2, 3, 4, 5, 6, 7}\n",
            "a | b =  {1, 2, 3, 4, 5, 6, 7}\n",
            "a.intersection(b) =  {3, 4, 5}\n",
            "a & b =  {3, 4, 5}\n",
            "a.difference(b) =  {1, 2}\n",
            "a - b =  {1, 2}\n"
          ],
          "name": "stdout"
        }
      ]
    },
    {
      "cell_type": "code",
      "metadata": {
        "id": "yUYlxripXfQa"
      },
      "source": [
        ""
      ],
      "execution_count": 36,
      "outputs": []
    },
    {
      "cell_type": "markdown",
      "metadata": {
        "id": "O71DiNf6Eig-"
      },
      "source": [
        "> Dictionary"
      ]
    },
    {
      "cell_type": "code",
      "metadata": {
        "colab": {
          "base_uri": "https://localhost:8080/"
        },
        "id": "8Esb4drSEiuL",
        "outputId": "1dca023d-c93f-425a-9cde-185aff0c9e50"
      },
      "source": [
        "Student_Info = {12341000 : 'KJY', 12341001 : 'KJY1', 12341002 : 'KJY2',}\n",
        "\n",
        "print(Student_Info)\n",
        "print(Student_Info.items())\n",
        "print()\n",
        "\n",
        "print(Student_Info.keys())\n",
        "print()\n",
        "\n",
        "print(Student_Info.values())\n",
        "print()\n",
        "\n",
        "print(Student_Info[12341000])\n",
        "\n",
        "Student_Info[12341000] = 'KJY3'\n",
        "print(Student_Info[12341000])"
      ],
      "execution_count": 37,
      "outputs": [
        {
          "output_type": "stream",
          "text": [
            "{12341000: 'KJY', 12341001: 'KJY1', 12341002: 'KJY2'}\n",
            "dict_items([(12341000, 'KJY'), (12341001, 'KJY1'), (12341002, 'KJY2')])\n",
            "\n",
            "dict_keys([12341000, 12341001, 12341002])\n",
            "\n",
            "dict_values(['KJY', 'KJY1', 'KJY2'])\n",
            "\n",
            "KJY\n",
            "KJY3\n"
          ],
          "name": "stdout"
        }
      ]
    },
    {
      "cell_type": "code",
      "metadata": {
        "colab": {
          "base_uri": "https://localhost:8080/"
        },
        "id": "6xToqnw0Eiwd",
        "outputId": "f2d8f527-2882-4a1c-9ec3-2af8638a8cfd"
      },
      "source": [
        "Student_Info = {12341000 : 'KJY', 12341001 : 'KJY1', 12341002 : 'KJY2',}\n",
        "\n",
        "for k, v in Student_Info.items():\n",
        "  print(k, v)"
      ],
      "execution_count": 38,
      "outputs": [
        {
          "output_type": "stream",
          "text": [
            "12341000 KJY\n",
            "12341001 KJY1\n",
            "12341002 KJY2\n"
          ],
          "name": "stdout"
        }
      ]
    },
    {
      "cell_type": "code",
      "metadata": {
        "id": "-4oFC0Q1Eiyx"
      },
      "source": [
        ""
      ],
      "execution_count": 38,
      "outputs": []
    },
    {
      "cell_type": "markdown",
      "metadata": {
        "id": "T-nOqVFyGUBd"
      },
      "source": [
        ">■ Collections : List, Tuple, Dict 에 대한 Python Built-in 확장 자료 구조 (모듈)  \n",
        "　-. deque, Counter, OrderedDict, defaultdict, namedtuple  \n",
        "　　ex) from collections import deque\n"
      ]
    },
    {
      "cell_type": "code",
      "metadata": {
        "colab": {
          "base_uri": "https://localhost:8080/"
        },
        "id": "gXitAU0wEi1A",
        "outputId": "1ee9a1f0-c45f-4b72-d586-12bae8d3b0db"
      },
      "source": [
        "from collections import deque\n",
        "\n",
        "deque_list = deque()\n",
        "\n",
        "deque_list.append(1)\n",
        "print(deque_list)\n",
        "deque_list.append(2)\n",
        "print(deque_list)\n",
        "deque_list.appendleft(3)\n",
        "print(deque_list)\n",
        "\n",
        "deque_list.rotate()\n",
        "print(deque_list)\n",
        "\n",
        "deque_list.rotate(-1)\n",
        "print(deque_list)"
      ],
      "execution_count": 39,
      "outputs": [
        {
          "output_type": "stream",
          "text": [
            "deque([1])\n",
            "deque([1, 2])\n",
            "deque([3, 1, 2])\n",
            "deque([2, 3, 1])\n",
            "deque([3, 1, 2])\n"
          ],
          "name": "stdout"
        }
      ]
    },
    {
      "cell_type": "code",
      "metadata": {
        "colab": {
          "base_uri": "https://localhost:8080/"
        },
        "id": "Y1e2GombEi4Y",
        "outputId": "1a566ef0-ee20-47c0-bf25-cfc0f3bac475"
      },
      "source": [
        "# deque 속도 측정\n",
        "from collections import deque\n",
        "import time\n",
        "start_time = time.clock()\n",
        "deque_list = deque()\n",
        "# Stack\n",
        "for i in range(1000):\n",
        "  for i in range(1000):\n",
        "    deque_list.append(i)\n",
        "    deque_list.pop()\n",
        "print(time.clock() - start_time, \"seconds - deque_list\")\n",
        "\n",
        "# general list 속도 측정\n",
        "import time\n",
        "start_time = time.clock()\n",
        "general_list = []\n",
        "for i in range(1000):\n",
        "  for i in range(1000):\n",
        "    general_list.append(i)\n",
        "    general_list.pop()\n",
        "print(time.clock() - start_time, \"seconds - general_list\")"
      ],
      "execution_count": 40,
      "outputs": [
        {
          "output_type": "stream",
          "text": [
            "/usr/local/lib/python3.7/dist-packages/ipykernel_launcher.py:4: DeprecationWarning: time.clock has been deprecated in Python 3.3 and will be removed from Python 3.8: use time.perf_counter or time.process_time instead\n",
            "  after removing the cwd from sys.path.\n",
            "/usr/local/lib/python3.7/dist-packages/ipykernel_launcher.py:11: DeprecationWarning: time.clock has been deprecated in Python 3.3 and will be removed from Python 3.8: use time.perf_counter or time.process_time instead\n",
            "  # This is added back by InteractiveShellApp.init_path()\n",
            "/usr/local/lib/python3.7/dist-packages/ipykernel_launcher.py:15: DeprecationWarning: time.clock has been deprecated in Python 3.3 and will be removed from Python 3.8: use time.perf_counter or time.process_time instead\n",
            "  from ipykernel import kernelapp as app\n"
          ],
          "name": "stderr"
        },
        {
          "output_type": "stream",
          "text": [
            "0.19659499999999985 seconds - deque_list\n",
            "0.3169939999999998 seconds - general_list\n"
          ],
          "name": "stdout"
        },
        {
          "output_type": "stream",
          "text": [
            "/usr/local/lib/python3.7/dist-packages/ipykernel_launcher.py:21: DeprecationWarning: time.clock has been deprecated in Python 3.3 and will be removed from Python 3.8: use time.perf_counter or time.process_time instead\n"
          ],
          "name": "stderr"
        }
      ]
    },
    {
      "cell_type": "code",
      "metadata": {
        "colab": {
          "base_uri": "https://localhost:8080/"
        },
        "id": "GCSwRt6qEi6a",
        "outputId": "841220b4-f6ef-410d-f551-827c906e55ab"
      },
      "source": [
        "# deque 속도 측정 2\n",
        "deque_list = deque()\n",
        "def deque_list_func():\n",
        "  for i in range(1000):\n",
        "      for i in range(1000):\n",
        "        deque_list.append(i)\n",
        "        deque_list.pop()\n",
        "print(\"deque_list Speed : \", end='')\n",
        "%timeit deque_list_func()\n",
        "\n",
        "# general list 속도 측정 2\n",
        "general_list = []\n",
        "def general_list_func():\n",
        "  for i in range(1000):\n",
        "      for i in range(1000):\n",
        "        general_list.append(i)\n",
        "        general_list.pop()\n",
        "print(\"general_list Speed : \", end='')\n",
        "%timeit general_list_func()"
      ],
      "execution_count": 41,
      "outputs": [
        {
          "output_type": "stream",
          "text": [
            "deque_list Speed : 10 loops, best of 5: 151 ms per loop\n",
            "general_list Speed : 1 loop, best of 5: 247 ms per loop\n"
          ],
          "name": "stdout"
        }
      ]
    },
    {
      "cell_type": "code",
      "metadata": {
        "id": "0yg7WzsLJJBk"
      },
      "source": [
        ""
      ],
      "execution_count": 41,
      "outputs": []
    },
    {
      "cell_type": "markdown",
      "metadata": {
        "id": "bT3VH3Y0KZJW"
      },
      "source": [
        "> OrderedDict & Sorting"
      ]
    },
    {
      "cell_type": "code",
      "metadata": {
        "colab": {
          "base_uri": "https://localhost:8080/"
        },
        "id": "9Er84_qFJJDm",
        "outputId": "c1849336-181a-4cba-d10d-1be489169b76"
      },
      "source": [
        "from collections import OrderedDict\n",
        "\n",
        "d = {}\n",
        "d['x'] = 100\n",
        "d['z'] = 300\n",
        "d['y'] = 200\n",
        "d['l'] = 500\n",
        "\n",
        "for k, v in d.items():\n",
        "  print(k, v)\n",
        "print()\n",
        "\n",
        "for k, v in sorted(d.items(), key=lambda t : t[0]):\n",
        "  print(k, v)\n",
        "print()\n",
        "\n",
        "for k, v in sorted(d.items(), key=lambda t : t[1]):\n",
        "  print(k, v)\n",
        "print()\n",
        "\n",
        "for k, v in OrderedDict(sorted(d.items(), key=lambda t : t[0])).items():\n",
        "  print(k, v)\n",
        "print()\n",
        "\n",
        "for k, v in OrderedDict(sorted(d.items(), key=lambda t : t[1], reverse = True)).items():\n",
        "  print(k, v)\n",
        "print()"
      ],
      "execution_count": 42,
      "outputs": [
        {
          "output_type": "stream",
          "text": [
            "x 100\n",
            "z 300\n",
            "y 200\n",
            "l 500\n",
            "\n",
            "l 500\n",
            "x 100\n",
            "y 200\n",
            "z 300\n",
            "\n",
            "x 100\n",
            "y 200\n",
            "z 300\n",
            "l 500\n",
            "\n",
            "l 500\n",
            "x 100\n",
            "y 200\n",
            "z 300\n",
            "\n",
            "l 500\n",
            "z 300\n",
            "y 200\n",
            "x 100\n",
            "\n"
          ],
          "name": "stdout"
        }
      ]
    },
    {
      "cell_type": "code",
      "metadata": {
        "id": "47TYCTzEJJFk"
      },
      "source": [
        ""
      ],
      "execution_count": 42,
      "outputs": []
    },
    {
      "cell_type": "markdown",
      "metadata": {
        "id": "Tn3tlqCELkS3"
      },
      "source": [
        "> DefaultDict : Key 값이 없을 때, 오류가 아닌 기본 값 지정"
      ]
    },
    {
      "cell_type": "code",
      "metadata": {
        "colab": {
          "base_uri": "https://localhost:8080/"
        },
        "id": "c0wKEjVdLkcs",
        "outputId": "779a9fae-bdb7-420a-bd92-3960a3d2ca22"
      },
      "source": [
        "d = dict()\n",
        "print(d.items())\n",
        "\n",
        "try:\n",
        "  print(\"d['first'] 출력! \", end='')\n",
        "  print(d[\"first\"])    # 오류 발생!(튜플은 값 변경 불가!)\n",
        "  print(\"- 성공\")\n",
        "except Exception as ex:\n",
        "  print(\"- 오류 :\", Exception)\n",
        "\n",
        "################################################################\n",
        "\n",
        "from collections import defaultdict\n",
        "d = defaultdict(object) # Default dictionary를 생성\n",
        "d = defaultdict(lambda: 0) # Default 값을 0으로 설정\n",
        "\n",
        "print(d.items())\n",
        "print(d[\"first\"])\n",
        "\n",
        "################################################################\n",
        "\n",
        "def default_value():\n",
        "  return 2\n",
        "\n",
        "d = defaultdict(default_value) # Default 값을 2으로 설정\n",
        "\n",
        "print(d.items())\n",
        "print(d[\"first\"])"
      ],
      "execution_count": 43,
      "outputs": [
        {
          "output_type": "stream",
          "text": [
            "dict_items([])\n",
            "d['first'] 출력! - 오류 : <class 'Exception'>\n",
            "dict_items([])\n",
            "0\n",
            "dict_items([])\n",
            "2\n"
          ],
          "name": "stdout"
        }
      ]
    },
    {
      "cell_type": "code",
      "metadata": {
        "id": "GKSKVRumLke_"
      },
      "source": [
        ""
      ],
      "execution_count": 43,
      "outputs": []
    },
    {
      "cell_type": "markdown",
      "metadata": {
        "id": "qL8EwX3oNcMr"
      },
      "source": [
        "> Counter"
      ]
    },
    {
      "cell_type": "code",
      "metadata": {
        "colab": {
          "base_uri": "https://localhost:8080/"
        },
        "id": "85tSaL7aLkhV",
        "outputId": "bcdffbb2-a94b-42ed-8f56-1dc36ce77ed8"
      },
      "source": [
        "from collections import Counter\n",
        "\n",
        "Ball_or_Strike_List = [\"B\", \"B\", \"B\", \"S\", \"B\", \"B\", \"S\", \"S\", \"B\", \"B\", \"S\"]\n",
        "\n",
        "Count = Counter(Ball_or_Strike_List)\n",
        "print(Count)\n",
        "\n",
        "c = Counter({'Red' : 3, 'Blue' : 5})\n",
        "print(\"'Red' : 3, 'Blue' : 5 - \", list(c.elements()))"
      ],
      "execution_count": 44,
      "outputs": [
        {
          "output_type": "stream",
          "text": [
            "Counter({'B': 7, 'S': 4})\n",
            "'Red' : 3, 'Blue' : 5 -  ['Red', 'Red', 'Red', 'Blue', 'Blue', 'Blue', 'Blue', 'Blue']\n"
          ],
          "name": "stdout"
        }
      ]
    },
    {
      "cell_type": "code",
      "metadata": {
        "id": "6TVKLrfsLkjj"
      },
      "source": [
        ""
      ],
      "execution_count": 44,
      "outputs": []
    },
    {
      "cell_type": "markdown",
      "metadata": {
        "id": "IAvjY-laPYC8"
      },
      "source": [
        "> NamedTuple : Tuple 형태로 Data 구조체 저장"
      ]
    },
    {
      "cell_type": "code",
      "metadata": {
        "colab": {
          "base_uri": "https://localhost:8080/"
        },
        "id": "58anlMFHPYII",
        "outputId": "5aa48502-d87e-42ca-a5cd-801fe997be2e"
      },
      "source": [
        "from collections import namedtuple\n",
        "Point = namedtuple('Point', ['x', 'y'])\n",
        "p = Point(11, y=22)\n",
        "print(p[0] + p[1])\n",
        "print()\n",
        "\n",
        "x, y = p\n",
        "print(x, y)\n",
        "print(p.x + p.y)\n",
        "print(Point(x=11, y=22))"
      ],
      "execution_count": 45,
      "outputs": [
        {
          "output_type": "stream",
          "text": [
            "33\n",
            "\n",
            "11 22\n",
            "33\n",
            "Point(x=11, y=22)\n"
          ],
          "name": "stdout"
        }
      ]
    },
    {
      "cell_type": "code",
      "metadata": {
        "colab": {
          "base_uri": "https://localhost:8080/"
        },
        "id": "81TMcR0cPYK8",
        "outputId": "f55b60ed-d059-48c7-fd8b-3aa224d41031"
      },
      "source": [
        "coloumns = [\"user_id\", \"integration_id\", \"login_id\", \"password\", \"first_name\", \"last_name\", \"full_name\", \"sortable_name\", \"short_name\", \"email\", \"status\"]\n",
        "\n",
        "Student = namedtuple('Student', \" \".join(coloumns))\n",
        "\n",
        "print(Student)\n",
        "print(\" \".join(coloumns))\n",
        "print()\n",
        "\n",
        "student_namedtupe_list = []\n",
        "student = Student(\"123\", \"234\", \"345\", \"456\", \"Kim\", \"JoonYoung\", \"Kim JoonYoung\", \"567\", \"678\", \"789\", \"890\")\n",
        "student_namedtupe_list.append(student)\n",
        "\n",
        "print(student_namedtupe_list)\n",
        "print(student_namedtupe_list[0].full_name)"
      ],
      "execution_count": 46,
      "outputs": [
        {
          "output_type": "stream",
          "text": [
            "<class '__main__.Student'>\n",
            "user_id integration_id login_id password first_name last_name full_name sortable_name short_name email status\n",
            "\n",
            "[Student(user_id='123', integration_id='234', login_id='345', password='456', first_name='Kim', last_name='JoonYoung', full_name='Kim JoonYoung', sortable_name='567', short_name='678', email='789', status='890')]\n",
            "Kim JoonYoung\n"
          ],
          "name": "stdout"
        }
      ]
    },
    {
      "cell_type": "code",
      "metadata": {
        "id": "6WwSUYgHPYNC"
      },
      "source": [
        ""
      ],
      "execution_count": 46,
      "outputs": []
    },
    {
      "cell_type": "markdown",
      "metadata": {
        "id": "VEmxt2RYXfeg"
      },
      "source": [
        "##3) 파이썬 기초 문법 Ⅱ [수정 中]\n",
        "### 　B. Pythonic Code"
      ]
    },
    {
      "cell_type": "code",
      "metadata": {
        "id": "U4gfos6mXfyG",
        "colab": {
          "base_uri": "https://localhost:8080/"
        },
        "outputId": "33bc06fa-f480-4ede-f24b-a5336fd0e284"
      },
      "source": [
        "colors = ['red', 'blue', 'green', 'yellow']\n",
        "result = ''\n",
        "for s in colors:\n",
        "  result += s\n",
        "print(result)\n",
        "print()\n",
        "\n",
        "colors = ['red', 'blue', 'green', 'yellow']\n",
        "result = ''.join(colors)\n",
        "print(result)"
      ],
      "execution_count": 47,
      "outputs": [
        {
          "output_type": "stream",
          "text": [
            "redbluegreenyellow\n",
            "\n",
            "redbluegreenyellow\n"
          ],
          "name": "stdout"
        }
      ]
    },
    {
      "cell_type": "code",
      "metadata": {
        "id": "JVh9mUaUXf4j",
        "colab": {
          "base_uri": "https://localhost:8080/"
        },
        "outputId": "b718b87e-6532-44a5-f084-ea553af8eb89"
      },
      "source": [
        "First_List = ['a', 'b', 'c', 'd', 'e']\n",
        "Second_List = ['f', 'd', 'h', 'b', 'j']\n",
        "\n",
        "result = [i+j for i in First_List for j in Second_List]\n",
        "print(result)\n",
        "\n",
        "result = [i+j for i in First_List for j in Second_List if (i != j)]           # if문만 있을 때에는 뒤에 기입\n",
        "print(result)\n",
        "\n",
        "result = [i+j if (i != j) else i for i in First_List for j in Second_List]    # if 와 else가 같이 있을 때에는 앞에 기입\n",
        "print(result)\n",
        "print()\n",
        "\n",
        "###############################################################################\n",
        "\n",
        "result = [i+j for i in First_List for j in Second_List]\n",
        "print(result)\n",
        "\n",
        "result = [[i+j for i in First_List] for j in Second_List]   # 2차원 배열 시, [] 순서 주의!!!\n",
        "print(result)\n",
        "\n",
        "result = [[j+i for i in Second_List] for j in First_List]   # 2차원 배열 시, [] 순서 주의!!! (변수 및 List 순서도 역순으로 해야함!) - 뒷 문장 위로 간다고 생각하면 편함.\n",
        "print(result)"
      ],
      "execution_count": 48,
      "outputs": [
        {
          "output_type": "stream",
          "text": [
            "['af', 'ad', 'ah', 'ab', 'aj', 'bf', 'bd', 'bh', 'bb', 'bj', 'cf', 'cd', 'ch', 'cb', 'cj', 'df', 'dd', 'dh', 'db', 'dj', 'ef', 'ed', 'eh', 'eb', 'ej']\n",
            "['af', 'ad', 'ah', 'ab', 'aj', 'bf', 'bd', 'bh', 'bj', 'cf', 'cd', 'ch', 'cb', 'cj', 'df', 'dh', 'db', 'dj', 'ef', 'ed', 'eh', 'eb', 'ej']\n",
            "['af', 'ad', 'ah', 'ab', 'aj', 'bf', 'bd', 'bh', 'b', 'bj', 'cf', 'cd', 'ch', 'cb', 'cj', 'df', 'd', 'dh', 'db', 'dj', 'ef', 'ed', 'eh', 'eb', 'ej']\n",
            "\n",
            "['af', 'ad', 'ah', 'ab', 'aj', 'bf', 'bd', 'bh', 'bb', 'bj', 'cf', 'cd', 'ch', 'cb', 'cj', 'df', 'dd', 'dh', 'db', 'dj', 'ef', 'ed', 'eh', 'eb', 'ej']\n",
            "[['af', 'bf', 'cf', 'df', 'ef'], ['ad', 'bd', 'cd', 'dd', 'ed'], ['ah', 'bh', 'ch', 'dh', 'eh'], ['ab', 'bb', 'cb', 'db', 'eb'], ['aj', 'bj', 'cj', 'dj', 'ej']]\n",
            "[['af', 'ad', 'ah', 'ab', 'aj'], ['bf', 'bd', 'bh', 'bb', 'bj'], ['cf', 'cd', 'ch', 'cb', 'cj'], ['df', 'dd', 'dh', 'db', 'dj'], ['ef', 'ed', 'eh', 'eb', 'ej']]\n"
          ],
          "name": "stdout"
        }
      ]
    },
    {
      "cell_type": "code",
      "metadata": {
        "id": "QYP18JIYXf6t"
      },
      "source": [
        ""
      ],
      "execution_count": 48,
      "outputs": []
    },
    {
      "cell_type": "markdown",
      "metadata": {
        "id": "Qhpik60z8B2Z"
      },
      "source": [
        "> Enumerate (열거) : List의 element를 추출할 때 번호를 붙여서 추출"
      ]
    },
    {
      "cell_type": "code",
      "metadata": {
        "colab": {
          "base_uri": "https://localhost:8080/"
        },
        "id": "JiAE8J2A8B__",
        "outputId": "9cd4a49d-fcb2-4cdb-963b-080a359f1081"
      },
      "source": [
        "for v in ['tic', 'tac', 'toe']:\n",
        "  print(v)\n",
        "print()\n",
        "\n",
        "# list의 있는 index와 값을 unpacking\n",
        "for i, v in enumerate(['tic', 'tac', 'toe']):\n",
        "  print(i, v)\n",
        "print()\n",
        "\n",
        "mylist = ['a', 'b', 'c', 'd']\n",
        "print(list(enumerate(mylist)))"
      ],
      "execution_count": 49,
      "outputs": [
        {
          "output_type": "stream",
          "text": [
            "tic\n",
            "tac\n",
            "toe\n",
            "\n",
            "0 tic\n",
            "1 tac\n",
            "2 toe\n",
            "\n",
            "[(0, 'a'), (1, 'b'), (2, 'c'), (3, 'd')]\n"
          ],
          "name": "stdout"
        }
      ]
    },
    {
      "cell_type": "code",
      "metadata": {
        "id": "LyqqMhbs8CCW"
      },
      "source": [
        ""
      ],
      "execution_count": 49,
      "outputs": []
    },
    {
      "cell_type": "markdown",
      "metadata": {
        "id": "U-NhyGm9-cw7"
      },
      "source": [
        "> Zip : 두 개의 list의 값을 병렬적으로 추출함"
      ]
    },
    {
      "cell_type": "code",
      "metadata": {
        "colab": {
          "base_uri": "https://localhost:8080/"
        },
        "id": "MLdXaYxR8CEp",
        "outputId": "8c8715a9-1c8f-445d-9509-0a11a92f4a7e"
      },
      "source": [
        "a_list = ['a1', 'a2', 'a3']\n",
        "b_list = ['b1', 'b2', 'b3']\n",
        "\n",
        "for a, b in zip(a_list, b_list):  # 병렬로 Unpacking\n",
        "  print(a, b)\n",
        "print()\n",
        "\n",
        "for c in zip(a_list, b_list):   # 튜플로 묶임\n",
        "  print(c)\n",
        "print()\n",
        "\n",
        "for i, values in enumerate(zip(a_list, b_list)):\n",
        "  print(i, values)\n",
        "print()\n",
        "\n",
        "print(list(enumerate(zip(a_list, b_list))))"
      ],
      "execution_count": 50,
      "outputs": [
        {
          "output_type": "stream",
          "text": [
            "a1 b1\n",
            "a2 b2\n",
            "a3 b3\n",
            "\n",
            "('a1', 'b1')\n",
            "('a2', 'b2')\n",
            "('a3', 'b3')\n",
            "\n",
            "0 ('a1', 'b1')\n",
            "1 ('a2', 'b2')\n",
            "2 ('a3', 'b3')\n",
            "\n",
            "[(0, ('a1', 'b1')), (1, ('a2', 'b2')), (2, ('a3', 'b3'))]\n"
          ],
          "name": "stdout"
        }
      ]
    },
    {
      "cell_type": "code",
      "metadata": {
        "id": "DHcO_0Ys8CGr"
      },
      "source": [
        ""
      ],
      "execution_count": 50,
      "outputs": []
    },
    {
      "cell_type": "markdown",
      "metadata": {
        "id": "K2O89EpQ_5G1"
      },
      "source": [
        "> Lambda : 함수 이름 없이, 함수처럼 쓸 수 있는 익명함수"
      ]
    },
    {
      "cell_type": "code",
      "metadata": {
        "colab": {
          "base_uri": "https://localhost:8080/"
        },
        "id": "wSlqOpA3_5Px",
        "outputId": "8e70c5ea-12b0-49ca-aa4e-8b1cfe4391a8"
      },
      "source": [
        "f = lambda x, y: x + y\n",
        "print(f(1, 4))\n",
        "\n",
        "print((lambda x, y: x + y)(1, 4))\n",
        "\n",
        "print((lambda x : \"-\".join(x.split()))(\"Hello World\"))"
      ],
      "execution_count": 51,
      "outputs": [
        {
          "output_type": "stream",
          "text": [
            "5\n",
            "5\n",
            "Hello-World\n"
          ],
          "name": "stdout"
        }
      ]
    },
    {
      "cell_type": "code",
      "metadata": {
        "id": "Y6AGJfEa_5SV"
      },
      "source": [
        ""
      ],
      "execution_count": 51,
      "outputs": []
    },
    {
      "cell_type": "markdown",
      "metadata": {
        "id": "ynxYeJhxBi4L"
      },
      "source": [
        "> Map : 두 개 이상의 list에도 적용 가능함"
      ]
    },
    {
      "cell_type": "code",
      "metadata": {
        "id": "FKQJvh33BjB6",
        "colab": {
          "base_uri": "https://localhost:8080/"
        },
        "outputId": "aa62cdab-2053-4bf5-bc99-23e2091c3d5d"
      },
      "source": [
        "def f(x):\n",
        "  return x * 2\n",
        "\n",
        "ex = [1, 2, 3, 4, 5]\n",
        "\n",
        "print(list(map(f, ex)))\n",
        "\n",
        "print(list(map(lambda x : x * 3, ex)))"
      ],
      "execution_count": 52,
      "outputs": [
        {
          "output_type": "stream",
          "text": [
            "[2, 4, 6, 8, 10]\n",
            "[3, 6, 9, 12, 15]\n"
          ],
          "name": "stdout"
        }
      ]
    },
    {
      "cell_type": "code",
      "metadata": {
        "id": "xhT355ohBjE_"
      },
      "source": [
        ""
      ],
      "execution_count": 52,
      "outputs": []
    },
    {
      "cell_type": "markdown",
      "metadata": {
        "id": "-XsUvts_5X3Y"
      },
      "source": [
        "> Reduce : Map function과 달리 list에 똑같은 함수를 적용해서 통합"
      ]
    },
    {
      "cell_type": "code",
      "metadata": {
        "id": "rSFmAl2aXf9F",
        "colab": {
          "base_uri": "https://localhost:8080/"
        },
        "outputId": "5b46c1de-d7f1-4bab-8649-0e55c8012a75"
      },
      "source": [
        "from functools import reduce\n",
        "\n",
        "ex = [1, 2, 3, 4, 5]\n",
        "\n",
        "print(reduce(lambda x, y : x + y, ex))      # (((1 + 2) + 3) + 4) + 5 = 15"
      ],
      "execution_count": 53,
      "outputs": [
        {
          "output_type": "stream",
          "text": [
            "15\n"
          ],
          "name": "stdout"
        }
      ]
    },
    {
      "cell_type": "code",
      "metadata": {
        "id": "q7ucgTQ05oTj"
      },
      "source": [
        ""
      ],
      "execution_count": 53,
      "outputs": []
    },
    {
      "cell_type": "markdown",
      "metadata": {
        "id": "CJMwckRH62sz"
      },
      "source": [
        "> iterable object : iter()와 next() 함수로 iterable 객체 사용"
      ]
    },
    {
      "cell_type": "code",
      "metadata": {
        "colab": {
          "base_uri": "https://localhost:8080/"
        },
        "id": "KF4oGh3_62-g",
        "outputId": "91e475ee-bbdc-4557-ed6c-3f77eaa5c64b"
      },
      "source": [
        "cities = [\"Seoul\", \"Busan\", \"Jeju\"]\n",
        "\n",
        "cities  # 메모리에 할당\n",
        "Memory_Address_ciries = iter(cities)    # 주소(위치정보)만 할당\n",
        "\n",
        "print(cities)\n",
        "print(Memory_Address_ciries)\n",
        "print(next(Memory_Address_ciries))\n",
        "print(next(Memory_Address_ciries))\n",
        "print(next(Memory_Address_ciries))\n",
        "#print(next(Memory_Address_ciries))"
      ],
      "execution_count": 54,
      "outputs": [
        {
          "output_type": "stream",
          "text": [
            "['Seoul', 'Busan', 'Jeju']\n",
            "<list_iterator object at 0x7f768056fb50>\n",
            "Seoul\n",
            "Busan\n",
            "Jeju\n"
          ],
          "name": "stdout"
        }
      ]
    },
    {
      "cell_type": "code",
      "metadata": {
        "id": "5Kv2xJK263A2"
      },
      "source": [
        ""
      ],
      "execution_count": 54,
      "outputs": []
    },
    {
      "cell_type": "markdown",
      "metadata": {
        "id": "yGsTkLvV8gS9"
      },
      "source": [
        "> Generator : iterable object 를 특수한 형태로 사용해주는 함수  \n",
        "　-. 장점 : 사용 시점에 메모리에 할당하기 때문에 메모리를 효율적으로 사용할 수 있다!  \n",
        "　　　　　(※ 대용량 데이터 처리 시, Generator를 쓰자!)\n",
        "\n",
        ">   \n",
        "　-. element가 사용되는 시점에 값을 메모리에 반환  \n",
        "　　: yield를 사용해 한번에 하나의 element만 반환함"
      ]
    },
    {
      "cell_type": "code",
      "metadata": {
        "colab": {
          "base_uri": "https://localhost:8080/"
        },
        "id": "v9DB88VO63De",
        "outputId": "897b2a23-2df7-4956-c76d-36e0781c9345"
      },
      "source": [
        "import sys\n",
        "\n",
        "def general_list(value):\n",
        "  result = []\n",
        "  for i in range(value):\n",
        "    result.append(i)\n",
        "  return result\n",
        "\n",
        "def geneartor_list(value):\n",
        "  result = []\n",
        "  for i in range(value):\n",
        "    yield i\n",
        "\n",
        "_general_List = general_list(5000)\n",
        "_geneartor_List = geneartor_list(5000)\n",
        "\n",
        "print(sys.getsizeof(_general_List))\n",
        "print(sys.getsizeof(_geneartor_List))\n",
        "print(sys.getsizeof(list(_geneartor_List)))"
      ],
      "execution_count": 55,
      "outputs": [
        {
          "output_type": "stream",
          "text": [
            "43048\n",
            "128\n",
            "40824\n"
          ],
          "name": "stdout"
        }
      ]
    },
    {
      "cell_type": "code",
      "metadata": {
        "colab": {
          "base_uri": "https://localhost:8080/"
        },
        "id": "PZcoZB_d63Fi",
        "outputId": "69baa2a0-3155-49d2-a637-3644aee6c06a"
      },
      "source": [
        "general_ex = [n*n for n in range(50)]\n",
        "geneartor_ex = (n*n for n in range(50))    # 앞뒤를 괄호로 하면 Generator로 생성됨!!! (튜플과 동일하여 혼돈 주의)\n",
        "print(type(geneartor_ex))\n",
        "\n",
        "print(sys.getsizeof(general_ex))\n",
        "print(sys.getsizeof(geneartor_ex))\n",
        "print(sys.getsizeof(list(geneartor_ex)))\n",
        "print()\n",
        "\n",
        "\n",
        "geneartor_ex = (n*n for n in range(51))    # 앞뒤를 괄호로 하면 Generator로 생성됨!!! (튜플과 동일하여 혼돈 주의)\n",
        "for v in geneartor_ex:\n",
        "  print(v, end=' ')\n",
        "print()\n",
        "print()\n",
        "\n",
        "geneartor_ex = (n*n for n in range(51))    # 앞뒤를 괄호로 하면 Generator로 생성됨!!! (튜플과 동일하여 혼돈 주의)\n",
        "for i, v in enumerate(geneartor_ex):\n",
        "  print(i, v, end='\\t')\n",
        "  if i % 10 == 9:\n",
        "    print()"
      ],
      "execution_count": 56,
      "outputs": [
        {
          "output_type": "stream",
          "text": [
            "<class 'generator'>\n",
            "536\n",
            "128\n",
            "480\n",
            "\n",
            "0 1 4 9 16 25 36 49 64 81 100 121 144 169 196 225 256 289 324 361 400 441 484 529 576 625 676 729 784 841 900 961 1024 1089 1156 1225 1296 1369 1444 1521 1600 1681 1764 1849 1936 2025 2116 2209 2304 2401 2500 \n",
            "\n",
            "0 0\t1 1\t2 4\t3 9\t4 16\t5 25\t6 36\t7 49\t8 64\t9 81\t\n",
            "10 100\t11 121\t12 144\t13 169\t14 196\t15 225\t16 256\t17 289\t18 324\t19 361\t\n",
            "20 400\t21 441\t22 484\t23 529\t24 576\t25 625\t26 676\t27 729\t28 784\t29 841\t\n",
            "30 900\t31 961\t32 1024\t33 1089\t34 1156\t35 1225\t36 1296\t37 1369\t38 1444\t39 1521\t\n",
            "40 1600\t41 1681\t42 1764\t43 1849\t44 1936\t45 2025\t46 2116\t47 2209\t48 2304\t49 2401\t\n",
            "50 2500\t"
          ],
          "name": "stdout"
        }
      ]
    },
    {
      "cell_type": "code",
      "metadata": {
        "id": "L2F-mG4pJwYM"
      },
      "source": [
        ""
      ],
      "execution_count": 56,
      "outputs": []
    },
    {
      "cell_type": "markdown",
      "metadata": {
        "id": "YD5sz-SgNj5s"
      },
      "source": [
        ">■ Function passing arguments  \n",
        "　1) Keyword arguments  \n",
        "　2) Default arguments  \n",
        "　3) Variable-length (가변인자) arguments (asterisk - *)"
      ]
    },
    {
      "cell_type": "code",
      "metadata": {
        "colab": {
          "base_uri": "https://localhost:8080/"
        },
        "id": "Sa-6T9P-NkDB",
        "outputId": "ae981e10-c2ad-4b2a-d3d6-29e03f026055"
      },
      "source": [
        "# Keyword arguments\n",
        "\n",
        "def print_somthing(my_name, your_name):\n",
        "  print(\"Hello {0}, My name is {1}\".format(your_name, my_name))\n",
        "\n",
        "print_somthing(\"Sungchul\", \"TEAMLAB\")\n",
        "print_somthing(your_name=\"TEAMLAB\", my_name=\"Sungchul\")   # Keyword arguments"
      ],
      "execution_count": 57,
      "outputs": [
        {
          "output_type": "stream",
          "text": [
            "Hello TEAMLAB, My name is Sungchul\n",
            "Hello TEAMLAB, My name is Sungchul\n"
          ],
          "name": "stdout"
        }
      ]
    },
    {
      "cell_type": "code",
      "metadata": {
        "colab": {
          "base_uri": "https://localhost:8080/"
        },
        "id": "7j_n9dT2NkFf",
        "outputId": "a6202175-9b6b-498e-d2dd-5ea8e44e24de"
      },
      "source": [
        "# Default arguments\n",
        "\n",
        "def print_somthing_2(my_name, your_name=\"TEAMLAB\"):\n",
        "  print(\"Hello {0}, My name is {1}\".format(your_name, my_name))\n",
        "\n",
        "print_somthing_2(\"Sungchul\", \"TEAMLAB\")\n",
        "print_somthing_2(\"Sungchul\")    # Default arguments"
      ],
      "execution_count": 58,
      "outputs": [
        {
          "output_type": "stream",
          "text": [
            "Hello TEAMLAB, My name is Sungchul\n",
            "Hello TEAMLAB, My name is Sungchul\n"
          ],
          "name": "stdout"
        }
      ]
    },
    {
      "cell_type": "code",
      "metadata": {
        "colab": {
          "base_uri": "https://localhost:8080/"
        },
        "id": "qxsWAwYzOPIk",
        "outputId": "c6621c2a-6934-49d9-e206-bc0a85b9ab54"
      },
      "source": [
        "# Variable-length arguments\n",
        "\n",
        "def asterisk_test(a, b, *args):\n",
        "  return a+b+sum(args)\n",
        "\n",
        "print(asterisk_test(1, 2, 3, 4, 5))\n",
        "\n",
        "\n",
        "def asterisk_test_2(*args):\n",
        "  x, y, z = args\n",
        "  return x, y, z\n",
        "\n",
        "print(asterisk_test_2(3, 4, 5))"
      ],
      "execution_count": 59,
      "outputs": [
        {
          "output_type": "stream",
          "text": [
            "15\n",
            "(3, 4, 5)\n"
          ],
          "name": "stdout"
        }
      ]
    },
    {
      "cell_type": "code",
      "metadata": {
        "colab": {
          "base_uri": "https://localhost:8080/"
        },
        "id": "9tj31wq8PB-i",
        "outputId": "3a513820-8879-4d3f-c661-dd104223cf92"
      },
      "source": [
        "# asterisk(*) 두개를 사용하여 함수의 parameter를 표시함 - Dict Type\n",
        "\n",
        "def kwargs_test_1(**kwargs):\n",
        "  print(kwargs)\n",
        "  print(type(kwargs))\n",
        "\n",
        "kwargs_test_1(first=3, second=4, third=5)"
      ],
      "execution_count": 60,
      "outputs": [
        {
          "output_type": "stream",
          "text": [
            "{'first': 3, 'second': 4, 'third': 5}\n",
            "<class 'dict'>\n"
          ],
          "name": "stdout"
        }
      ]
    },
    {
      "cell_type": "code",
      "metadata": {
        "colab": {
          "base_uri": "https://localhost:8080/"
        },
        "id": "0ExZ_R_QPRsz",
        "outputId": "80f70bab-02c8-4bce-f211-17935cfe3d54"
      },
      "source": [
        "def kwargs_test_3(one, two, *args, **kwargs):\n",
        "  print(one+two+sum(args))\n",
        "  print(kwargs)\n",
        "\n",
        "kwargs_test_3(3, 4, 5, 6, 7, 8, 9, first=3, second=4, third=5)    # 가변인자의 순서는 지켜져야한다 + Keyword 형태가 뒤에 위치해야 한다."
      ],
      "execution_count": 61,
      "outputs": [
        {
          "output_type": "stream",
          "text": [
            "42\n",
            "{'first': 3, 'second': 4, 'third': 5}\n"
          ],
          "name": "stdout"
        }
      ]
    },
    {
      "cell_type": "code",
      "metadata": {
        "id": "LqwG60YWPiH4"
      },
      "source": [
        ""
      ],
      "execution_count": 61,
      "outputs": []
    },
    {
      "cell_type": "markdown",
      "metadata": {
        "id": "xOVzB8u3QWYi"
      },
      "source": [
        "> asterisk – unpacking a container"
      ]
    },
    {
      "cell_type": "code",
      "metadata": {
        "colab": {
          "base_uri": "https://localhost:8080/"
        },
        "id": "R1EynJb-QWeY",
        "outputId": "1530eed3-5275-427d-98ba-77398c8ea75b"
      },
      "source": [
        "def asterisk_test(a, *args):\n",
        "  print(a, *args)\n",
        "  print(a, args)\n",
        "  print(type(args))\n",
        "asterisk_test(1, *(2,3,4,5,6))\n",
        "\n",
        "print()\n",
        "\n",
        "def asterisk_test(a, args):\n",
        "  print(a, *args)\n",
        "  print(a, args)\n",
        "  print(type(args))\n",
        "asterisk_test(1, (2,3,4,5,6))"
      ],
      "execution_count": 62,
      "outputs": [
        {
          "output_type": "stream",
          "text": [
            "1 2 3 4 5 6\n",
            "1 (2, 3, 4, 5, 6)\n",
            "<class 'tuple'>\n",
            "\n",
            "1 2 3 4 5 6\n",
            "1 (2, 3, 4, 5, 6)\n",
            "<class 'tuple'>\n"
          ],
          "name": "stdout"
        }
      ]
    },
    {
      "cell_type": "code",
      "metadata": {
        "id": "Lpvug42eQWhS"
      },
      "source": [
        ""
      ],
      "execution_count": 62,
      "outputs": []
    },
    {
      "cell_type": "code",
      "metadata": {
        "colab": {
          "base_uri": "https://localhost:8080/"
        },
        "id": "BVBP_qKNQWjc",
        "outputId": "5d04fd26-0b30-4607-c783-2e1776668c06"
      },
      "source": [
        "a, b, c = ([1, 2], [3, 4], [5, 6])\n",
        "print(a, b, c)\n",
        "print()\n",
        "\n",
        "data = ([1, 2], [3, 4], [5, 6])\n",
        "print(data)\n",
        "print()\n",
        "\n",
        "print(*data)\n",
        "print()\n",
        "\n",
        "for data in zip(([1, 2], [3, 4], [5, 6])):\n",
        "  print(data)\n",
        "print()\n",
        "\n",
        "for data in zip(*([1, 2], [3, 4], [5, 6])):\n",
        "  print(data)"
      ],
      "execution_count": 63,
      "outputs": [
        {
          "output_type": "stream",
          "text": [
            "[1, 2] [3, 4] [5, 6]\n",
            "\n",
            "([1, 2], [3, 4], [5, 6])\n",
            "\n",
            "[1, 2] [3, 4] [5, 6]\n",
            "\n",
            "([1, 2],)\n",
            "([3, 4],)\n",
            "([5, 6],)\n",
            "\n",
            "(1, 3, 5)\n",
            "(2, 4, 6)\n"
          ],
          "name": "stdout"
        }
      ]
    },
    {
      "cell_type": "code",
      "metadata": {
        "colab": {
          "base_uri": "https://localhost:8080/"
        },
        "id": "-t4RVn07QWly",
        "outputId": "160c7279-4d45-4182-bb95-82e93332ccf1"
      },
      "source": [
        "def asterisk_test(a, b, c, d,):\n",
        "  print(a, b, c, d)\n",
        "  \n",
        "data = {\"b\":1 , \"c\":2, \"d\":3}\n",
        "asterisk_test(10, **data)"
      ],
      "execution_count": 64,
      "outputs": [
        {
          "output_type": "stream",
          "text": [
            "10 1 2 3\n"
          ],
          "name": "stdout"
        }
      ]
    },
    {
      "cell_type": "code",
      "metadata": {
        "id": "elFK1SPLSaT1"
      },
      "source": [
        ""
      ],
      "execution_count": 64,
      "outputs": []
    }
  ]
}