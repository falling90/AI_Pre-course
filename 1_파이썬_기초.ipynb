{
  "nbformat": 4,
  "nbformat_minor": 0,
  "metadata": {
    "colab": {
      "name": "1. 파이썬 기초.ipynb",
      "provenance": [],
      "collapsed_sections": [],
      "authorship_tag": "ABX9TyNbkQaL5fDO40MaLGdF1+02",
      "include_colab_link": true
    },
    "kernelspec": {
      "name": "python3",
      "display_name": "Python 3"
    },
    "language_info": {
      "name": "python"
    }
  },
  "cells": [
    {
      "cell_type": "markdown",
      "metadata": {
        "id": "view-in-github",
        "colab_type": "text"
      },
      "source": [
        "<a href=\"https://colab.research.google.com/github/falling90/AI_Pre-course/blob/main/1_%ED%8C%8C%EC%9D%B4%EC%8D%AC_%EA%B8%B0%EC%B4%88.ipynb\" target=\"_parent\"><img src=\"https://colab.research.google.com/assets/colab-badge.svg\" alt=\"Open In Colab\"/></a>"
      ]
    },
    {
      "cell_type": "markdown",
      "metadata": {
        "id": "uuZkV9lo9sfm"
      },
      "source": [
        "##1) 파이썬/AI 개발환경\n",
        "### 　A. 파이썬 코딩환경(Windows)"
      ]
    },
    {
      "cell_type": "markdown",
      "metadata": {
        "id": "EJV9SUBK_8GH"
      },
      "source": [
        "■ Windows Editor 추천\n",
        "  1. cmder : cmd와 유사 (UI화면 및 조작 편리)\n",
        "  2. Visual Studio Code (Python Linting 도구가 있어 작업 편리성 향상)\n",
        "    → 프로그램 설치 후 cmd 에서 \"code .\" 입력"
      ]
    },
    {
      "cell_type": "code",
      "metadata": {
        "id": "nuTAjq9dAN4R"
      },
      "source": [
        ""
      ],
      "execution_count": null,
      "outputs": []
    },
    {
      "cell_type": "markdown",
      "metadata": {
        "id": "LCK0EvjfAOUm"
      },
      "source": [
        "##2) 파이썬 기초 문법\n",
        "### 　A. Variables"
      ]
    },
    {
      "cell_type": "markdown",
      "metadata": {
        "id": "C0JK9Gd5jbFd"
      },
      "source": [
        "> 변수의 Type 확인 : type(변수명)  \n",
        "> Dynamic Typing : 자료형을 지정해주지 않아도 코드 실행 시점에 데이터의 Type을 결정 (Python의 장점)"
      ]
    },
    {
      "cell_type": "code",
      "metadata": {
        "id": "GyF7zOyZ9rW4",
        "colab": {
          "base_uri": "https://localhost:8080/"
        },
        "outputId": "48afb945-710b-46cf-9a51-aa84834f737f"
      },
      "source": [
        "a = 1\n",
        "print(f\"a = {a} → {type(a)}\")\n",
        "\n",
        "a = 1.5\n",
        "print(f\"a = {a} → {type(a)}\")\n",
        "\n",
        "a = \"Hello\"\n",
        "print(f\"a = {a} → {type(a)}\")"
      ],
      "execution_count": 10,
      "outputs": [
        {
          "output_type": "stream",
          "text": [
            "a = 1 → <class 'int'>\n",
            "a = 1.5 → <class 'float'>\n",
            "a = Hello → <class 'str'>\n"
          ],
          "name": "stdout"
        }
      ]
    },
    {
      "cell_type": "markdown",
      "metadata": {
        "id": "dlukJXoZn2Pl"
      },
      "source": [
        "####■ List (Array)"
      ]
    },
    {
      "cell_type": "markdown",
      "metadata": {
        "id": "GGFKiME3oSbl"
      },
      "source": [
        "> List 內 element 수 확인 : len(변수명)"
      ]
    },
    {
      "cell_type": "code",
      "metadata": {
        "id": "L1Abab079rZb",
        "colab": {
          "base_uri": "https://localhost:8080/"
        },
        "outputId": "7d4c6a93-e6cb-48a5-d4a4-d5338f30144e"
      },
      "source": [
        "colors = [\"Red\", \"Blue\", \"Green\"]\n",
        "\n",
        "print(colors[0])\n",
        "print(colors[2])\n",
        "print(f\"\\nColors element 수 : {len(colors)}\")"
      ],
      "execution_count": 15,
      "outputs": [
        {
          "output_type": "stream",
          "text": [
            "Red\n",
            "Green\n",
            "\n",
            "Colors element 수 : 3\n"
          ],
          "name": "stdout"
        }
      ]
    },
    {
      "cell_type": "code",
      "metadata": {
        "id": "5IpsENzvsKXj"
      },
      "source": [
        ""
      ],
      "execution_count": null,
      "outputs": []
    },
    {
      "cell_type": "markdown",
      "metadata": {
        "id": "FWhNSFoKosSW"
      },
      "source": [
        "> Slicing : list의 값들을 잘라서 사용"
      ]
    },
    {
      "cell_type": "code",
      "metadata": {
        "id": "tVVbzd3D9rcB",
        "colab": {
          "base_uri": "https://localhost:8080/"
        },
        "outputId": "6cabaf18-3cf2-4019-b15b-b35b783f190f"
      },
      "source": [
        "#           -8      -7      -6      -5      -4      -3      -2      -1\n",
        "#            0       1       2       3       4       5       6       7\n",
        "cities = [\"서울\", \"부산\", \"인천\", \"대구\", \"대전\", \"광주\", \"울산\", \"수원\"]\n",
        "\n",
        "print(f\"0:6 = {cities[0:6]}\")\n",
        "print(f\":6 = {cities[:6]}\")\n",
        "print(f\"5:10 = {cities[5:10]}\")\n",
        "print(f\"5: = {cities[5:]}\")\n",
        "\n",
        "print(f\"-9:-3 = {cities[-9:-3]}\")\n",
        "print(f\": = {cities[:]}\")\n",
        "print(f\"-50:50 = {cities[-50:50]}\")\n",
        "\n",
        "print(f\"::2 = {cities[::2]}\")\n",
        "print(f\"3::2 = {cities[3::2]}\")\n",
        "print(f\":5:2 = {cities[:5:2]}\")\n",
        "\n",
        "print(f\"::-1 = {cities[::-1]}\")\n",
        "print(f\"4::-1 = {cities[4::-1]}\")\n",
        "print(f\":5:-1 = {cities[:5:-1]}\")"
      ],
      "execution_count": 27,
      "outputs": [
        {
          "output_type": "stream",
          "text": [
            "0:6 = ['서울', '부산', '인천', '대구', '대전', '광주']\n",
            ":6 = ['서울', '부산', '인천', '대구', '대전', '광주']\n",
            "5:10 = ['광주', '울산', '수원']\n",
            "5: = ['광주', '울산', '수원']\n",
            "-9:-3 = ['서울', '부산', '인천', '대구', '대전']\n",
            ": = ['서울', '부산', '인천', '대구', '대전', '광주', '울산', '수원']\n",
            "-50:50 = ['서울', '부산', '인천', '대구', '대전', '광주', '울산', '수원']\n",
            "::2 = ['서울', '인천', '대전', '울산']\n",
            "3::2 = ['대구', '광주', '수원']\n",
            ":5:2 = ['서울', '인천', '대전']\n",
            "::-1 = ['수원', '울산', '광주', '대전', '대구', '인천', '부산', '서울']\n",
            "4::-1 = ['대전', '대구', '인천', '부산', '서울']\n",
            ":5:-1 = ['수원', '울산']\n"
          ],
          "name": "stdout"
        }
      ]
    },
    {
      "cell_type": "code",
      "metadata": {
        "id": "VpewmRHOsLRW"
      },
      "source": [
        ""
      ],
      "execution_count": null,
      "outputs": []
    },
    {
      "cell_type": "markdown",
      "metadata": {
        "id": "v3azKYIHrGUo"
      },
      "source": [
        "> Concatenation (list 연산)"
      ]
    },
    {
      "cell_type": "code",
      "metadata": {
        "id": "WlYbOPCf9reW",
        "colab": {
          "base_uri": "https://localhost:8080/"
        },
        "outputId": "7f2ef161-b586-4653-e98c-382d36a042fd"
      },
      "source": [
        "color1 = [\"Red\", \"Blue\", \"Green\"]\n",
        "color2 = [\"Orange\", \"Black\", \"White\"]\n",
        "\n",
        "print(f\"color1 + color2 = {color1 + color2}\")\n",
        "print(f\"color1 * 2 = {color1 * 2}\")"
      ],
      "execution_count": 30,
      "outputs": [
        {
          "output_type": "stream",
          "text": [
            "color1 + color2 = ['Red', 'Blue', 'Green', 'Orange', 'Black', 'White']\n",
            "color1 * 2 = ['Red', 'Blue', 'Green', 'Red', 'Blue', 'Green']\n"
          ],
          "name": "stdout"
        }
      ]
    },
    {
      "cell_type": "code",
      "metadata": {
        "id": "Tv_o9o72sMH9"
      },
      "source": [
        ""
      ],
      "execution_count": null,
      "outputs": []
    },
    {
      "cell_type": "markdown",
      "metadata": {
        "id": "GFnKWDiBrzmV"
      },
      "source": [
        "> List 추가/삭제 : append, extend, insert, remove, del"
      ]
    },
    {
      "cell_type": "code",
      "metadata": {
        "id": "DjFMln1D9rg1",
        "colab": {
          "base_uri": "https://localhost:8080/"
        },
        "outputId": "6be56855-d843-4d12-e6f8-49c132e1a8d6"
      },
      "source": [
        "color = [\"Red\", \"Blue\", \"Green\"]\n",
        "print(color)\n",
        "color.append(\"White\")\n",
        "print(color)\n",
        "color.extend([\"Black\",\"Purple\"])\n",
        "print(color)\n",
        "color.insert(1, \"Yellow\")\n",
        "print(color)\n",
        "print()\n",
        "\n",
        "color.remove(\"White\")\n",
        "print(color)\n",
        "del color[1]\n",
        "print(color)"
      ],
      "execution_count": 42,
      "outputs": [
        {
          "output_type": "stream",
          "text": [
            "['Red', 'Blue', 'Green']\n",
            "['Red', 'Blue', 'Green', 'White']\n",
            "['Red', 'Blue', 'Green', 'White', 'Black', 'Purple']\n",
            "['Red', 'Yellow', 'Blue', 'Green', 'White', 'Black', 'Purple']\n",
            "\n",
            "['Red', 'Yellow', 'Blue', 'Green', 'Black', 'Purple']\n",
            "['Red', 'Blue', 'Green', 'Black', 'Purple']\n"
          ],
          "name": "stdout"
        }
      ]
    },
    {
      "cell_type": "code",
      "metadata": {
        "id": "v_5BIQnL9rjL"
      },
      "source": [
        ""
      ],
      "execution_count": null,
      "outputs": []
    },
    {
      "cell_type": "markdown",
      "metadata": {
        "id": "wILVig_Qtjye"
      },
      "source": [
        "> Python List의 특징 : 다양한 Data Type이 하나의 List에 들어갈 수 있음"
      ]
    },
    {
      "cell_type": "code",
      "metadata": {
        "id": "Dir6Hg4W9rlv",
        "colab": {
          "base_uri": "https://localhost:8080/"
        },
        "outputId": "423424e4-7ed2-48d3-919b-d0994eef697c"
      },
      "source": [
        "a = [\"color\", 1, 0.2]\n",
        "print(a)\n",
        "\n",
        "a = [[\"Red\", \"Blue\", \"Green\"], 1, 0.2]\n",
        "print(a)\n",
        "\n",
        "color = [\"Red\", \"Blue\"]\n",
        "a = [color, 1, 0.2]\n",
        "print(a)"
      ],
      "execution_count": 47,
      "outputs": [
        {
          "output_type": "stream",
          "text": [
            "['color', 1, 0.2]\n",
            "[['Red', 'Blue', 'Green'], 1, 0.2]\n",
            "[['Red', 'Blue'], 1, 0.2]\n"
          ],
          "name": "stdout"
        }
      ]
    },
    {
      "cell_type": "code",
      "metadata": {
        "id": "zm9Odq2F9roY"
      },
      "source": [
        ""
      ],
      "execution_count": null,
      "outputs": []
    },
    {
      "cell_type": "markdown",
      "metadata": {
        "id": "k2Bgy-n1uJfV"
      },
      "source": [
        "> Sort (정렬)"
      ]
    },
    {
      "cell_type": "code",
      "metadata": {
        "id": "3on2XPfM9rrA",
        "colab": {
          "base_uri": "https://localhost:8080/"
        },
        "outputId": "a0f28543-e028-4a0a-8bb8-f3dc19970a54"
      },
      "source": [
        "a = [2, 4, 1, 5, 3]\n",
        "print(a)\n",
        "\n",
        "sorted(a)\n",
        "print(sorted(a))\n",
        "print(a)\n",
        "\n",
        "a.sort()\n",
        "print(a)"
      ],
      "execution_count": 50,
      "outputs": [
        {
          "output_type": "stream",
          "text": [
            "[2, 4, 1, 5, 3]\n",
            "[1, 2, 3, 4, 5]\n",
            "[2, 4, 1, 5, 3]\n",
            "[1, 2, 3, 4, 5]\n"
          ],
          "name": "stdout"
        }
      ]
    },
    {
      "cell_type": "code",
      "metadata": {
        "id": "DaFJGLum9rtg"
      },
      "source": [
        ""
      ],
      "execution_count": null,
      "outputs": []
    },
    {
      "cell_type": "markdown",
      "metadata": {
        "id": "6AP5FG0cunWi"
      },
      "source": [
        "> 메모리 주소 복사(할당)  ↔  데이터 복사의 차이 (+ Deep Copy)"
      ]
    },
    {
      "cell_type": "code",
      "metadata": {
        "id": "V0QwqXQN9rwM",
        "colab": {
          "base_uri": "https://localhost:8080/"
        },
        "outputId": "78b4094c-9417-4f98-b4a1-79b424c5259b"
      },
      "source": [
        "a = [1, 2, 3, 4, 5]\n",
        "b = [5, 4, 3, 2, 1]\n",
        "\n",
        "a = b       # 메모리 주소 복사 (할당)\n",
        "print(a)\n",
        "print(b)\n",
        "\n",
        "a.sort()\n",
        "print(a)\n",
        "print(b)"
      ],
      "execution_count": 52,
      "outputs": [
        {
          "output_type": "stream",
          "text": [
            "[5, 4, 3, 2, 1]\n",
            "[5, 4, 3, 2, 1]\n",
            "[1, 2, 3, 4, 5]\n",
            "[1, 2, 3, 4, 5]\n"
          ],
          "name": "stdout"
        }
      ]
    },
    {
      "cell_type": "code",
      "metadata": {
        "id": "FNI54gWR9rzD",
        "colab": {
          "base_uri": "https://localhost:8080/"
        },
        "outputId": "378fe1fb-748f-4157-e014-60513d41ae44"
      },
      "source": [
        "a = [1, 2, 3, 4, 5]\n",
        "b = [5, 4, 3, 2, 1]\n",
        "\n",
        "a = b[:]    # 데이터 복사\n",
        "print(a)\n",
        "print(b)\n",
        "\n",
        "a.sort()\n",
        "print(a)\n",
        "print(b)"
      ],
      "execution_count": 53,
      "outputs": [
        {
          "output_type": "stream",
          "text": [
            "[5, 4, 3, 2, 1]\n",
            "[5, 4, 3, 2, 1]\n",
            "[1, 2, 3, 4, 5]\n",
            "[5, 4, 3, 2, 1]\n"
          ],
          "name": "stdout"
        }
      ]
    },
    {
      "cell_type": "code",
      "metadata": {
        "colab": {
          "base_uri": "https://localhost:8080/"
        },
        "id": "mdygq78NwYAY",
        "outputId": "34119bcd-031e-47af-9355-f6a18af50cb1"
      },
      "source": [
        "a = [1, 2, 3, 4, 5]\n",
        "b = [5, 4, 3, 2, 1]\n",
        "c = [2, 4, 1, 5, 3]\n",
        "\n",
        "All = [a, b, c]\n",
        "print(All)\n",
        "print(All[0][3])\n",
        "\n",
        "Temp = All[:]    # 데이터 복사(?)\n",
        "print(All)\n",
        "print(Temp)\n",
        "print()\n",
        "\n",
        "All[0][3] = 5\n",
        "print(All)\n",
        "print(Temp)      # ※ 데이터 복사가 안되고 메모리 주소가 복사된 것으로 확인!"
      ],
      "execution_count": 65,
      "outputs": [
        {
          "output_type": "stream",
          "text": [
            "[[1, 2, 3, 4, 5], [5, 4, 3, 2, 1], [2, 4, 1, 5, 3]]\n",
            "4\n",
            "[[1, 2, 3, 4, 5], [5, 4, 3, 2, 1], [2, 4, 1, 5, 3]]\n",
            "[[1, 2, 3, 4, 5], [5, 4, 3, 2, 1], [2, 4, 1, 5, 3]]\n",
            "\n",
            "[[1, 2, 3, 5, 5], [5, 4, 3, 2, 1], [2, 4, 1, 5, 3]]\n",
            "[[1, 2, 3, 5, 5], [5, 4, 3, 2, 1], [2, 4, 1, 5, 3]]\n"
          ],
          "name": "stdout"
        }
      ]
    },
    {
      "cell_type": "code",
      "metadata": {
        "colab": {
          "base_uri": "https://localhost:8080/"
        },
        "id": "re8WHBdVxVSG",
        "outputId": "6e48ce89-030e-4184-8a47-5da0c1d926c0"
      },
      "source": [
        "# 해결책 : copy.deepcopy 사용\n",
        "import copy\n",
        "\n",
        "a = [1, 2, 3, 4, 5]\n",
        "b = [5, 4, 3, 2, 1]\n",
        "c = [2, 4, 1, 5, 3]\n",
        "\n",
        "All = [a, b, c]\n",
        "print(All)\n",
        "print(All[0][3])\n",
        "\n",
        "Temp = copy.deepcopy(All)    # 데이터 복사 (Deep Copy)\n",
        "print(All)\n",
        "print(Temp)\n",
        "print()\n",
        "\n",
        "All[0][3] = 5\n",
        "print(All)\n",
        "print(Temp)      # 데이터 복사 정상 확인"
      ],
      "execution_count": 66,
      "outputs": [
        {
          "output_type": "stream",
          "text": [
            "[[1, 2, 3, 4, 5], [5, 4, 3, 2, 1], [2, 4, 1, 5, 3]]\n",
            "4\n",
            "[[1, 2, 3, 4, 5], [5, 4, 3, 2, 1], [2, 4, 1, 5, 3]]\n",
            "[[1, 2, 3, 4, 5], [5, 4, 3, 2, 1], [2, 4, 1, 5, 3]]\n",
            "\n",
            "[[1, 2, 3, 5, 5], [5, 4, 3, 2, 1], [2, 4, 1, 5, 3]]\n",
            "[[1, 2, 3, 4, 5], [5, 4, 3, 2, 1], [2, 4, 1, 5, 3]]\n"
          ],
          "name": "stdout"
        }
      ]
    },
    {
      "cell_type": "code",
      "metadata": {
        "id": "d5ry0Ba_9r1b"
      },
      "source": [
        ""
      ],
      "execution_count": null,
      "outputs": []
    },
    {
      "cell_type": "markdown",
      "metadata": {
        "id": "f6V4YUsWvK1d"
      },
      "source": [
        "> Packing : 한 변수에 여러 개의 데이터를 넣는 것  \n",
        "> Unpacking : 한 변수의 데이터를 각각의 변수로 반환"
      ]
    },
    {
      "cell_type": "code",
      "metadata": {
        "id": "NkMU4Foy9r4D",
        "colab": {
          "base_uri": "https://localhost:8080/"
        },
        "outputId": "ea09449e-7f1f-4fb7-f3ea-fc60bf5067ea"
      },
      "source": [
        "t = [1, 2, 3]       # 1, 2, 3을 변수 t 에 패킹\n",
        "a, b, c = t         # t에 있는 값 1, 2, 3 을 변수 a, b, c 에 언패킹\n",
        "print(t)\n",
        "print(a)\n",
        "print(b)\n",
        "print(c)"
      ],
      "execution_count": 57,
      "outputs": [
        {
          "output_type": "stream",
          "text": [
            "[1, 2, 3]\n",
            "1\n",
            "2\n",
            "3\n"
          ],
          "name": "stdout"
        }
      ]
    },
    {
      "cell_type": "code",
      "metadata": {
        "id": "Q4ozZ2F99r6I"
      },
      "source": [
        ""
      ],
      "execution_count": null,
      "outputs": []
    },
    {
      "cell_type": "markdown",
      "metadata": {
        "id": "opFLbu-5yZTU"
      },
      "source": [
        "##2) 파이썬 기초 문법\n",
        "### 　B. Function and Console I/O"
      ]
    },
    {
      "cell_type": "code",
      "metadata": {
        "id": "cdGV9oYoyZql"
      },
      "source": [
        ""
      ],
      "execution_count": null,
      "outputs": []
    },
    {
      "cell_type": "code",
      "metadata": {
        "id": "HBlFnhgKyZs0"
      },
      "source": [
        ""
      ],
      "execution_count": null,
      "outputs": []
    },
    {
      "cell_type": "code",
      "metadata": {
        "id": "m9q-2H0dyZvc"
      },
      "source": [
        ""
      ],
      "execution_count": null,
      "outputs": []
    },
    {
      "cell_type": "code",
      "metadata": {
        "id": "YoviDxWRyZyC"
      },
      "source": [
        ""
      ],
      "execution_count": null,
      "outputs": []
    },
    {
      "cell_type": "code",
      "metadata": {
        "id": "DmqKkBLjyZ03"
      },
      "source": [
        ""
      ],
      "execution_count": null,
      "outputs": []
    },
    {
      "cell_type": "code",
      "metadata": {
        "id": "BIpVqHA3yZ2v"
      },
      "source": [
        ""
      ],
      "execution_count": null,
      "outputs": []
    },
    {
      "cell_type": "code",
      "metadata": {
        "id": "KijOu_ZjyZ5R"
      },
      "source": [
        ""
      ],
      "execution_count": null,
      "outputs": []
    },
    {
      "cell_type": "code",
      "metadata": {
        "id": "9duYKcw9yZ7r"
      },
      "source": [
        ""
      ],
      "execution_count": null,
      "outputs": []
    },
    {
      "cell_type": "code",
      "metadata": {
        "id": "yE2Q7ASFyZ-H"
      },
      "source": [
        ""
      ],
      "execution_count": null,
      "outputs": []
    }
  ]
}