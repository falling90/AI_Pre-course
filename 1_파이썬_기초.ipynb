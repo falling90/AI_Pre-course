{
  "nbformat": 4,
  "nbformat_minor": 0,
  "metadata": {
    "colab": {
      "name": "1. 파이썬 기초.ipynb",
      "provenance": [],
      "collapsed_sections": [
        "uuZkV9lo9sfm",
        "LCK0EvjfAOUm",
        "dlukJXoZn2Pl",
        "opFLbu-5yZTU",
        "xQZPLr0gU6Bk",
        "5hgfBr9thE2E"
      ],
      "authorship_tag": "ABX9TyNoN5lStxRyDAlLreHZ7KKH",
      "include_colab_link": true
    },
    "kernelspec": {
      "name": "python3",
      "display_name": "Python 3"
    },
    "language_info": {
      "name": "python"
    }
  },
  "cells": [
    {
      "cell_type": "markdown",
      "metadata": {
        "id": "view-in-github",
        "colab_type": "text"
      },
      "source": [
        "<a href=\"https://colab.research.google.com/github/falling90/AI_Pre-course/blob/main/1_%ED%8C%8C%EC%9D%B4%EC%8D%AC_%EA%B8%B0%EC%B4%88.ipynb\" target=\"_parent\"><img src=\"https://colab.research.google.com/assets/colab-badge.svg\" alt=\"Open In Colab\"/></a>"
      ]
    },
    {
      "cell_type": "markdown",
      "metadata": {
        "id": "uuZkV9lo9sfm"
      },
      "source": [
        "##1) 파이썬/AI 개발환경 [정리 完]\n",
        "### 　A. 파이썬 코딩환경(Windows)"
      ]
    },
    {
      "cell_type": "markdown",
      "metadata": {
        "id": "EJV9SUBK_8GH"
      },
      "source": [
        "■ Windows Editor 추천\n",
        "  1. cmder : cmd와 유사 (UI화면 및 조작 편리)\n",
        "  2. Visual Studio Code (Python Linting 도구가 있어 작업 편리성 향상)\n",
        "    → 프로그램 설치 후 cmd 에서 \"code .\" 입력"
      ]
    },
    {
      "cell_type": "code",
      "metadata": {
        "id": "nuTAjq9dAN4R"
      },
      "source": [
        ""
      ],
      "execution_count": null,
      "outputs": []
    },
    {
      "cell_type": "markdown",
      "metadata": {
        "id": "LCK0EvjfAOUm"
      },
      "source": [
        "##2) 파이썬 기초 문법 [정리 完]\n",
        "### 　A. Variables"
      ]
    },
    {
      "cell_type": "markdown",
      "metadata": {
        "id": "C0JK9Gd5jbFd"
      },
      "source": [
        "> 변수의 Type 확인 : type(변수명)  \n",
        "> Dynamic Typing : 자료형을 지정해주지 않아도 코드 실행 시점에 데이터의 Type을 결정 (Python의 장점)"
      ]
    },
    {
      "cell_type": "code",
      "metadata": {
        "id": "GyF7zOyZ9rW4",
        "colab": {
          "base_uri": "https://localhost:8080/"
        },
        "outputId": "48afb945-710b-46cf-9a51-aa84834f737f"
      },
      "source": [
        "a = 1\n",
        "print(f\"a = {a} → {type(a)}\")\n",
        "\n",
        "a = 1.5\n",
        "print(f\"a = {a} → {type(a)}\")\n",
        "\n",
        "a = \"Hello\"\n",
        "print(f\"a = {a} → {type(a)}\")"
      ],
      "execution_count": 10,
      "outputs": [
        {
          "output_type": "stream",
          "text": [
            "a = 1 → <class 'int'>\n",
            "a = 1.5 → <class 'float'>\n",
            "a = Hello → <class 'str'>\n"
          ],
          "name": "stdout"
        }
      ]
    },
    {
      "cell_type": "markdown",
      "metadata": {
        "id": "dlukJXoZn2Pl"
      },
      "source": [
        "####■ List (Array)"
      ]
    },
    {
      "cell_type": "markdown",
      "metadata": {
        "id": "GGFKiME3oSbl"
      },
      "source": [
        "> List 內 element 수 확인 : len(변수명)"
      ]
    },
    {
      "cell_type": "code",
      "metadata": {
        "id": "L1Abab079rZb",
        "colab": {
          "base_uri": "https://localhost:8080/"
        },
        "outputId": "7d4c6a93-e6cb-48a5-d4a4-d5338f30144e"
      },
      "source": [
        "colors = [\"Red\", \"Blue\", \"Green\"]\n",
        "\n",
        "print(colors[0])\n",
        "print(colors[2])\n",
        "print(f\"\\nColors element 수 : {len(colors)}\")"
      ],
      "execution_count": 15,
      "outputs": [
        {
          "output_type": "stream",
          "text": [
            "Red\n",
            "Green\n",
            "\n",
            "Colors element 수 : 3\n"
          ],
          "name": "stdout"
        }
      ]
    },
    {
      "cell_type": "code",
      "metadata": {
        "id": "5IpsENzvsKXj"
      },
      "source": [
        ""
      ],
      "execution_count": null,
      "outputs": []
    },
    {
      "cell_type": "markdown",
      "metadata": {
        "id": "FWhNSFoKosSW"
      },
      "source": [
        "> Slicing : list의 값들을 잘라서 사용"
      ]
    },
    {
      "cell_type": "code",
      "metadata": {
        "id": "tVVbzd3D9rcB",
        "colab": {
          "base_uri": "https://localhost:8080/"
        },
        "outputId": "6cabaf18-3cf2-4019-b15b-b35b783f190f"
      },
      "source": [
        "#           -8      -7      -6      -5      -4      -3      -2      -1\n",
        "#            0       1       2       3       4       5       6       7\n",
        "cities = [\"서울\", \"부산\", \"인천\", \"대구\", \"대전\", \"광주\", \"울산\", \"수원\"]\n",
        "\n",
        "print(f\"0:6 = {cities[0:6]}\")\n",
        "print(f\":6 = {cities[:6]}\")\n",
        "print(f\"5:10 = {cities[5:10]}\")\n",
        "print(f\"5: = {cities[5:]}\")\n",
        "\n",
        "print(f\"-9:-3 = {cities[-9:-3]}\")\n",
        "print(f\": = {cities[:]}\")\n",
        "print(f\"-50:50 = {cities[-50:50]}\")\n",
        "\n",
        "print(f\"::2 = {cities[::2]}\")\n",
        "print(f\"3::2 = {cities[3::2]}\")\n",
        "print(f\":5:2 = {cities[:5:2]}\")\n",
        "\n",
        "print(f\"::-1 = {cities[::-1]}\")\n",
        "print(f\"4::-1 = {cities[4::-1]}\")\n",
        "print(f\":5:-1 = {cities[:5:-1]}\")"
      ],
      "execution_count": 27,
      "outputs": [
        {
          "output_type": "stream",
          "text": [
            "0:6 = ['서울', '부산', '인천', '대구', '대전', '광주']\n",
            ":6 = ['서울', '부산', '인천', '대구', '대전', '광주']\n",
            "5:10 = ['광주', '울산', '수원']\n",
            "5: = ['광주', '울산', '수원']\n",
            "-9:-3 = ['서울', '부산', '인천', '대구', '대전']\n",
            ": = ['서울', '부산', '인천', '대구', '대전', '광주', '울산', '수원']\n",
            "-50:50 = ['서울', '부산', '인천', '대구', '대전', '광주', '울산', '수원']\n",
            "::2 = ['서울', '인천', '대전', '울산']\n",
            "3::2 = ['대구', '광주', '수원']\n",
            ":5:2 = ['서울', '인천', '대전']\n",
            "::-1 = ['수원', '울산', '광주', '대전', '대구', '인천', '부산', '서울']\n",
            "4::-1 = ['대전', '대구', '인천', '부산', '서울']\n",
            ":5:-1 = ['수원', '울산']\n"
          ],
          "name": "stdout"
        }
      ]
    },
    {
      "cell_type": "code",
      "metadata": {
        "id": "VpewmRHOsLRW"
      },
      "source": [
        ""
      ],
      "execution_count": null,
      "outputs": []
    },
    {
      "cell_type": "markdown",
      "metadata": {
        "id": "v3azKYIHrGUo"
      },
      "source": [
        "> Concatenation (list 연산)"
      ]
    },
    {
      "cell_type": "code",
      "metadata": {
        "id": "WlYbOPCf9reW",
        "colab": {
          "base_uri": "https://localhost:8080/"
        },
        "outputId": "7f2ef161-b586-4653-e98c-382d36a042fd"
      },
      "source": [
        "color1 = [\"Red\", \"Blue\", \"Green\"]\n",
        "color2 = [\"Orange\", \"Black\", \"White\"]\n",
        "\n",
        "print(f\"color1 + color2 = {color1 + color2}\")\n",
        "print(f\"color1 * 2 = {color1 * 2}\")"
      ],
      "execution_count": 30,
      "outputs": [
        {
          "output_type": "stream",
          "text": [
            "color1 + color2 = ['Red', 'Blue', 'Green', 'Orange', 'Black', 'White']\n",
            "color1 * 2 = ['Red', 'Blue', 'Green', 'Red', 'Blue', 'Green']\n"
          ],
          "name": "stdout"
        }
      ]
    },
    {
      "cell_type": "code",
      "metadata": {
        "id": "Tv_o9o72sMH9"
      },
      "source": [
        ""
      ],
      "execution_count": null,
      "outputs": []
    },
    {
      "cell_type": "markdown",
      "metadata": {
        "id": "GFnKWDiBrzmV"
      },
      "source": [
        "> List 추가/삭제 : append, extend, insert, remove, del"
      ]
    },
    {
      "cell_type": "code",
      "metadata": {
        "id": "DjFMln1D9rg1",
        "colab": {
          "base_uri": "https://localhost:8080/"
        },
        "outputId": "6be56855-d843-4d12-e6f8-49c132e1a8d6"
      },
      "source": [
        "color = [\"Red\", \"Blue\", \"Green\"]\n",
        "print(color)\n",
        "color.append(\"White\")\n",
        "print(color)\n",
        "color.extend([\"Black\",\"Purple\"])\n",
        "print(color)\n",
        "color.insert(1, \"Yellow\")\n",
        "print(color)\n",
        "print()\n",
        "\n",
        "color.remove(\"White\")\n",
        "print(color)\n",
        "del color[1]\n",
        "print(color)"
      ],
      "execution_count": 42,
      "outputs": [
        {
          "output_type": "stream",
          "text": [
            "['Red', 'Blue', 'Green']\n",
            "['Red', 'Blue', 'Green', 'White']\n",
            "['Red', 'Blue', 'Green', 'White', 'Black', 'Purple']\n",
            "['Red', 'Yellow', 'Blue', 'Green', 'White', 'Black', 'Purple']\n",
            "\n",
            "['Red', 'Yellow', 'Blue', 'Green', 'Black', 'Purple']\n",
            "['Red', 'Blue', 'Green', 'Black', 'Purple']\n"
          ],
          "name": "stdout"
        }
      ]
    },
    {
      "cell_type": "code",
      "metadata": {
        "id": "v_5BIQnL9rjL"
      },
      "source": [
        ""
      ],
      "execution_count": null,
      "outputs": []
    },
    {
      "cell_type": "markdown",
      "metadata": {
        "id": "wILVig_Qtjye"
      },
      "source": [
        "> Python List의 특징 : 다양한 Data Type이 하나의 List에 들어갈 수 있음"
      ]
    },
    {
      "cell_type": "code",
      "metadata": {
        "id": "Dir6Hg4W9rlv",
        "colab": {
          "base_uri": "https://localhost:8080/"
        },
        "outputId": "423424e4-7ed2-48d3-919b-d0994eef697c"
      },
      "source": [
        "a = [\"color\", 1, 0.2]\n",
        "print(a)\n",
        "\n",
        "a = [[\"Red\", \"Blue\", \"Green\"], 1, 0.2]\n",
        "print(a)\n",
        "\n",
        "color = [\"Red\", \"Blue\"]\n",
        "a = [color, 1, 0.2]\n",
        "print(a)"
      ],
      "execution_count": 47,
      "outputs": [
        {
          "output_type": "stream",
          "text": [
            "['color', 1, 0.2]\n",
            "[['Red', 'Blue', 'Green'], 1, 0.2]\n",
            "[['Red', 'Blue'], 1, 0.2]\n"
          ],
          "name": "stdout"
        }
      ]
    },
    {
      "cell_type": "code",
      "metadata": {
        "id": "zm9Odq2F9roY"
      },
      "source": [
        ""
      ],
      "execution_count": null,
      "outputs": []
    },
    {
      "cell_type": "markdown",
      "metadata": {
        "id": "k2Bgy-n1uJfV"
      },
      "source": [
        "> Sort (정렬)"
      ]
    },
    {
      "cell_type": "code",
      "metadata": {
        "id": "3on2XPfM9rrA",
        "colab": {
          "base_uri": "https://localhost:8080/"
        },
        "outputId": "a0f28543-e028-4a0a-8bb8-f3dc19970a54"
      },
      "source": [
        "a = [2, 4, 1, 5, 3]\n",
        "print(a)\n",
        "\n",
        "sorted(a)\n",
        "print(sorted(a))\n",
        "print(a)\n",
        "\n",
        "a.sort()\n",
        "print(a)"
      ],
      "execution_count": 50,
      "outputs": [
        {
          "output_type": "stream",
          "text": [
            "[2, 4, 1, 5, 3]\n",
            "[1, 2, 3, 4, 5]\n",
            "[2, 4, 1, 5, 3]\n",
            "[1, 2, 3, 4, 5]\n"
          ],
          "name": "stdout"
        }
      ]
    },
    {
      "cell_type": "code",
      "metadata": {
        "id": "DaFJGLum9rtg"
      },
      "source": [
        ""
      ],
      "execution_count": null,
      "outputs": []
    },
    {
      "cell_type": "markdown",
      "metadata": {
        "id": "6AP5FG0cunWi"
      },
      "source": [
        "> 메모리 주소 복사(할당)  ↔  데이터 복사의 차이 (+ Deep Copy)"
      ]
    },
    {
      "cell_type": "code",
      "metadata": {
        "id": "V0QwqXQN9rwM",
        "colab": {
          "base_uri": "https://localhost:8080/"
        },
        "outputId": "78b4094c-9417-4f98-b4a1-79b424c5259b"
      },
      "source": [
        "a = [1, 2, 3, 4, 5]\n",
        "b = [5, 4, 3, 2, 1]\n",
        "\n",
        "a = b       # 메모리 주소 복사 (할당)\n",
        "print(a)\n",
        "print(b)\n",
        "\n",
        "a.sort()\n",
        "print(a)\n",
        "print(b)"
      ],
      "execution_count": 52,
      "outputs": [
        {
          "output_type": "stream",
          "text": [
            "[5, 4, 3, 2, 1]\n",
            "[5, 4, 3, 2, 1]\n",
            "[1, 2, 3, 4, 5]\n",
            "[1, 2, 3, 4, 5]\n"
          ],
          "name": "stdout"
        }
      ]
    },
    {
      "cell_type": "code",
      "metadata": {
        "id": "FNI54gWR9rzD",
        "colab": {
          "base_uri": "https://localhost:8080/"
        },
        "outputId": "378fe1fb-748f-4157-e014-60513d41ae44"
      },
      "source": [
        "a = [1, 2, 3, 4, 5]\n",
        "b = [5, 4, 3, 2, 1]\n",
        "\n",
        "a = b[:]    # 데이터 복사\n",
        "print(a)\n",
        "print(b)\n",
        "\n",
        "a.sort()\n",
        "print(a)\n",
        "print(b)"
      ],
      "execution_count": 53,
      "outputs": [
        {
          "output_type": "stream",
          "text": [
            "[5, 4, 3, 2, 1]\n",
            "[5, 4, 3, 2, 1]\n",
            "[1, 2, 3, 4, 5]\n",
            "[5, 4, 3, 2, 1]\n"
          ],
          "name": "stdout"
        }
      ]
    },
    {
      "cell_type": "code",
      "metadata": {
        "colab": {
          "base_uri": "https://localhost:8080/"
        },
        "id": "mdygq78NwYAY",
        "outputId": "34119bcd-031e-47af-9355-f6a18af50cb1"
      },
      "source": [
        "a = [1, 2, 3, 4, 5]\n",
        "b = [5, 4, 3, 2, 1]\n",
        "c = [2, 4, 1, 5, 3]\n",
        "\n",
        "All = [a, b, c]\n",
        "print(All)\n",
        "print(All[0][3])\n",
        "\n",
        "Temp = All[:]    # 데이터 복사(?)\n",
        "print(All)\n",
        "print(Temp)\n",
        "print()\n",
        "\n",
        "All[0][3] = 5\n",
        "print(All)\n",
        "print(Temp)      # ※ 데이터 복사가 안되고 메모리 주소가 복사된 것으로 확인!"
      ],
      "execution_count": 65,
      "outputs": [
        {
          "output_type": "stream",
          "text": [
            "[[1, 2, 3, 4, 5], [5, 4, 3, 2, 1], [2, 4, 1, 5, 3]]\n",
            "4\n",
            "[[1, 2, 3, 4, 5], [5, 4, 3, 2, 1], [2, 4, 1, 5, 3]]\n",
            "[[1, 2, 3, 4, 5], [5, 4, 3, 2, 1], [2, 4, 1, 5, 3]]\n",
            "\n",
            "[[1, 2, 3, 5, 5], [5, 4, 3, 2, 1], [2, 4, 1, 5, 3]]\n",
            "[[1, 2, 3, 5, 5], [5, 4, 3, 2, 1], [2, 4, 1, 5, 3]]\n"
          ],
          "name": "stdout"
        }
      ]
    },
    {
      "cell_type": "code",
      "metadata": {
        "colab": {
          "base_uri": "https://localhost:8080/"
        },
        "id": "re8WHBdVxVSG",
        "outputId": "6e48ce89-030e-4184-8a47-5da0c1d926c0"
      },
      "source": [
        "# 해결책 : copy.deepcopy 사용\n",
        "import copy\n",
        "\n",
        "a = [1, 2, 3, 4, 5]\n",
        "b = [5, 4, 3, 2, 1]\n",
        "c = [2, 4, 1, 5, 3]\n",
        "\n",
        "All = [a, b, c]\n",
        "print(All)\n",
        "print(All[0][3])\n",
        "\n",
        "Temp = copy.deepcopy(All)    # 데이터 복사 (Deep Copy)\n",
        "print(All)\n",
        "print(Temp)\n",
        "print()\n",
        "\n",
        "All[0][3] = 5\n",
        "print(All)\n",
        "print(Temp)      # 데이터 복사 정상 확인"
      ],
      "execution_count": 66,
      "outputs": [
        {
          "output_type": "stream",
          "text": [
            "[[1, 2, 3, 4, 5], [5, 4, 3, 2, 1], [2, 4, 1, 5, 3]]\n",
            "4\n",
            "[[1, 2, 3, 4, 5], [5, 4, 3, 2, 1], [2, 4, 1, 5, 3]]\n",
            "[[1, 2, 3, 4, 5], [5, 4, 3, 2, 1], [2, 4, 1, 5, 3]]\n",
            "\n",
            "[[1, 2, 3, 5, 5], [5, 4, 3, 2, 1], [2, 4, 1, 5, 3]]\n",
            "[[1, 2, 3, 4, 5], [5, 4, 3, 2, 1], [2, 4, 1, 5, 3]]\n"
          ],
          "name": "stdout"
        }
      ]
    },
    {
      "cell_type": "code",
      "metadata": {
        "id": "d5ry0Ba_9r1b"
      },
      "source": [
        ""
      ],
      "execution_count": null,
      "outputs": []
    },
    {
      "cell_type": "markdown",
      "metadata": {
        "id": "f6V4YUsWvK1d"
      },
      "source": [
        "> Packing : 한 변수에 여러 개의 데이터를 넣는 것  \n",
        "> Unpacking : 한 변수의 데이터를 각각의 변수로 반환"
      ]
    },
    {
      "cell_type": "code",
      "metadata": {
        "id": "NkMU4Foy9r4D",
        "colab": {
          "base_uri": "https://localhost:8080/"
        },
        "outputId": "ea09449e-7f1f-4fb7-f3ea-fc60bf5067ea"
      },
      "source": [
        "t = [1, 2, 3]       # 1, 2, 3을 변수 t 에 패킹\n",
        "a, b, c = t         # t에 있는 값 1, 2, 3 을 변수 a, b, c 에 언패킹\n",
        "print(t)\n",
        "print(a)\n",
        "print(b)\n",
        "print(c)"
      ],
      "execution_count": 57,
      "outputs": [
        {
          "output_type": "stream",
          "text": [
            "[1, 2, 3]\n",
            "1\n",
            "2\n",
            "3\n"
          ],
          "name": "stdout"
        }
      ]
    },
    {
      "cell_type": "code",
      "metadata": {
        "id": "Q4ozZ2F99r6I"
      },
      "source": [
        ""
      ],
      "execution_count": null,
      "outputs": []
    },
    {
      "cell_type": "markdown",
      "metadata": {
        "id": "opFLbu-5yZTU"
      },
      "source": [
        "##2) 파이썬 기초 문법 [정리 完]\n",
        "### 　B. Function and Console I/O"
      ]
    },
    {
      "cell_type": "code",
      "metadata": {
        "colab": {
          "base_uri": "https://localhost:8080/"
        },
        "id": "cdGV9oYoyZql",
        "outputId": "ce701f1e-7072-40ee-b3b3-47f5fd327aab"
      },
      "source": [
        "print(\"Hello\", \"World\", 100)\n",
        "print(\"Hello\", \"World\"+str(100))\n",
        "\n",
        "temperature = float(input(\"온도를 입력하세요 : \"))\n",
        "print(temperature)"
      ],
      "execution_count": 7,
      "outputs": [
        {
          "output_type": "stream",
          "text": [
            "Hello World 100\n",
            "Hello World100\n",
            "온도를 입력하세요 : 100\n",
            "100.0\n"
          ],
          "name": "stdout"
        }
      ]
    },
    {
      "cell_type": "code",
      "metadata": {
        "colab": {
          "base_uri": "https://localhost:8080/"
        },
        "id": "HBlFnhgKyZs0",
        "outputId": "c714cbe2-8571-4fc9-c5af-39832567eb46"
      },
      "source": [
        "print(1, 2, 3)\n",
        "print(\"a\" + \" \" + \"b\" + \" \" + \"c\")\n",
        "print(\"%d %f\" % (4, 5))\n",
        "print(\"Data : %10.3f\" % 425.2424)\n",
        "print(\"%s %s %s\" % (\"Hi\", \"Hello\", \"Bye\"))\n",
        "\n",
        "number = 5\n",
        "day = \"three\"\n",
        "print(\"I ate %d apples. I was sick for %s days.\" % (number, day))\n",
        "print(\"I ate %(applenum)d apples. I was sick for %(appleday)s days.\" % {\"applenum\":919, \"appleday\":\"ten\"})\n",
        "print(\"{} {} {}\".format(\"d\", \"e\", \"f\"))\n",
        "\n",
        "name = \"KJY\"\n",
        "age = 32.5415493\n",
        "print(\"My name is {0} and {1} years old.\".format(name, age))\n",
        "print(\"My name is {1} and {0} years old.\".format(age, name))\n",
        "print(\"My name is {0:>10s} and {1:>10.2f} years old.\".format(name, age))\n",
        "print(\"My name is {0:<10s} and {1:<10.2f} years old.\".format(name, age))\n",
        "\n",
        "\n",
        "value = 123\n",
        "print(f\"value is {value}\")\n",
        "print(f\"value is {value:*<10}\")\n",
        "print(f\"value is {value:*>10}\")\n",
        "print(f\"value is {value:*^10}\")"
      ],
      "execution_count": 47,
      "outputs": [
        {
          "output_type": "stream",
          "text": [
            "1 2 3\n",
            "a b c\n",
            "4 5.000000\n",
            "Data :    425.242\n",
            "Hi Hello Bye\n",
            "I ate 5 apples. I was sick for three days.\n",
            "I ate 919 apples. I was sick for ten days.\n",
            "d e f\n",
            "My name is KJY and 32.5415493 years old.\n",
            "My name is KJY and 32.5415493 years old.\n",
            "My name is        KJY and      32.54 years old.\n",
            "My name is KJY        and 32.54      years old.\n",
            "value is 123\n",
            "value is 123*******\n",
            "value is *******123\n",
            "value is ***123****\n"
          ],
          "name": "stdout"
        }
      ]
    },
    {
      "cell_type": "code",
      "metadata": {
        "id": "m9q-2H0dyZvc"
      },
      "source": [
        ""
      ],
      "execution_count": 22,
      "outputs": []
    },
    {
      "cell_type": "markdown",
      "metadata": {
        "id": "xQZPLr0gU6Bk"
      },
      "source": [
        "##2) 파이썬 기초 문법 [정리 完]\n",
        "### 　C. Conditionals and Loops"
      ]
    },
    {
      "cell_type": "code",
      "metadata": {
        "colab": {
          "base_uri": "https://localhost:8080/"
        },
        "id": "YoviDxWRyZyC",
        "outputId": "89d88244-a78a-4304-c60e-37188aedd0a8"
      },
      "source": [
        "a = [1, 2, 3, 4, 5]\n",
        "b = [1, 2, 3, 4, 5]\n",
        "print(a == b)\n",
        "print(a is b)   # is 는 메모리 주소를 비교하는 연산자이다!\n",
        "print()\n",
        "\n",
        "a = b\n",
        "print(a == b)\n",
        "print(a is b)\n",
        "print()\n",
        "\n",
        "a = -5\n",
        "b = -5\n",
        "print(a == b)\n",
        "print(a is b)\n",
        "print()\n",
        "\n",
        "a = -6\n",
        "b = -6\n",
        "print(a == b)\n",
        "print(a is b)\n",
        "print()\n",
        "\n",
        "a = 256\n",
        "b = 256\n",
        "print(a == b)\n",
        "print(a is b)\n",
        "print()\n",
        "\n",
        "a = 257\n",
        "b = 257\n",
        "print(a == b)\n",
        "print(a is b)\n",
        "print()\n",
        "\n",
        "# 숫자 -5 ~ 256 까지는 메모리 주소로 참조하기 때문에 is 로 true 가 반환되고, 그 외 숫자는 새로 할당이 되기 때문에 false 가 반환됨.\n",
        "\n",
        "# 옛날 속도가 그린 문제점을 개선하기 위하여 자주 쓰는 숫자(-5~256)는 메모리 주소로 참조했다고 함"
      ],
      "execution_count": 55,
      "outputs": [
        {
          "output_type": "stream",
          "text": [
            "True\n",
            "False\n",
            "\n",
            "True\n",
            "True\n",
            "\n",
            "True\n",
            "True\n",
            "\n",
            "True\n",
            "False\n",
            "\n",
            "True\n",
            "True\n",
            "\n",
            "True\n",
            "False\n",
            "\n"
          ],
          "name": "stdout"
        }
      ]
    },
    {
      "cell_type": "code",
      "metadata": {
        "colab": {
          "base_uri": "https://localhost:8080/"
        },
        "id": "DmqKkBLjyZ03",
        "outputId": "7e53eec7-7edd-4227-b429-0d56b27dde89"
      },
      "source": [
        "a = True\n",
        "b = False\n",
        "print(a and b)\n",
        "print(a or b)\n",
        "print()\n",
        "\n",
        "boolean_list = [True, False, False, True, False]\n",
        "print(all(boolean_list))\n",
        "print(any(boolean_list))"
      ],
      "execution_count": 58,
      "outputs": [
        {
          "output_type": "stream",
          "text": [
            "False\n",
            "True\n",
            "\n",
            "False\n",
            "True\n"
          ],
          "name": "stdout"
        }
      ]
    },
    {
      "cell_type": "code",
      "metadata": {
        "colab": {
          "base_uri": "https://localhost:8080/"
        },
        "id": "BIpVqHA3yZ2v",
        "outputId": "d83ea004-9a0d-4c8d-f715-e53c7a847506"
      },
      "source": [
        "#삼항 연산자(Ternary Operators)\n",
        "values = 10\n",
        "is_even = True if values % 2 == 0 else False\n",
        "print(is_even)\n",
        "\n",
        "values = 11\n",
        "is_even = True if values % 2 == 0 else False\n",
        "print(is_even)"
      ],
      "execution_count": 60,
      "outputs": [
        {
          "output_type": "stream",
          "text": [
            "True\n",
            "False\n"
          ],
          "name": "stdout"
        }
      ]
    },
    {
      "cell_type": "code",
      "metadata": {
        "colab": {
          "base_uri": "https://localhost:8080/"
        },
        "id": "KijOu_ZjyZ5R",
        "outputId": "97809b8c-ce11-4052-e569-6f4abaef6ca4"
      },
      "source": [
        "for looper in [0, 1, 2]:\n",
        "  print(looper)\n",
        "print()\n",
        "\n",
        "for looper in range(0,3):\n",
        "  print(looper)\n",
        "print()\n",
        "\n",
        "for looper in range(3):\n",
        "  print(looper)\n",
        "print()\n",
        "\n",
        "print(range(3))\n",
        "print(list(range(3)))"
      ],
      "execution_count": 66,
      "outputs": [
        {
          "output_type": "stream",
          "text": [
            "0\n",
            "1\n",
            "2\n",
            "\n",
            "0\n",
            "1\n",
            "2\n",
            "\n",
            "0\n",
            "1\n",
            "2\n",
            "\n",
            "range(0, 3)\n",
            "[0, 1, 2]\n"
          ],
          "name": "stdout"
        }
      ]
    },
    {
      "cell_type": "code",
      "metadata": {
        "colab": {
          "base_uri": "https://localhost:8080/"
        },
        "id": "9duYKcw9yZ7r",
        "outputId": "17d5ca77-b0f6-4236-ffeb-fcf8a30b6d77"
      },
      "source": [
        "for looper in range(0, 5, 2):\n",
        "  print(looper)\n",
        "print()\n",
        "\n",
        "for looper in range(5, 0, -1):\n",
        "  print(looper)\n",
        "print()"
      ],
      "execution_count": 69,
      "outputs": [
        {
          "output_type": "stream",
          "text": [
            "0\n",
            "2\n",
            "4\n",
            "\n",
            "5\n",
            "4\n",
            "3\n",
            "2\n",
            "1\n",
            "\n"
          ],
          "name": "stdout"
        }
      ]
    },
    {
      "cell_type": "code",
      "metadata": {
        "colab": {
          "base_uri": "https://localhost:8080/"
        },
        "id": "yE2Q7ASFyZ-H",
        "outputId": "1ecd5a16-0da9-4b80-bca3-0f26d2baa40e"
      },
      "source": [
        "if __name__ == \"__main__\":\n",
        "  print(\"Hi\")"
      ],
      "execution_count": 70,
      "outputs": [
        {
          "output_type": "stream",
          "text": [
            "Hi\n"
          ],
          "name": "stdout"
        }
      ]
    },
    {
      "cell_type": "code",
      "metadata": {
        "id": "teYrtbkPfOyS"
      },
      "source": [
        ""
      ],
      "execution_count": null,
      "outputs": []
    },
    {
      "cell_type": "markdown",
      "metadata": {
        "id": "5hgfBr9thE2E"
      },
      "source": [
        "##2) 파이썬 기초 문법 [정리 完]\n",
        "### 　D. String and advanced function concept"
      ]
    },
    {
      "cell_type": "code",
      "metadata": {
        "colab": {
          "base_uri": "https://localhost:8080/"
        },
        "id": "XeMNu4gLhFCx",
        "outputId": "66ed964b-2d37-49fd-e046-6c4372592a24"
      },
      "source": [
        "import sys\n",
        "\n",
        "print(sys.getsizeof(\"a\"), sys.getsizeof(\"ko\"), sys.getsizeof(\"c\"), sys.getsizeof(\"hello\"))"
      ],
      "execution_count": 74,
      "outputs": [
        {
          "output_type": "stream",
          "text": [
            "50 51 50 54\n"
          ],
          "name": "stdout"
        }
      ]
    },
    {
      "cell_type": "code",
      "metadata": {
        "colab": {
          "base_uri": "https://localhost:8080/"
        },
        "id": "WT9nKIAnhFFZ",
        "outputId": "ca15cbc5-cde9-43e2-a433-585deb18f9be"
      },
      "source": [
        "a = \"hElLo HELLO hello\"\n",
        "print(len(a))\n",
        "print(\"upper = \", a.upper())\n",
        "print(\"lower = \", a.lower())\n",
        "print(\"capitalize =\", a.capitalize())\n",
        "print(\"title =\", a.title())\n",
        "print(\"count('E') =\", a.count('E'))\n",
        "print(\"find('L') =\", a.find('L'))\n",
        "print(\"rfind('L') =\", a.rfind('L'))\n",
        "print(\"startswith('he') =\", a.startswith('he'))\n",
        "print(\"endswith('lo') =\", a.endswith('lo'))\n",
        "print()\n",
        "\n",
        "b = \" hElLo HELLO hello   \"\n",
        "print(\"b = \", b, \"*\")\n",
        "print(\"strip = \", b.strip(), \"*\")\n",
        "print(\"rstrip = \", b.rstrip(), \"*\")\n",
        "print(\"lstrip = \", b.lstrip(), \"*\")\n",
        "print(\"split = \", b.split())\n",
        "print(\"split('ELL') = \", b.split(\"ELL\"))"
      ],
      "execution_count": 7,
      "outputs": [
        {
          "output_type": "stream",
          "text": [
            "17\n",
            "upper =  HELLO HELLO HELLO\n",
            "lower =  hello hello hello\n",
            "capitalize = Hello hello hello\n",
            "title = Hello Hello Hello\n",
            "count('E') = 2\n",
            "find('L') = 3\n",
            "rfind('L') = 9\n",
            "startswith('he') = False\n",
            "endswith('lo') = True\n",
            "\n",
            "b =   hElLo HELLO hello    *\n",
            "strip =  hElLo HELLO hello *\n",
            "rstrip =   hElLo HELLO hello *\n",
            "lstrip =  hElLo HELLO hello    *\n",
            "split =  ['hElLo', 'HELLO', 'hello']\n",
            "split('ELL') =  [' hElLo H', 'O hello   ']\n"
          ],
          "name": "stdout"
        }
      ]
    },
    {
      "cell_type": "code",
      "metadata": {
        "colab": {
          "base_uri": "https://localhost:8080/"
        },
        "id": "zP4InHIkhFI7",
        "outputId": "407053e4-e074-4933-84bf-486e88d9d68b"
      },
      "source": [
        "a = \"10\"\n",
        "b = \"1A0\"\n",
        "print(\"a.isdigit() = \", a.isdigit())\n",
        "print(\"b.isdigit() = \", b.isdigit())\n",
        "print()\n",
        "\n",
        "a = \"ABC\"\n",
        "b = \"aBc\"     # 대소문자가 섞여있으면 islower 와 isupper 모두 false 로 출력\n",
        "c = \"abc\"\n",
        "\n",
        "print(\"a.islower() = \", a.islower())\n",
        "print(\"b.islower() = \", b.islower())\n",
        "print(\"c.islower() = \", c.islower())\n",
        "print()\n",
        "print(\"a.isupper() = \", a.isupper())\n",
        "print(\"b.isupper() = \", b.isupper())\n",
        "print(\"c.isupper() = \", c.isupper())\n",
        "print()"
      ],
      "execution_count": 16,
      "outputs": [
        {
          "output_type": "stream",
          "text": [
            "a.isdigit() =  True\n",
            "b.isdigit() =  False\n",
            "\n",
            "a.islower() =  False\n",
            "b.islower() =  False\n",
            "c.islower() =  True\n",
            "\n",
            "a.isupper() =  True\n",
            "b.isupper() =  False\n",
            "c.isupper() =  False\n",
            "\n"
          ],
          "name": "stdout"
        }
      ]
    },
    {
      "cell_type": "code",
      "metadata": {
        "colab": {
          "base_uri": "https://localhost:8080/"
        },
        "id": "7pdVg9MbhFK5",
        "outputId": "903daf3b-5166-4385-c292-450ac4af8bb0"
      },
      "source": [
        "print('It\\'s ok.')\n",
        "print(\"It's ok.\")\n",
        "print(\"\")\n",
        "\n",
        "print(\"\"\"hello\n",
        "world\n",
        "!!!\"\"\")\n",
        "print(\"\")\n",
        "\n",
        "print(\"hello\\nworld\\n!!!\")\n",
        "print(\"\")\n",
        "\n",
        "print(r\"hello\\nworld\\n!!!\")\n",
        "print(\"\")"
      ],
      "execution_count": 23,
      "outputs": [
        {
          "output_type": "stream",
          "text": [
            "It's ok.\n",
            "It's ok.\n",
            "\n",
            "hello\n",
            "world\n",
            "!!!\n",
            "\n",
            "hello\n",
            "world\n",
            "!!!\n",
            "\n",
            "hello\\nworld\\n!!!\n",
            "\n"
          ],
          "name": "stdout"
        }
      ]
    },
    {
      "cell_type": "code",
      "metadata": {
        "id": "mWVx1Li8uByu"
      },
      "source": [
        ""
      ],
      "execution_count": null,
      "outputs": []
    },
    {
      "cell_type": "markdown",
      "metadata": {
        "id": "LijdQ33Gt3me"
      },
      "source": [
        "> 문자 개수 구하기"
      ]
    },
    {
      "cell_type": "code",
      "metadata": {
        "colab": {
          "base_uri": "https://localhost:8080/"
        },
        "id": "BUt18nu6hFQo",
        "outputId": "01966667-34b5-411e-e9e9-1a9cc94ead5c"
      },
      "source": [
        "!wget https://raw.githubusercontent.com/TeamLab/introduction_to_python_TEAMLAB_MOOC/master/code/6/yesterday.txt"
      ],
      "execution_count": 36,
      "outputs": [
        {
          "output_type": "stream",
          "text": [
            "--2021-07-13 12:00:10--  https://raw.githubusercontent.com/TeamLab/introduction_to_python_TEAMLAB_MOOC/master/code/6/yesterday.txt\n",
            "Resolving raw.githubusercontent.com (raw.githubusercontent.com)... 185.199.108.133, 185.199.109.133, 185.199.110.133, ...\n",
            "Connecting to raw.githubusercontent.com (raw.githubusercontent.com)|185.199.108.133|:443... connected.\n",
            "HTTP request sent, awaiting response... 200 OK\n",
            "Length: 638 [text/plain]\n",
            "Saving to: ‘yesterday.txt.1’\n",
            "\n",
            "\ryesterday.txt.1       0%[                    ]       0  --.-KB/s               \ryesterday.txt.1     100%[===================>]     638  --.-KB/s    in 0s      \n",
            "\n",
            "2021-07-13 12:00:10 (9.60 MB/s) - ‘yesterday.txt.1’ saved [638/638]\n",
            "\n"
          ],
          "name": "stdout"
        }
      ]
    },
    {
      "cell_type": "code",
      "metadata": {
        "colab": {
          "base_uri": "https://localhost:8080/"
        },
        "id": "Ddn_CXvqhFSr",
        "outputId": "871adb7a-6b58-46f5-c3e7-c3c8eba737c5"
      },
      "source": [
        "f = open(\"yesterday.txt\", 'r')\n",
        "\n",
        "print(f.readlines())"
      ],
      "execution_count": 39,
      "outputs": [
        {
          "output_type": "stream",
          "text": [
            "['Yesterday, all my troubles seemed so far away\\n', \"Now it looks as though they're here to stay\\n\", 'oh, I believe in yesterday\\n', '\\n', \"Suddenly, I'm not half the man I used to be\\n\", \"There's a shadow hanging over me\\n\", 'Oh, yesterday came suddenly.\\n', '\\n', 'Why she had to go?\\n', \"I don't know, she wouldn't say\\n\", 'I said something wrong\\n', 'Now I long for yesterday.\\n', '\\n', 'Yesterday love was such an easy game to play\\n', 'Now I need a place to hide away\\n', 'Oh, I believe in yesterday.\\n', '\\n', 'Why she had to go?\\n', \"I don't know, she wouldn't say\\n\", 'I said something wrong\\n', 'Now I long for yesterday.\\n', '\\n', 'Yesterday love was such an easy game to play\\n', 'Now I need a place to hide away\\n', 'Oh, I believe in yesterday...\\n']\n"
          ],
          "name": "stdout"
        }
      ]
    },
    {
      "cell_type": "code",
      "metadata": {
        "colab": {
          "base_uri": "https://localhost:8080/"
        },
        "id": "S-K88cXzhFVG",
        "outputId": "cb49398c-9b65-48d7-d98b-1105f63f4be2"
      },
      "source": [
        "f = open(\"yesterday.txt\", 'r')\n",
        "yesterday_lyric = \"\"\n",
        "\n",
        "while True:\n",
        "  line = f.readline()\n",
        "  print(line, end='')\n",
        "  if not line:\n",
        "    break\n",
        "  yesterday_lyric = yesterday_lyric + line.strip() + \"\\n\"\n",
        "f.close()"
      ],
      "execution_count": 43,
      "outputs": [
        {
          "output_type": "stream",
          "text": [
            "Yesterday, all my troubles seemed so far away\n",
            "Now it looks as though they're here to stay\n",
            "oh, I believe in yesterday\n",
            "\n",
            "Suddenly, I'm not half the man I used to be\n",
            "There's a shadow hanging over me\n",
            "Oh, yesterday came suddenly.\n",
            "\n",
            "Why she had to go?\n",
            "I don't know, she wouldn't say\n",
            "I said something wrong\n",
            "Now I long for yesterday.\n",
            "\n",
            "Yesterday love was such an easy game to play\n",
            "Now I need a place to hide away\n",
            "Oh, I believe in yesterday.\n",
            "\n",
            "Why she had to go?\n",
            "I don't know, she wouldn't say\n",
            "I said something wrong\n",
            "Now I long for yesterday.\n",
            "\n",
            "Yesterday love was such an easy game to play\n",
            "Now I need a place to hide away\n",
            "Oh, I believe in yesterday...\n"
          ],
          "name": "stdout"
        }
      ]
    },
    {
      "cell_type": "code",
      "metadata": {
        "colab": {
          "base_uri": "https://localhost:8080/"
        },
        "id": "X9_yuv7-vOaA",
        "outputId": "079a3fe7-d851-46c3-b0ef-79e5c0bd2080"
      },
      "source": [
        "print(yesterday_lyric)"
      ],
      "execution_count": 44,
      "outputs": [
        {
          "output_type": "stream",
          "text": [
            "Yesterday, all my troubles seemed so far away\n",
            "Now it looks as though they're here to stay\n",
            "oh, I believe in yesterday\n",
            "\n",
            "Suddenly, I'm not half the man I used to be\n",
            "There's a shadow hanging over me\n",
            "Oh, yesterday came suddenly.\n",
            "\n",
            "Why she had to go?\n",
            "I don't know, she wouldn't say\n",
            "I said something wrong\n",
            "Now I long for yesterday.\n",
            "\n",
            "Yesterday love was such an easy game to play\n",
            "Now I need a place to hide away\n",
            "Oh, I believe in yesterday.\n",
            "\n",
            "Why she had to go?\n",
            "I don't know, she wouldn't say\n",
            "I said something wrong\n",
            "Now I long for yesterday.\n",
            "\n",
            "Yesterday love was such an easy game to play\n",
            "Now I need a place to hide away\n",
            "Oh, I believe in yesterday...\n",
            "\n"
          ],
          "name": "stdout"
        }
      ]
    },
    {
      "cell_type": "code",
      "metadata": {
        "colab": {
          "base_uri": "https://localhost:8080/"
        },
        "id": "jOU76Ce4uyzE",
        "outputId": "a637c3b7-6a2a-478e-adea-d310f2db647d"
      },
      "source": [
        "n_of_yesterday = yesterday_lyric.upper().count(\"YESTERDAY\") # 대소문자 구분 제거\n",
        "print (\"Number of a Word 'Yesterday'\" , n_of_yesterday)"
      ],
      "execution_count": 42,
      "outputs": [
        {
          "output_type": "stream",
          "text": [
            "Number of a Word 'Yesterday' 9\n"
          ],
          "name": "stdout"
        }
      ]
    },
    {
      "cell_type": "code",
      "metadata": {
        "id": "QqWBjVr_vn_h"
      },
      "source": [
        ""
      ],
      "execution_count": null,
      "outputs": []
    },
    {
      "cell_type": "markdown",
      "metadata": {
        "id": "_EUQH1DTwDeL"
      },
      "source": [
        "> ■ 함수 호출 방식  \n",
        "　-. Call by Value (값에 의한 호출) : swap_value()  \n",
        "　-. Call by Reference (참조에 의한 호출) : swap_offset()  \n",
        "　-. Call by Object Reference (객체 참조에 의한 호출) : swap_reference(), New_swap_reference()  "
      ]
    },
    {
      "cell_type": "code",
      "metadata": {
        "colab": {
          "base_uri": "https://localhost:8080/"
        },
        "id": "w88PGLY9wDsI",
        "outputId": "dbaa2fc3-0d51-4e51-b04f-d8bab9095944"
      },
      "source": [
        "def swap_value(x, y):\n",
        "  temp = x\n",
        "  x = y\n",
        "  y = temp\n",
        "  \n",
        "def swap_offset(offset_x, offset_y):\n",
        "  temp = ex[offset_x]\n",
        "  ex[offset_x] = ex[offset_y]\n",
        "  ex[offset_y] = temp\n",
        "\n",
        "def swap_reference(list, offset_x, offset_y):\n",
        "  temp = list[offset_x]\n",
        "  list[offset_x] = list[offset_y]\n",
        "  list[offset_y] = temp\n",
        "\n",
        "\n",
        "def New_swap_reference(list, offset_x, offset_y):\n",
        "  list[offset_y], list[offset_x] = list[offset_x], list[offset_y]\n",
        "\n",
        "ex = [1, 2, 3, 4, 5]\n",
        "print(\"ex = \", ex)\n",
        "\n",
        "swap_value(ex[0], ex[1])\n",
        "print(\"swap_value = \", ex)\n",
        "\n",
        "ex = [1, 2, 3, 4, 5]\n",
        "swap_offset(0, 1)\n",
        "print(\"swap_offset = \", ex)\n",
        "\n",
        "ex = [1, 2, 3, 4, 5]\n",
        "swap_reference(ex, 0, 1)\n",
        "print(\"swap_reference = \", ex)\n",
        "\n",
        "ex = [1, 2, 3, 4, 5]\n",
        "New_swap_reference(ex, 0, 1)\n",
        "print(\"New_swap_reference = \", ex)"
      ],
      "execution_count": 49,
      "outputs": [
        {
          "output_type": "stream",
          "text": [
            "ex =  [1, 2, 3, 4, 5]\n",
            "swap_value =  [1, 2, 3, 4, 5]\n",
            "swap_offset =  [2, 1, 3, 4, 5]\n",
            "swap_reference =  [2, 1, 3, 4, 5]\n",
            "New_swap_reference =  [2, 1, 3, 4, 5]\n"
          ],
          "name": "stdout"
        }
      ]
    },
    {
      "cell_type": "code",
      "metadata": {
        "id": "2ZfQs9MHwDu4"
      },
      "source": [
        "''' # Function Type Hints\n",
        "def do_function(var_name: var_type) -> return_type:\n",
        "  pass\n",
        "'''\n",
        "\n",
        "def type_hint_example(name: str) -> str:\n",
        "  return f\"Hello, {name}"
      ],
      "execution_count": null,
      "outputs": []
    },
    {
      "cell_type": "code",
      "metadata": {
        "id": "3BpF1I_UwDxl"
      },
      "source": [
        ""
      ],
      "execution_count": null,
      "outputs": []
    },
    {
      "cell_type": "markdown",
      "metadata": {
        "id": "urDGGqtrV1zr"
      },
      "source": [
        ">■ 코딩 컨벤션 : 사람의 이해를 돕기 위한 코딩 규칙  \n",
        "　-. 때로는 팀마다, 프로젝트마다 따로  \n",
        "　-. 중요한 건 일관성!  \n",
        "　-. 읽기 좋은 코드가 좋은 코드  \n",
        "\n",
        ">■ 최근 코딩 컨벤션은 \"PEP8\" 기준 사용  \n",
        "　-. flake8 : \"PEP8\" 기준 - 잘못된 부분 출력  \n",
        "　-. black : \"PEP8\" 기준으로 코드 자동 수정  "
      ]
    },
    {
      "cell_type": "code",
      "metadata": {
        "id": "SAIOi6HHwD0C"
      },
      "source": [
        ""
      ],
      "execution_count": null,
      "outputs": []
    },
    {
      "cell_type": "markdown",
      "metadata": {
        "id": "3RGopT7fXTXJ"
      },
      "source": [
        "##3) 파이썬 기초 문법 Ⅱ [수정 中]\n",
        "### 　A. Data Structure"
      ]
    },
    {
      "cell_type": "code",
      "metadata": {
        "id": "-9YPvltzwD5h"
      },
      "source": [
        ""
      ],
      "execution_count": null,
      "outputs": []
    },
    {
      "cell_type": "code",
      "metadata": {
        "id": "284IuZU6XfLj"
      },
      "source": [
        ""
      ],
      "execution_count": null,
      "outputs": []
    },
    {
      "cell_type": "code",
      "metadata": {
        "id": "IHOYsIsyXfN_"
      },
      "source": [
        ""
      ],
      "execution_count": null,
      "outputs": []
    },
    {
      "cell_type": "code",
      "metadata": {
        "id": "yUYlxripXfQa"
      },
      "source": [
        ""
      ],
      "execution_count": null,
      "outputs": []
    },
    {
      "cell_type": "markdown",
      "metadata": {
        "id": "VEmxt2RYXfeg"
      },
      "source": [
        "##3) 파이썬 기초 문법 Ⅱ [수정 中]\n",
        "### 　B. Pythonic Code"
      ]
    },
    {
      "cell_type": "code",
      "metadata": {
        "id": "U4gfos6mXfyG"
      },
      "source": [
        ""
      ],
      "execution_count": null,
      "outputs": []
    },
    {
      "cell_type": "code",
      "metadata": {
        "id": "JVh9mUaUXf4j"
      },
      "source": [
        ""
      ],
      "execution_count": null,
      "outputs": []
    },
    {
      "cell_type": "code",
      "metadata": {
        "id": "QYP18JIYXf6t"
      },
      "source": [
        ""
      ],
      "execution_count": null,
      "outputs": []
    },
    {
      "cell_type": "code",
      "metadata": {
        "id": "rSFmAl2aXf9F"
      },
      "source": [
        ""
      ],
      "execution_count": null,
      "outputs": []
    }
  ]
}