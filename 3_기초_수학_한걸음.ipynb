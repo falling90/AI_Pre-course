{
  "nbformat": 4,
  "nbformat_minor": 0,
  "metadata": {
    "colab": {
      "name": "3.기초 수학 한걸음.ipynb",
      "provenance": [],
      "collapsed_sections": [
        "0Ig3Kr9heqmE",
        "pqM738miS0No",
        "wRRBAPNAS37l",
        "c8Ntq_iLRCCD",
        "nJHgLxymRIhp"
      ],
      "authorship_tag": "ABX9TyMGWN+cGq40BKz3oPhQnJGQ",
      "include_colab_link": true
    },
    "kernelspec": {
      "name": "python3",
      "display_name": "Python 3"
    },
    "language_info": {
      "name": "python"
    }
  },
  "cells": [
    {
      "cell_type": "markdown",
      "metadata": {
        "id": "view-in-github",
        "colab_type": "text"
      },
      "source": [
        "<a href=\"https://colab.research.google.com/github/falling90/AI_Pre-course/blob/main/3_%EA%B8%B0%EC%B4%88_%EC%88%98%ED%95%99_%ED%95%9C%EA%B1%B8%EC%9D%8C.ipynb\" target=\"_parent\"><img src=\"https://colab.research.google.com/assets/colab-badge.svg\" alt=\"Open In Colab\"/></a>"
      ]
    },
    {
      "cell_type": "markdown",
      "metadata": {
        "id": "0Ig3Kr9heqmE"
      },
      "source": [
        "##1) Numpy / 벡터 & 행렬\n",
        "### 　A. Numerical Python - Numpy"
      ]
    },
    {
      "cell_type": "code",
      "metadata": {
        "colab": {
          "base_uri": "https://localhost:8080/"
        },
        "id": "X52FEKe8eqwM",
        "outputId": "b2cc7891-5659-4bf3-a38b-113c85914824"
      },
      "source": [
        "import numpy as np\n",
        "\n",
        "test_array = np.array([\"1\", \"4\", 5, 8], float)\n",
        "print(test_array)\n",
        "print(type(test_array[3]))"
      ],
      "execution_count": null,
      "outputs": [
        {
          "output_type": "stream",
          "text": [
            "[1. 4. 5. 8.]\n",
            "<class 'numpy.float64'>\n"
          ],
          "name": "stdout"
        }
      ]
    },
    {
      "cell_type": "code",
      "metadata": {
        "colab": {
          "base_uri": "https://localhost:8080/"
        },
        "id": "8G8O_9Kjeqyn",
        "outputId": "e20be802-0f27-4537-b3d6-6bd3d76407d2"
      },
      "source": [
        "test_array = np.array([1, 4, 5, \"8\"], np.float32) #\tString\tType의 데이터를 입력해도\n",
        "print(test_array)\n",
        "print(type(test_array[3]))\t \t \t #\tFloat\tType으로 자동 형변환을 실시\n",
        "print(test_array.dtype) #\tArray(배열)\t전체의 데이터 Type을 반환함\n",
        "print(test_array.shape) #\tArray(배열)\t의 shape을 반환함"
      ],
      "execution_count": null,
      "outputs": [
        {
          "output_type": "stream",
          "text": [
            "[1. 4. 5. 8.]\n",
            "<class 'numpy.float32'>\n",
            "float32\n",
            "(4,)\n"
          ],
          "name": "stdout"
        }
      ]
    },
    {
      "cell_type": "code",
      "metadata": {
        "colab": {
          "base_uri": "https://localhost:8080/"
        },
        "id": "R-2fA9xxeq05",
        "outputId": "01d241bf-8e13-4022-a0c0-4020710936b9"
      },
      "source": [
        "tensor = [[[1, 2, 3, 4], [1, 2, 3, 4], [1, 2, 3, 4]],\n",
        "          [[1, 2, 3, 4], [1, 2, 3, 4], [1, 2, 3, 4]]]\n",
        "\n",
        "print(np.array(tensor, int).shape)\n",
        "print(np.array(tensor, int).ndim)\n",
        "print(np.array(tensor, int).size)"
      ],
      "execution_count": null,
      "outputs": [
        {
          "output_type": "stream",
          "text": [
            "(2, 3, 4)\n",
            "3\n",
            "24\n"
          ],
          "name": "stdout"
        }
      ]
    },
    {
      "cell_type": "code",
      "metadata": {
        "id": "rWHeJS-Jeq3N"
      },
      "source": [
        ""
      ],
      "execution_count": null,
      "outputs": []
    },
    {
      "cell_type": "markdown",
      "metadata": {
        "id": "Cic6pocPCPgQ"
      },
      "source": [
        "> Reshape : Array의 shape의 크기를 변경함 (element의 갯수는 동일)  \n",
        "> flatten : 다차원 Array를 1차원 Array 로 변환"
      ]
    },
    {
      "cell_type": "code",
      "metadata": {
        "colab": {
          "base_uri": "https://localhost:8080/"
        },
        "id": "HWD24Jyceq5t",
        "outputId": "9279cb05-4f6f-4d8d-c3f3-902fce111251"
      },
      "source": [
        "tensor = [[1, 2, 3, 4], [1, 2, 3, 4]]\n",
        "\n",
        "print(np.array(tensor, int))\n",
        "print(\"-----------------------\")\n",
        "print(np.array(tensor).reshape(2, 2, 2))\n",
        "print(\"-----------------------\")\n",
        "print(np.array(tensor).reshape(8))\n",
        "print(\"-----------------------\")\n",
        "print(np.array(tensor).reshape(-1, 2))\n",
        "print(\"-----------------------\")\n",
        "print(np.array(tensor).reshape(4, -1, 2))\n",
        "\n",
        "\n",
        "print(\"-----------------------\")\n",
        "print(np.array(tensor).flatten())"
      ],
      "execution_count": null,
      "outputs": [
        {
          "output_type": "stream",
          "text": [
            "[[1 2 3 4]\n",
            " [1 2 3 4]]\n",
            "-----------------------\n",
            "[[[1 2]\n",
            "  [3 4]]\n",
            "\n",
            " [[1 2]\n",
            "  [3 4]]]\n",
            "-----------------------\n",
            "[1 2 3 4 1 2 3 4]\n",
            "-----------------------\n",
            "[[1 2]\n",
            " [3 4]\n",
            " [1 2]\n",
            " [3 4]]\n",
            "-----------------------\n",
            "[[[1 2]]\n",
            "\n",
            " [[3 4]]\n",
            "\n",
            " [[1 2]]\n",
            "\n",
            " [[3 4]]]\n",
            "-----------------------\n",
            "[1 2 3 4 1 2 3 4]\n"
          ],
          "name": "stdout"
        }
      ]
    },
    {
      "cell_type": "code",
      "metadata": {
        "id": "OUIIDh19CwRp"
      },
      "source": [
        ""
      ],
      "execution_count": null,
      "outputs": []
    },
    {
      "cell_type": "markdown",
      "metadata": {
        "id": "U09IpLXfETyS"
      },
      "source": [
        "> Slicing : Array의 원하는 Data만 추출할 때 사용"
      ]
    },
    {
      "cell_type": "code",
      "metadata": {
        "colab": {
          "base_uri": "https://localhost:8080/"
        },
        "id": "z4sbMn7yEUEW",
        "outputId": "37f55a82-a054-4eff-d868-fedd6c29187e"
      },
      "source": [
        "a = np.array([[1, 2, 3, 4, 5], [6, 7, 8, 9, 10]], int)\n",
        "print(a[:,2:])    # 전체 Row의 2열 이상\n",
        "print(\"-----------------------\")\n",
        "print(a[1,1:3])   # 1 Row의 1열 ~ 2열\n",
        "print(\"-----------------------\")\n",
        "print(a[1:3])     # 1 Row ~ 2Row의 전체"
      ],
      "execution_count": null,
      "outputs": [
        {
          "output_type": "stream",
          "text": [
            "[[ 3  4  5]\n",
            " [ 8  9 10]]\n",
            "-----------------------\n",
            "[7 8]\n",
            "-----------------------\n",
            "[[ 6  7  8  9 10]]\n"
          ],
          "name": "stdout"
        }
      ]
    },
    {
      "cell_type": "code",
      "metadata": {
        "id": "eJX0-_QDEUHI"
      },
      "source": [
        ""
      ],
      "execution_count": null,
      "outputs": []
    },
    {
      "cell_type": "markdown",
      "metadata": {
        "id": "wGy0WuFeFTgG"
      },
      "source": [
        "> Arange : Array의 범위를 지정하여, 값의 List를 생성하는 명령어  \n",
        "> zeros : Array를 생성하는데 0으로 초기화  \n",
        "> ones : Array를 생성하는데 0으로 초기화  \n",
        "> empty : Array를 생성하는데 메모리만 잡아줌 (이상한 값(Garbage)이 나올 수 있음.)"
      ]
    },
    {
      "cell_type": "code",
      "metadata": {
        "colab": {
          "base_uri": "https://localhost:8080/"
        },
        "id": "8bEo4X5fEUJl",
        "outputId": "8f28fa48-0546-42de-f4fd-b3555239f8b2"
      },
      "source": [
        "print(np.arange(30))\n",
        "print(\"-----------------------\")\n",
        "print(np.arange(30).reshape(-1, 5))\n",
        "print(\"-----------------------\")\n",
        "print(np.arange(3, 5, 0.5))\n",
        "print(\"-----------------------\")\n",
        "print(np.arange(30))\n",
        "print(\"-----------------------\")\n",
        "print(np.zeros(shape=(10,), dtype=np.int8))\n",
        "print(\"-----------------------\")\n",
        "print(np.zeros((2, 5)))\n",
        "print(\"-----------------------\")\n",
        "print(np.ones(shape=(10,), dtype=np.int8))\n",
        "print(\"-----------------------\")\n",
        "print(np.ones((2, 5)))\n",
        "print(\"-----------------------\")\n",
        "print(np.empty(shape=(10,), dtype=np.int8))\n",
        "print(\"-----------------------\")\n",
        "print(np.empty((3, 5)))"
      ],
      "execution_count": null,
      "outputs": [
        {
          "output_type": "stream",
          "text": [
            "[ 0  1  2  3  4  5  6  7  8  9 10 11 12 13 14 15 16 17 18 19 20 21 22 23\n",
            " 24 25 26 27 28 29]\n",
            "-----------------------\n",
            "[[ 0  1  2  3  4]\n",
            " [ 5  6  7  8  9]\n",
            " [10 11 12 13 14]\n",
            " [15 16 17 18 19]\n",
            " [20 21 22 23 24]\n",
            " [25 26 27 28 29]]\n",
            "-----------------------\n",
            "[3.  3.5 4.  4.5]\n",
            "-----------------------\n",
            "[ 0  1  2  3  4  5  6  7  8  9 10 11 12 13 14 15 16 17 18 19 20 21 22 23\n",
            " 24 25 26 27 28 29]\n",
            "-----------------------\n",
            "[0 0 0 0 0 0 0 0 0 0]\n",
            "-----------------------\n",
            "[[0. 0. 0. 0. 0.]\n",
            " [0. 0. 0. 0. 0.]]\n",
            "-----------------------\n",
            "[1 1 1 1 1 1 1 1 1 1]\n",
            "-----------------------\n",
            "[[1. 1. 1. 1. 1.]\n",
            " [1. 1. 1. 1. 1.]]\n",
            "-----------------------\n",
            "[1 1 1 1 1 1 1 1 1 1]\n",
            "-----------------------\n",
            "[[0.00000000e+000 1.03977794e-312 1.01855798e-312 9.54898106e-313\n",
            "  1.01855798e-312]\n",
            " [1.03977794e-312 1.23075756e-312 1.18831764e-312 1.01855798e-312\n",
            "  9.76118064e-313]\n",
            " [1.08221785e-312 1.03977794e-312 1.03977794e-312 2.22809558e-312\n",
            "  2.14321575e-312]]\n"
          ],
          "name": "stdout"
        }
      ]
    },
    {
      "cell_type": "code",
      "metadata": {
        "id": "SCpUf3EhEUL4"
      },
      "source": [
        ""
      ],
      "execution_count": null,
      "outputs": []
    },
    {
      "cell_type": "markdown",
      "metadata": {
        "id": "wW435BebHQdK"
      },
      "source": [
        "> something_like : 배열의 크기만큼 1, 0 또는 empty array를 반환"
      ]
    },
    {
      "cell_type": "code",
      "metadata": {
        "colab": {
          "base_uri": "https://localhost:8080/"
        },
        "id": "b4nYo988HQk5",
        "outputId": "a178d948-c145-49fc-f96a-430da289243e"
      },
      "source": [
        "test_matrix = np.arange(30).reshape(5, 6)\n",
        "print(np.ones_like(test_matrix))\n",
        "print(\"-----------------------\")\n",
        "print(np.zeros_like(test_matrix))\n",
        "print(\"-----------------------\")\n",
        "print(np.empty_like(test_matrix))   # 메모리에 이전 데이터가 남아서 나오는 것"
      ],
      "execution_count": null,
      "outputs": [
        {
          "output_type": "stream",
          "text": [
            "[[1 1 1 1 1 1]\n",
            " [1 1 1 1 1 1]\n",
            " [1 1 1 1 1 1]\n",
            " [1 1 1 1 1 1]\n",
            " [1 1 1 1 1 1]]\n",
            "-----------------------\n",
            "[[0 0 0 0 0 0]\n",
            " [0 0 0 0 0 0]\n",
            " [0 0 0 0 0 0]\n",
            " [0 0 0 0 0 0]\n",
            " [0 0 0 0 0 0]]\n",
            "-----------------------\n",
            "[[0 0 0 0 0 0]\n",
            " [0 0 0 0 0 0]\n",
            " [0 0 0 0 0 0]\n",
            " [0 0 0 0 0 0]\n",
            " [0 0 0 0 0 0]]\n"
          ],
          "name": "stdout"
        }
      ]
    },
    {
      "cell_type": "code",
      "metadata": {
        "id": "md6ln5QVHQnP"
      },
      "source": [
        ""
      ],
      "execution_count": null,
      "outputs": []
    },
    {
      "cell_type": "markdown",
      "metadata": {
        "id": "tsfEFpVMH027"
      },
      "source": [
        "> identity : 단위행렬  \n",
        "> eye : 대각선이 1 인 행렬  \n",
        "> diag : 대각 행렬의 값만 추출  \n",
        "> random sampling : 데이터 분포에 따른 sampling으로 array 생성"
      ]
    },
    {
      "cell_type": "code",
      "metadata": {
        "colab": {
          "base_uri": "https://localhost:8080/"
        },
        "id": "UkMAH7lHHQpz",
        "outputId": "c289cec8-59a2-4962-8374-6fa080b6b767"
      },
      "source": [
        "print(np.identity(n=3, dtype=np.int8))\n",
        "print(\"-----------------------\")\n",
        "print(np.eye(N=3, M=5, dtype=np.int8))    # N = row, M = column\n",
        "print(np.eye(3))\n",
        "print(np.eye(3, 5, k=2))                  # k = start index\n",
        "print(\"-----------------------\")\n",
        "test_matrix = np.arange(9).reshape(3, 3)\n",
        "print(np.diag(test_matrix))\n",
        "print(np.diag(test_matrix, k=1))          # k = start index\n",
        "print(\"-----------------------\")\n",
        "print(np.random.uniform(0, 1, 10).reshape(2, 5))  # 균등분포\n",
        "print(np.random.normal(0, 1, 10).reshape(2, 5))   # 정규분포\n",
        "print(\"-----------------------\")\n",
        "print(\"-----------------------\")"
      ],
      "execution_count": null,
      "outputs": [
        {
          "output_type": "stream",
          "text": [
            "[[1 0 0]\n",
            " [0 1 0]\n",
            " [0 0 1]]\n",
            "-----------------------\n",
            "[[1 0 0 0 0]\n",
            " [0 1 0 0 0]\n",
            " [0 0 1 0 0]]\n",
            "[[1. 0. 0.]\n",
            " [0. 1. 0.]\n",
            " [0. 0. 1.]]\n",
            "[[0. 0. 1. 0. 0.]\n",
            " [0. 0. 0. 1. 0.]\n",
            " [0. 0. 0. 0. 1.]]\n",
            "-----------------------\n",
            "[0 4 8]\n",
            "[1 5]\n",
            "-----------------------\n",
            "[[0.97671224 0.21682674 0.05484679 0.42893581 0.77431709]\n",
            " [0.54179584 0.10488044 0.16668692 0.06604285 0.44988771]]\n",
            "[[-0.83075038 -2.38584941 -0.37765315 -0.86225583  0.33888118]\n",
            " [-0.09918727  0.2971321   0.27273852  0.71839908 -1.18438599]]\n",
            "-----------------------\n",
            "-----------------------\n"
          ],
          "name": "stdout"
        }
      ]
    },
    {
      "cell_type": "code",
      "metadata": {
        "id": "GJSJGYwNHQsp"
      },
      "source": [
        ""
      ],
      "execution_count": null,
      "outputs": []
    },
    {
      "cell_type": "markdown",
      "metadata": {
        "id": "4CJMdP1EKDMG"
      },
      "source": [
        "> axis : 모든 operation function 을 실행할 때, 기준이 되는 dimension 축"
      ]
    },
    {
      "cell_type": "code",
      "metadata": {
        "colab": {
          "base_uri": "https://localhost:8080/"
        },
        "id": "HVdiIVWiHQu8",
        "outputId": "d4eb0889-5d55-4cd5-f4a8-7d3102f0e314"
      },
      "source": [
        "test_array = np.arange(1, 13).reshape(3, 4)\n",
        "print(test_array)\n",
        "print(\"-----------------------\")\n",
        "print(test_array.sum(axis=1))\n",
        "print(\"-----------------------\")\n",
        "print(test_array.sum(axis=0))"
      ],
      "execution_count": null,
      "outputs": [
        {
          "output_type": "stream",
          "text": [
            "[[ 1  2  3  4]\n",
            " [ 5  6  7  8]\n",
            " [ 9 10 11 12]]\n",
            "-----------------------\n",
            "[10 26 42]\n",
            "-----------------------\n",
            "[15 18 21 24]\n"
          ],
          "name": "stdout"
        }
      ]
    },
    {
      "cell_type": "code",
      "metadata": {
        "id": "VtEZIH4VKJ7H"
      },
      "source": [
        ""
      ],
      "execution_count": null,
      "outputs": []
    },
    {
      "cell_type": "markdown",
      "metadata": {
        "id": "3BQmm3fKLEzj"
      },
      "source": [
        "> concatenate : Numpy array를 합치는 함수"
      ]
    },
    {
      "cell_type": "code",
      "metadata": {
        "colab": {
          "base_uri": "https://localhost:8080/"
        },
        "id": "DwUCMsB7KJ9k",
        "outputId": "0306d972-b53a-4b9d-dbf3-23c01b8a477b"
      },
      "source": [
        "a = np.array([1, 2, 3])\n",
        "b = np.array([4, 5, 6])\n",
        "print(np.vstack((a, b)))\n",
        "print(\"-----------------------\")\n",
        "a = np.array([[1], [2], [3]])\n",
        "b = np.array([[4], [5], [6]])\n",
        "print(np.hstack((a, b)))\n",
        "print(\"-----------------------\")\n",
        "print(np.concatenate((a, b), axis=0))\n",
        "print(np.concatenate((a, b), axis=1))"
      ],
      "execution_count": null,
      "outputs": [
        {
          "output_type": "stream",
          "text": [
            "[[1 2 3]\n",
            " [4 5 6]]\n",
            "-----------------------\n",
            "[[1 4]\n",
            " [2 5]\n",
            " [3 6]]\n",
            "-----------------------\n",
            "[[1]\n",
            " [2]\n",
            " [3]\n",
            " [4]\n",
            " [5]\n",
            " [6]]\n",
            "[[1 4]\n",
            " [2 5]\n",
            " [3 6]]\n"
          ],
          "name": "stdout"
        }
      ]
    },
    {
      "cell_type": "code",
      "metadata": {
        "id": "ohQjku9NKJ_2"
      },
      "source": [
        ""
      ],
      "execution_count": null,
      "outputs": []
    },
    {
      "cell_type": "markdown",
      "metadata": {
        "id": "EZBEY1qGNEX9"
      },
      "source": [
        "> Numpy Performance  \n",
        "　-. 속도 : for loop < list comprehension < numpy"
      ]
    },
    {
      "cell_type": "code",
      "metadata": {
        "colab": {
          "base_uri": "https://localhost:8080/"
        },
        "id": "00H5k8s0KKCZ",
        "outputId": "165d8ab2-385a-4bf0-e937-a923ce385fcf"
      },
      "source": [
        "def sclar_vector_product(scalar, vector):\n",
        "  result = []\n",
        "  for value in vector:\n",
        "    result.append(scalar * value)\n",
        "  return result \n",
        "\n",
        "iternation_max = 100000000\n",
        "\n",
        "vector = list(range(iternation_max))\n",
        "scalar = 2\n",
        "\n",
        "%timeit sclar_vector_product(scalar, vector) # for loop을 이용한 성능\n",
        "%timeit [scalar * value for value in range(iternation_max)] # list comprehension을 이용한 성능\n",
        "%timeit np.arange(iternation_max) * scalar # numpy를 이용한 성능"
      ],
      "execution_count": null,
      "outputs": [
        {
          "output_type": "stream",
          "text": [
            "1 loop, best of 5: 15.1 s per loop\n",
            "1 loop, best of 5: 13.2 s per loop\n",
            "1 loop, best of 5: 327 ms per loop\n"
          ],
          "name": "stdout"
        }
      ]
    },
    {
      "cell_type": "code",
      "metadata": {
        "id": "omNq_3FnKKEV"
      },
      "source": [
        ""
      ],
      "execution_count": null,
      "outputs": []
    },
    {
      "cell_type": "markdown",
      "metadata": {
        "id": "HgkUzCBSNq0h"
      },
      "source": [
        "> All & Any"
      ]
    },
    {
      "cell_type": "code",
      "metadata": {
        "colab": {
          "base_uri": "https://localhost:8080/"
        },
        "id": "n6EGcicUNq-v",
        "outputId": "a9d72584-22be-40f5-cb18-98252c705ea8"
      },
      "source": [
        "a = np.arange(10)\n",
        "\n",
        "print(a > 5)\n",
        "print(\"-----------------------\")\n",
        "print(np.any(a > 5))    # any = 하나라도 조건에 만족하면 True\n",
        "print(np.any(a < 0))\n",
        "print(\"-----------------------\")\n",
        "print(np.all(a > 5))\n",
        "print(np.all(a < 10))   # all = 모두가 조건에 만족하면 True"
      ],
      "execution_count": null,
      "outputs": [
        {
          "output_type": "stream",
          "text": [
            "[False False False False False False  True  True  True  True]\n",
            "-----------------------\n",
            "True\n",
            "False\n",
            "-----------------------\n",
            "False\n",
            "True\n"
          ],
          "name": "stdout"
        }
      ]
    },
    {
      "cell_type": "code",
      "metadata": {
        "id": "fjGrnpFHOnQt"
      },
      "source": [
        ""
      ],
      "execution_count": null,
      "outputs": []
    },
    {
      "cell_type": "markdown",
      "metadata": {
        "id": "H6v7V8cSOnbr"
      },
      "source": [
        "> np.where : where(condition, TRUE, FALSE)"
      ]
    },
    {
      "cell_type": "code",
      "metadata": {
        "colab": {
          "base_uri": "https://localhost:8080/"
        },
        "id": "fDgpRIY1Onli",
        "outputId": "7f194598-3d04-4a68-ded5-1c7125248125"
      },
      "source": [
        "a = np.array([1, 3, 0], float)\n",
        "print(np.where(a > 0, 3, 6))\n",
        "\n",
        "a = np.arange(10)\n",
        "print(np.where(a > 5))    #Index 값 반환\n",
        "\n",
        "a = np.array([1, np.NaN, np.Inf], float)\n",
        "print(np.isnan(a))\n",
        "print(np.isfinite(a))"
      ],
      "execution_count": null,
      "outputs": [
        {
          "output_type": "stream",
          "text": [
            "[3 3 6]\n",
            "(array([6, 7, 8, 9]),)\n",
            "[False  True False]\n",
            "[ True False False]\n"
          ],
          "name": "stdout"
        }
      ]
    },
    {
      "cell_type": "code",
      "metadata": {
        "id": "Z0SWPl6IOnoA"
      },
      "source": [
        ""
      ],
      "execution_count": null,
      "outputs": []
    },
    {
      "cell_type": "markdown",
      "metadata": {
        "id": "ZEz5adfIP1KQ"
      },
      "source": [
        "> argmax & argmin : array 內 최대값 또는 최소값의 index를 반환 (axis 기반 반환)"
      ]
    },
    {
      "cell_type": "code",
      "metadata": {
        "colab": {
          "base_uri": "https://localhost:8080/"
        },
        "id": "kiEAcbJoOnqO",
        "outputId": "7abbce4a-58f9-4fa7-9d79-39d411ef14e8"
      },
      "source": [
        "a = np.array([1, 2, 4, 5, 8, 78, 23, 3])\n",
        "print(np.argmax(a))\n",
        "print(np.argmin(a))"
      ],
      "execution_count": null,
      "outputs": [
        {
          "output_type": "stream",
          "text": [
            "5\n",
            "0\n"
          ],
          "name": "stdout"
        }
      ]
    },
    {
      "cell_type": "code",
      "metadata": {
        "id": "gkv464H2Onsn"
      },
      "source": [
        ""
      ],
      "execution_count": null,
      "outputs": []
    },
    {
      "cell_type": "markdown",
      "metadata": {
        "id": "ajrMZ-8oQ2Jb"
      },
      "source": [
        "> boolean index : 특정 조건에 따른 값을 배열 형태로 추출"
      ]
    },
    {
      "cell_type": "code",
      "metadata": {
        "colab": {
          "base_uri": "https://localhost:8080/"
        },
        "id": "brHtAERyQ2TL",
        "outputId": "cf079e50-b8bf-4826-d978-90166d39fab2"
      },
      "source": [
        "test_array = np.array([1, 4, 0, 2, 3, 8, 9, 7], float)\n",
        "print(test_array > 3)\n",
        "\n",
        "print(test_array[test_array > 3])\n",
        "\n",
        "condition = test_array > 3\n",
        "print(test_array[condition])"
      ],
      "execution_count": null,
      "outputs": [
        {
          "output_type": "stream",
          "text": [
            "[False  True False False False  True  True  True]\n",
            "[4. 8. 9. 7.]\n",
            "[4. 8. 9. 7.]\n"
          ],
          "name": "stdout"
        }
      ]
    },
    {
      "cell_type": "code",
      "metadata": {
        "colab": {
          "base_uri": "https://localhost:8080/"
        },
        "id": "HYFaMHzMQ2Vb",
        "outputId": "0e35aeeb-7cf8-41c6-d0aa-664524e45a83"
      },
      "source": [
        "A = np.array([\n",
        "[12, 13, 14, 12, 16, 14, 11, 10,  9],\n",
        "[11, 14, 12, 15, 15, 16, 10, 12, 11],\n",
        "[10, 12, 12, 15, 14, 16, 10, 12, 12],\n",
        "[ 9, 11, 16, 15, 14, 16, 15, 12, 10],\n",
        "[12, 11, 16, 14, 10, 12, 16, 12, 13],\n",
        "[10, 15, 16, 14, 14, 14, 16, 15, 12],\n",
        "[13, 17, 14, 10, 14, 11, 14, 15, 10],\n",
        "[10, 16, 12, 14, 11, 12, 14, 18, 11],\n",
        "[10, 19, 12, 14, 11, 12, 14, 18, 10],\n",
        "[14, 22, 17, 19, 16, 17, 18, 17, 13],\n",
        "[10, 16, 12, 14, 11, 12, 14, 18, 11],\n",
        "[10, 16, 12, 14, 11, 12, 14, 18, 11],\n",
        "[10, 19, 12, 14, 11, 12, 14, 18, 10],\n",
        "[14, 22, 12, 14, 11, 12, 14, 17, 13],\n",
        "[10, 16, 12, 14, 11, 12, 14, 18, 11]])\n",
        "B = A < 15\n",
        "\n",
        "print(B)\n",
        "print(\"-----------------------\")\n",
        "print(B.astype(np.int))"
      ],
      "execution_count": null,
      "outputs": [
        {
          "output_type": "stream",
          "text": [
            "[[ True  True  True  True False  True  True  True  True]\n",
            " [ True  True  True False False False  True  True  True]\n",
            " [ True  True  True False  True False  True  True  True]\n",
            " [ True  True False False  True False False  True  True]\n",
            " [ True  True False  True  True  True False  True  True]\n",
            " [ True False False  True  True  True False False  True]\n",
            " [ True False  True  True  True  True  True False  True]\n",
            " [ True False  True  True  True  True  True False  True]\n",
            " [ True False  True  True  True  True  True False  True]\n",
            " [ True False False False False False False False  True]\n",
            " [ True False  True  True  True  True  True False  True]\n",
            " [ True False  True  True  True  True  True False  True]\n",
            " [ True False  True  True  True  True  True False  True]\n",
            " [ True False  True  True  True  True  True False  True]\n",
            " [ True False  True  True  True  True  True False  True]]\n",
            "-----------------------\n",
            "[[1 1 1 1 0 1 1 1 1]\n",
            " [1 1 1 0 0 0 1 1 1]\n",
            " [1 1 1 0 1 0 1 1 1]\n",
            " [1 1 0 0 1 0 0 1 1]\n",
            " [1 1 0 1 1 1 0 1 1]\n",
            " [1 0 0 1 1 1 0 0 1]\n",
            " [1 0 1 1 1 1 1 0 1]\n",
            " [1 0 1 1 1 1 1 0 1]\n",
            " [1 0 1 1 1 1 1 0 1]\n",
            " [1 0 0 0 0 0 0 0 1]\n",
            " [1 0 1 1 1 1 1 0 1]\n",
            " [1 0 1 1 1 1 1 0 1]\n",
            " [1 0 1 1 1 1 1 0 1]\n",
            " [1 0 1 1 1 1 1 0 1]\n",
            " [1 0 1 1 1 1 1 0 1]]\n"
          ],
          "name": "stdout"
        }
      ]
    },
    {
      "cell_type": "code",
      "metadata": {
        "id": "QwFtdm_9Q2Xs"
      },
      "source": [
        ""
      ],
      "execution_count": null,
      "outputs": []
    },
    {
      "cell_type": "markdown",
      "metadata": {
        "id": "OzqHN1JfSCXG"
      },
      "source": [
        "> fancy index : numpy는 array를 index value로 사용해서 값을 추출하는 방법"
      ]
    },
    {
      "cell_type": "code",
      "metadata": {
        "colab": {
          "base_uri": "https://localhost:8080/"
        },
        "id": "zd_8B7pZSCgL",
        "outputId": "704d7df7-91b0-4b9f-d95e-5fcfa4740bea"
      },
      "source": [
        "a = np.array([2, 4, 6, 8], float)\n",
        "b = np.array([0, 0, 1, 3, 2, 1], int)\n",
        "print(a[b])\n",
        "print(a.take(b))"
      ],
      "execution_count": null,
      "outputs": [
        {
          "output_type": "stream",
          "text": [
            "[2. 2. 4. 8. 6. 4.]\n",
            "[2. 2. 4. 8. 6. 4.]\n"
          ],
          "name": "stdout"
        }
      ]
    },
    {
      "cell_type": "code",
      "metadata": {
        "colab": {
          "base_uri": "https://localhost:8080/"
        },
        "id": "4nXlrytTSCi-",
        "outputId": "eadc9f92-f8ab-44a6-e861-43d425974df2"
      },
      "source": [
        "a = np.array([[1, 4], [9, 16]], float)\n",
        "b = np.array([0, 0, 1, 1, 0], int)\n",
        "c = np.array([0, 1, 1, 1, 1], int)\n",
        "a[b,c] # b를 row index, c를 column index로 변환하여 표시함"
      ],
      "execution_count": null,
      "outputs": [
        {
          "output_type": "execute_result",
          "data": {
            "text/plain": [
              "array([ 1.,  4., 16., 16.,  4.])"
            ]
          },
          "metadata": {
            "tags": []
          },
          "execution_count": 82
        }
      ]
    },
    {
      "cell_type": "code",
      "metadata": {
        "id": "ZW02K9F6Q2a6"
      },
      "source": [
        ""
      ],
      "execution_count": null,
      "outputs": []
    },
    {
      "cell_type": "markdown",
      "metadata": {
        "id": "pqM738miS0No"
      },
      "source": [
        "##1) Numpy / 벡터 & 행렬\n",
        "### 　B. 벡터가 뭐에요?"
      ]
    },
    {
      "cell_type": "markdown",
      "metadata": {
        "id": "DOUQVa-LroFp"
      },
      "source": [
        "> Vector  \n",
        "　-. 공간에서의 한 점을 나타냄  \n",
        "　-. 원점으로부터 상대적 위치를 표현  \n",
        "　-. 숫자를 곱해주면 길이만 변함  \n",
        "　-. 숫자를 원소로 가지는 리스트(list) 또는 배열(array)  "
      ]
    },
    {
      "cell_type": "code",
      "metadata": {
        "id": "X-7OPZBoS0VQ"
      },
      "source": [
        ""
      ],
      "execution_count": null,
      "outputs": []
    },
    {
      "cell_type": "markdown",
      "metadata": {
        "id": "6PAPf5Z_sose"
      },
      "source": [
        ">■ 노름(norm) : 원점에서부터의 거리  \n",
        "　-. L1 Norm : 각 성분 변화량의 절대값의 합  \n",
        "　-. L2 Norm : 피타고라스 정리를 이용해 유클리드 거리를 계산  \n",
        "\n",
        ">◎ 노름의 종류에 따라 기하학적 성질이 달라짐 (기계학습의 목적에 따라 설정)  \n",
        "　-. L1 Norm : Robust 학습, Lasso 회귀  \n",
        "　-. L2 Norm : Laplace 근사, Ridge 회귀  "
      ]
    },
    {
      "cell_type": "code",
      "metadata": {
        "id": "pAgPas_avlBN"
      },
      "source": [
        ""
      ],
      "execution_count": null,
      "outputs": []
    },
    {
      "cell_type": "markdown",
      "metadata": {
        "id": "D9Agn-xxvwDi"
      },
      "source": [
        "> 두 벡터 사이의 각도 구해보기 (단, L2 Norm 에서만 가능)  \n",
        "　-. 제 2 코사인 법칙 이용  \n",
        "　　→ 두 벡터간의 각도 : arccos( inner(x, y) / L2(x) * L2(y) )  \n",
        "　　→ 내적(inner) : 정사영된 벡터의 길이  \n",
        "　　　> 내적은 두 벡터의 유사도(similarity)를 측정하는데 사용 가능  "
      ]
    },
    {
      "cell_type": "code",
      "metadata": {
        "id": "GrP1BzTBS0aU"
      },
      "source": [
        ""
      ],
      "execution_count": null,
      "outputs": []
    },
    {
      "cell_type": "markdown",
      "metadata": {
        "id": "wRRBAPNAS37l"
      },
      "source": [
        "##1) Numpy / 벡터 & 행렬\n",
        "### 　C. 행렬이 뭐에요?"
      ]
    },
    {
      "cell_type": "markdown",
      "metadata": {
        "id": "fTSkCa8RDQp4"
      },
      "source": [
        "> 행렬(matrix) : 벡터를 원소로 가지는 2차원 배열  \n",
        "　※ numpy 에서는 행(row)이 기본 단위이다!!\n",
        "\n",
        "> 전치행렬(transpose matrix) : 행과 열을 바꾼 행렬 (우측 상단에 T 표시)  \n",
        "　-. Xij -> Xji"
      ]
    },
    {
      "cell_type": "markdown",
      "metadata": {
        "id": "dhSDB9trE5jK"
      },
      "source": [
        "> 행렬곱 : i번째 행벡터와 j번째 열벡터 사이의 내적을 성분으로 가지는 행렬을 계산  \n",
        "　-. numpy 에서는 @ 연산을 사용함"
      ]
    },
    {
      "cell_type": "markdown",
      "metadata": {
        "id": "_uOB9qnNGDNA"
      },
      "source": [
        ">※ 수학과 다르게 numpy의 inner 함수는 i번째 \"행벡터\"와 j번째 \"행벡터\" 사이의 내적을 함!!  \n",
        "　-. inner(x, y) 를 쓰면 수학적으로는 x * yT 를 계산한다고 보면 됨"
      ]
    },
    {
      "cell_type": "code",
      "metadata": {
        "id": "xTZ4gUZuS4Cx",
        "colab": {
          "base_uri": "https://localhost:8080/"
        },
        "outputId": "bdabb18e-13e4-43a5-b314-4de6ed0c980b"
      },
      "source": [
        "import numpy as np\n",
        "\n",
        "# x = 4 * 3\n",
        "x = np.array([[1, 2, 3],\n",
        "              [2, 3, 4],\n",
        "              [4, 5, 6],\n",
        "              [6, 7, 8]])\n",
        "\n",
        "# y = 2 * 3\n",
        "y = np.array([[1, 2, 3],\n",
        "              [2, 3, 4]])\n",
        "\n",
        "print(x.shape)\n",
        "print(y.shape)\n",
        "print()\n",
        "print(np.inner(x, y))"
      ],
      "execution_count": 8,
      "outputs": [
        {
          "output_type": "stream",
          "text": [
            "(4, 3)\n",
            "(2, 3)\n",
            "\n",
            "[[14 20]\n",
            " [20 29]\n",
            " [32 47]\n",
            " [44 65]]\n"
          ],
          "name": "stdout"
        }
      ]
    },
    {
      "cell_type": "code",
      "metadata": {
        "id": "V_J3h-wxS4Ef"
      },
      "source": [
        ""
      ],
      "execution_count": null,
      "outputs": []
    },
    {
      "cell_type": "markdown",
      "metadata": {
        "id": "e_GOkCV9Iee6"
      },
      "source": [
        "> 역행렬(inverse matrix) : 어떤 행렬 A의 연산을 거꾸로 되돌리는 행렬  \n",
        "　-. 조건 : 행과 열의 숫자가 같고, 행렬식(determinant)이 0이 아닌 경우에만 계산 가능  \n",
        "　-. AA-1 = A-1A = I (항등행렬)"
      ]
    },
    {
      "cell_type": "code",
      "metadata": {
        "id": "T7uNE_mwS4Gx",
        "colab": {
          "base_uri": "https://localhost:8080/"
        },
        "outputId": "3dd17866-9d8e-4abd-b0f6-b1c47df72b88"
      },
      "source": [
        "x = np.array([[1, -2, 3],\n",
        "              [7, 5, 0],\n",
        "              [-2, -1, 2]])\n",
        "\n",
        "print(np.linalg.inv(x))\n",
        "print()\n",
        "print(x @ np.linalg.inv(x))"
      ],
      "execution_count": 11,
      "outputs": [
        {
          "output_type": "stream",
          "text": [
            "[[ 0.21276596  0.0212766  -0.31914894]\n",
            " [-0.29787234  0.17021277  0.44680851]\n",
            " [ 0.06382979  0.10638298  0.40425532]]\n",
            "\n",
            "[[ 1.00000000e+00 -1.38777878e-17  0.00000000e+00]\n",
            " [-2.22044605e-16  1.00000000e+00 -5.55111512e-17]\n",
            " [-2.77555756e-17  0.00000000e+00  1.00000000e+00]]\n"
          ],
          "name": "stdout"
        }
      ]
    },
    {
      "cell_type": "code",
      "metadata": {
        "id": "SB0EGXOPS4JU"
      },
      "source": [
        ""
      ],
      "execution_count": null,
      "outputs": []
    },
    {
      "cell_type": "markdown",
      "metadata": {
        "id": "ORks-LB6JiEu"
      },
      "source": [
        ">※ 역행렬을 계산할 수 없다면 \"유사역행렬(pseudo-inverse)\" 또는 \"무어-펜로즈(Moore-Penrose)\" 역행렬 A+를 이용한다.  \n",
        "　-. 행과 열의 개수가 같지 않아도 계산 가능!  \n",
        "　-. 조건 1) 행이 열보다 더 클 경우 (n >= m)  \n",
        "　　→ A+ = (AT * A)-1 * AT  \n",
        "　-. 조건 2) 열이 행보다 더 클 경우 (n <= m)  \n",
        "　　→ A+ = AT * (A * AT)-1  \n",
        "※ 곱셈의 순서가 매우 중요!!!"
      ]
    },
    {
      "cell_type": "code",
      "metadata": {
        "colab": {
          "base_uri": "https://localhost:8080/"
        },
        "id": "mw5d6HkVJiMe",
        "outputId": "609deab2-4b9f-49dc-ca4f-4b3ccf231f99"
      },
      "source": [
        "y = np.array([[0, 1],\n",
        "              [1, -1],\n",
        "              [-2, 1]])\n",
        "print(np.linalg.pinv(y))\n",
        "print()\n",
        "print(np.linalg.pinv(y) @ y)"
      ],
      "execution_count": 13,
      "outputs": [
        {
          "output_type": "stream",
          "text": [
            "[[ 5.00000000e-01  4.09730229e-17 -5.00000000e-01]\n",
            " [ 8.33333333e-01 -3.33333333e-01 -1.66666667e-01]]\n",
            "\n",
            "[[ 1.00000000e+00 -2.22044605e-16]\n",
            " [ 5.55111512e-17  1.00000000e+00]]\n"
          ],
          "name": "stdout"
        }
      ]
    },
    {
      "cell_type": "code",
      "metadata": {
        "id": "K8_Uak1jJiO4"
      },
      "source": [
        ""
      ],
      "execution_count": null,
      "outputs": []
    },
    {
      "cell_type": "markdown",
      "metadata": {
        "id": "Z9gMuiZSNwTv"
      },
      "source": [
        "> 선형회귀 분석 : 유사 역행렬을 이용하여 찾을 수 있다.\n",
        "　-. 데이터(X)가 더 많기 때문에 행의 개수(n)가 열의 개수(m)보다 많다."
      ]
    },
    {
      "cell_type": "code",
      "metadata": {
        "id": "vD57e-0gJiRL"
      },
      "source": [
        "# #### Scikit Learn 을 활용한 회귀분석 (y절편 자동으로 고려해준다.)\n",
        "# from sklearn.linear_model import LinearRegression\n",
        "# model = LinearRegression()\n",
        "# model.fit(X, y)\n",
        "# y_test = model.predict(x_test)\n",
        "\n",
        "# #### Moore-Penrose 역행렬 (y절편 직접 고려해줘야 함.)\n",
        "# X_ = np.array(np.append(x, [1]) for x in X)   # intercept 항 추가\n",
        "# beta = np.linalg.pinv(X_) @ y\n",
        "# y_test = np.append(x, [1]) @ beta"
      ],
      "execution_count": null,
      "outputs": []
    },
    {
      "cell_type": "code",
      "metadata": {
        "id": "pLvZjvb3JiTN"
      },
      "source": [
        "  "
      ],
      "execution_count": null,
      "outputs": []
    },
    {
      "cell_type": "markdown",
      "metadata": {
        "id": "c8Ntq_iLRCCD"
      },
      "source": [
        "##2) 경사하강법\n",
        "### 　A. 경사하강법(순한맛)"
      ]
    },
    {
      "cell_type": "markdown",
      "metadata": {
        "id": "bPf--ZOn2yVN"
      },
      "source": [
        "> 미분(Differentiation) : 변수의 움직임에 따름 함수값의 변화량 (접선의 기울기)"
      ]
    },
    {
      "cell_type": "code",
      "metadata": {
        "colab": {
          "base_uri": "https://localhost:8080/"
        },
        "id": "LTGMxxPMRCJX",
        "outputId": "9bdc2a90-f028-41a9-ebc3-773a7cc2985c"
      },
      "source": [
        "# sympy를 이용하여 미분을 바로 구할 수 있다.\n",
        "\n",
        "import sympy as sym\n",
        "from sympy.abc import x\n",
        "\n",
        "print(sym.diff(sym.poly(x**2 + 2*x + 3), x))"
      ],
      "execution_count": 2,
      "outputs": [
        {
          "output_type": "stream",
          "text": [
            "Poly(2*x + 2, x, domain='ZZ')\n"
          ],
          "name": "stdout"
        }
      ]
    },
    {
      "cell_type": "code",
      "metadata": {
        "id": "_ocOZWWtRCNX"
      },
      "source": [
        ""
      ],
      "execution_count": null,
      "outputs": []
    },
    {
      "cell_type": "markdown",
      "metadata": {
        "id": "XggnRl6G4vt3"
      },
      "source": [
        "> 경사상승법(Gradient ascent) : 함수의 극대값의 위치를 구할 때 사용 (미분 값을 더한다.)  \n",
        "> 경사하강법(Gradient descent) : 함수의 극소값의 위치를 구할 때 사용 (미분 값을 빼준다.)"
      ]
    },
    {
      "cell_type": "markdown",
      "metadata": {
        "id": "4TDMX2H87i1c"
      },
      "source": [
        "> 벡터가 입력인 다변수 함수의 경우 편미분(partial differentiation)을 사용  \n",
        "> 각 변수 별로 편미분을 계산한 그레디언트(gradient) 벡터를 이용하여 경사하강/상승법에 사용할 수 있다."
      ]
    },
    {
      "cell_type": "code",
      "metadata": {
        "id": "OC5R6Ss_5NbA"
      },
      "source": [
        ""
      ],
      "execution_count": null,
      "outputs": []
    },
    {
      "cell_type": "markdown",
      "metadata": {
        "id": "nJHgLxymRIhp"
      },
      "source": [
        "##2) 경사하강법\n",
        "### 　B. 경사하강법(매운맛)"
      ]
    },
    {
      "cell_type": "code",
      "metadata": {
        "colab": {
          "base_uri": "https://localhost:8080/"
        },
        "id": "KMrAdnU8RCSg",
        "outputId": "75fa0189-7c7d-4956-d211-7468e9ceeb1e"
      },
      "source": [
        "import numpy as np\n",
        "\n",
        "X = np.array([[1, 1], [1, 2], [2, 2],[2, 3]])\n",
        "y = np.dot(X, np.array([1, 2])) + 3\n",
        "\n",
        "beta_gd = [10.1, 15.1, -6.5]\n",
        "X_ = np.array([np.append(x, [1]) for x in X])\n",
        "\n",
        "for t in range(5000):\n",
        "  error = y - X_ @ beta_gd\n",
        "  # error = error / np.linalg.norm(error)\n",
        "  grad = - np.transpose(X_) @ error\n",
        "  beta_gd = beta_gd - 0.01 * grad\n",
        "\n",
        "print(beta_gd)"
      ],
      "execution_count": 10,
      "outputs": [
        {
          "output_type": "stream",
          "text": [
            "[1.00000367 1.99999949 2.99999516]\n"
          ],
          "name": "stdout"
        }
      ]
    },
    {
      "cell_type": "code",
      "metadata": {
        "id": "HDKs1keSRCWh"
      },
      "source": [
        ""
      ],
      "execution_count": null,
      "outputs": []
    },
    {
      "cell_type": "markdown",
      "metadata": {
        "id": "12-M8poBDfaA"
      },
      "source": [
        "> 확률적 경사하강법(stochastic gradient descent) : 데이터 일부를 활용하여 업데이트  \n",
        "> 볼록이 아닌(non-convex) 목적식은 SGD를 통해 최적화 할 수 있다.  \n",
        "> SGD는 데이터 일부만 활용하기 때문에 연산자원을 좀 더 효율적으로 활용할 수 있다."
      ]
    },
    {
      "cell_type": "code",
      "metadata": {
        "id": "4jPhcirmDtjN"
      },
      "source": [
        ""
      ],
      "execution_count": null,
      "outputs": []
    }
  ]
}